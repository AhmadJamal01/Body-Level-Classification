{
 "cells": [
  {
   "cell_type": "code",
   "execution_count": 1,
   "metadata": {},
   "outputs": [],
   "source": [
    "import pandas as pd\n",
    "import pickle"
   ]
  },
  {
   "cell_type": "code",
   "execution_count": 10,
   "metadata": {},
   "outputs": [],
   "source": [
    "def perform_inference():\n",
    "    # Load the model\n",
    "    with open('model.pkl', 'rb') as f:\n",
    "        model = pickle.load(f)\n",
    "\n",
    "    # Load the test data\n",
    "    df = pd.read_csv('test.csv')\n",
    "\n",
    "    # df_test = convert_to_numerical(test_data)\n",
    "\n",
    "    features = ['Age', 'Height', 'Weight', 'Veg_Consump', 'Water_Consump', 'Meal_Count',\n",
    "       'Phys_Act', 'Time_E_Dev', 'Gender', 'H_Cal_Consump', 'Smoking',\n",
    "       'Fam_Hist', 'H_Cal_Burn', 'Alcohol_Consump_Sometimes',\n",
    "       'Alcohol_Consump_Frequently', 'Alcohol_Consump_Always',\n",
    "       'Alcohol_Consump_no', 'Food_Between_Meals_Sometimes',\n",
    "       'Food_Between_Meals_Frequently', 'Food_Between_Meals_no',\n",
    "       'Food_Between_Meals_Always', 'Transport_Public_Transportation',\n",
    "       'Transport_Motorbike', 'Transport_Bike', 'Transport_Automobile',\n",
    "       'Transport_Walking']\n",
    "\n",
    "    numerical_features = ['Age', 'Height', 'Weight', 'Veg_Consump', 'Water_Consump', 'Meal_Count', 'Phys_Act', 'Time_E_Dev']\n",
    "    df_numerical = pd.DataFrame()\n",
    "    df_numerical[numerical_features] = df[numerical_features]\n",
    "    df_numerical['Gender'] = df['Gender'].map({\"Female\" : 0, \"Male\" : 1})\n",
    "    binary_categorical_features = ['H_Cal_Consump', 'Smoking', 'Fam_Hist', 'H_Cal_Burn'] # Yes or no\n",
    "    for feature in binary_categorical_features:\n",
    "        df_numerical[feature] = df[feature].map({\"no\" : 0, \"yes\" : 1})\n",
    "    multi_categorical_features = ['Alcohol_Consump', 'Food_Between_Meals', 'Transport']\n",
    "    for feature in multi_categorical_features:\n",
    "        values = sorted(list(set(df[feature])))\n",
    "        for value in values:\n",
    "            df_numerical[feature+\"_\"+value] = df[feature].map(lambda x: 1 if x==value else 0)\n",
    "\n",
    "\n",
    "    # An extra step done for the validation set since it may not contain all the categories of a specific attribute due to its smaller size.\n",
    "    for feature in features:\n",
    "        if feature not in list(df_numerical.columns.array):\n",
    "            df_numerical[feature] = 0\n",
    "\n",
    "    df_numerical = df_numerical.reindex(sorted(df_numerical.columns), axis=1)\n",
    "    features = sorted(features)\n",
    "    \n",
    "    df_test = df_numerical\n",
    "    print(df_test.columns)\n",
    "    # Make predictions\n",
    "    preds = model.predict(df_test)\n",
    "\n",
    "    # Save predictions to a text file\n",
    "    with open('preds.txt', 'w') as f:\n",
    "        for pred in preds:\n",
    "            f.write(str(pred) + '\\n')"
   ]
  },
  {
   "cell_type": "code",
   "execution_count": 11,
   "metadata": {},
   "outputs": [
    {
     "name": "stdout",
     "output_type": "stream",
     "text": [
      "Index(['Age', 'Alcohol_Consump_Always', 'Alcohol_Consump_Frequently',\n",
      "       'Alcohol_Consump_Sometimes', 'Alcohol_Consump_no', 'Fam_Hist',\n",
      "       'Food_Between_Meals_Always', 'Food_Between_Meals_Frequently',\n",
      "       'Food_Between_Meals_Sometimes', 'Food_Between_Meals_no', 'Gender',\n",
      "       'H_Cal_Burn', 'H_Cal_Consump', 'Height', 'Meal_Count', 'Phys_Act',\n",
      "       'Smoking', 'Time_E_Dev', 'Transport_Automobile', 'Transport_Bike',\n",
      "       'Transport_Motorbike', 'Transport_Public_Transportation',\n",
      "       'Transport_Walking', 'Veg_Consump', 'Water_Consump', 'Weight'],\n",
      "      dtype='object')\n"
     ]
    }
   ],
   "source": [
    "perform_inference()"
   ]
  }
 ],
 "metadata": {
  "kernelspec": {
   "display_name": "Python 3",
   "language": "python",
   "name": "python3"
  },
  "language_info": {
   "codemirror_mode": {
    "name": "ipython",
    "version": 3
   },
   "file_extension": ".py",
   "mimetype": "text/x-python",
   "name": "python",
   "nbconvert_exporter": "python",
   "pygments_lexer": "ipython3",
   "version": "3.9.0"
  },
  "orig_nbformat": 4
 },
 "nbformat": 4,
 "nbformat_minor": 2
}
