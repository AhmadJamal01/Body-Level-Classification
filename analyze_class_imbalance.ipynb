{
 "cells": [
  {
   "cell_type": "code",
   "execution_count": 2,
   "metadata": {},
   "outputs": [],
   "source": [
    "import pandas as pd\n",
    "import numpy as np\n",
    "from scipy.stats import chi2_contingency\n",
    "from scipy.stats import f_oneway, kruskal\n",
    "import matplotlib.pyplot as plt\n",
    "from imblearn.over_sampling import RandomOverSampler\n",
    "from imblearn.under_sampling import RandomUnderSampler\n",
    "from imblearn.over_sampling import SMOTENC, SMOTE\n",
    "from sklearn.preprocessing import LabelEncoder\n",
    "from sklearn.feature_selection import SelectKBest, f_classif\n",
    "from gsmote import GeometricSMOTE"
   ]
  },
  {
   "attachments": {},
   "cell_type": "markdown",
   "metadata": {},
   "source": [
    "# Class Imbalance Analysis"
   ]
  },
  {
   "cell_type": "code",
   "execution_count": 3,
   "metadata": {},
   "outputs": [],
   "source": [
    "# Read the training data\n",
    "df = pd.read_csv('data/train.csv')"
   ]
  },
  {
   "cell_type": "code",
   "execution_count": 4,
   "metadata": {},
   "outputs": [
    {
     "data": {
      "text/html": [
       "<div>\n",
       "<style scoped>\n",
       "    .dataframe tbody tr th:only-of-type {\n",
       "        vertical-align: middle;\n",
       "    }\n",
       "\n",
       "    .dataframe tbody tr th {\n",
       "        vertical-align: top;\n",
       "    }\n",
       "\n",
       "    .dataframe thead th {\n",
       "        text-align: right;\n",
       "    }\n",
       "</style>\n",
       "<table border=\"1\" class=\"dataframe\">\n",
       "  <thead>\n",
       "    <tr style=\"text-align: right;\">\n",
       "      <th></th>\n",
       "      <th>Gender</th>\n",
       "      <th>Age</th>\n",
       "      <th>Height</th>\n",
       "      <th>Weight</th>\n",
       "      <th>H_Cal_Consump</th>\n",
       "      <th>Veg_Consump</th>\n",
       "      <th>Water_Consump</th>\n",
       "      <th>Alcohol_Consump</th>\n",
       "      <th>Smoking</th>\n",
       "      <th>Meal_Count</th>\n",
       "      <th>Food_Between_Meals</th>\n",
       "      <th>Fam_Hist</th>\n",
       "      <th>H_Cal_Burn</th>\n",
       "      <th>Phys_Act</th>\n",
       "      <th>Time_E_Dev</th>\n",
       "      <th>Transport</th>\n",
       "      <th>Body_Level</th>\n",
       "    </tr>\n",
       "  </thead>\n",
       "  <tbody>\n",
       "    <tr>\n",
       "      <th>0</th>\n",
       "      <td>Male</td>\n",
       "      <td>23.170309</td>\n",
       "      <td>1.707557</td>\n",
       "      <td>75.306702</td>\n",
       "      <td>yes</td>\n",
       "      <td>2.303367</td>\n",
       "      <td>1.277636</td>\n",
       "      <td>Sometimes</td>\n",
       "      <td>no</td>\n",
       "      <td>3.042774</td>\n",
       "      <td>Sometimes</td>\n",
       "      <td>yes</td>\n",
       "      <td>no</td>\n",
       "      <td>0.944982</td>\n",
       "      <td>0.366126</td>\n",
       "      <td>Public_Transportation</td>\n",
       "      <td>Body Level 3</td>\n",
       "    </tr>\n",
       "    <tr>\n",
       "      <th>1</th>\n",
       "      <td>Female</td>\n",
       "      <td>39.965474</td>\n",
       "      <td>1.739293</td>\n",
       "      <td>80.914382</td>\n",
       "      <td>yes</td>\n",
       "      <td>2.416044</td>\n",
       "      <td>1.352649</td>\n",
       "      <td>Sometimes</td>\n",
       "      <td>no</td>\n",
       "      <td>3.196043</td>\n",
       "      <td>Sometimes</td>\n",
       "      <td>no</td>\n",
       "      <td>no</td>\n",
       "      <td>0.148628</td>\n",
       "      <td>1.082660</td>\n",
       "      <td>Automobile</td>\n",
       "      <td>Body Level 3</td>\n",
       "    </tr>\n",
       "    <tr>\n",
       "      <th>2</th>\n",
       "      <td>Female</td>\n",
       "      <td>19.000000</td>\n",
       "      <td>1.650000</td>\n",
       "      <td>56.000000</td>\n",
       "      <td>yes</td>\n",
       "      <td>3.000000</td>\n",
       "      <td>3.000000</td>\n",
       "      <td>Frequently</td>\n",
       "      <td>yes</td>\n",
       "      <td>3.000000</td>\n",
       "      <td>Frequently</td>\n",
       "      <td>yes</td>\n",
       "      <td>yes</td>\n",
       "      <td>1.000000</td>\n",
       "      <td>2.000000</td>\n",
       "      <td>Public_Transportation</td>\n",
       "      <td>Body Level 2</td>\n",
       "    </tr>\n",
       "    <tr>\n",
       "      <th>3</th>\n",
       "      <td>Female</td>\n",
       "      <td>18.297229</td>\n",
       "      <td>1.637396</td>\n",
       "      <td>70.000000</td>\n",
       "      <td>yes</td>\n",
       "      <td>2.000000</td>\n",
       "      <td>2.326165</td>\n",
       "      <td>no</td>\n",
       "      <td>no</td>\n",
       "      <td>1.999014</td>\n",
       "      <td>Sometimes</td>\n",
       "      <td>yes</td>\n",
       "      <td>no</td>\n",
       "      <td>0.007050</td>\n",
       "      <td>0.000000</td>\n",
       "      <td>Public_Transportation</td>\n",
       "      <td>Body Level 3</td>\n",
       "    </tr>\n",
       "    <tr>\n",
       "      <th>4</th>\n",
       "      <td>Male</td>\n",
       "      <td>18.701766</td>\n",
       "      <td>1.704908</td>\n",
       "      <td>81.384224</td>\n",
       "      <td>yes</td>\n",
       "      <td>2.650629</td>\n",
       "      <td>1.708083</td>\n",
       "      <td>Sometimes</td>\n",
       "      <td>no</td>\n",
       "      <td>1.000000</td>\n",
       "      <td>Sometimes</td>\n",
       "      <td>yes</td>\n",
       "      <td>no</td>\n",
       "      <td>1.876051</td>\n",
       "      <td>0.938791</td>\n",
       "      <td>Public_Transportation</td>\n",
       "      <td>Body Level 3</td>\n",
       "    </tr>\n",
       "  </tbody>\n",
       "</table>\n",
       "</div>"
      ],
      "text/plain": [
       "   Gender        Age    Height     Weight H_Cal_Consump  Veg_Consump  \\\n",
       "0    Male  23.170309  1.707557  75.306702           yes     2.303367   \n",
       "1  Female  39.965474  1.739293  80.914382           yes     2.416044   \n",
       "2  Female  19.000000  1.650000  56.000000           yes     3.000000   \n",
       "3  Female  18.297229  1.637396  70.000000           yes     2.000000   \n",
       "4    Male  18.701766  1.704908  81.384224           yes     2.650629   \n",
       "\n",
       "   Water_Consump Alcohol_Consump Smoking  Meal_Count Food_Between_Meals  \\\n",
       "0       1.277636       Sometimes      no    3.042774          Sometimes   \n",
       "1       1.352649       Sometimes      no    3.196043          Sometimes   \n",
       "2       3.000000      Frequently     yes    3.000000         Frequently   \n",
       "3       2.326165              no      no    1.999014          Sometimes   \n",
       "4       1.708083       Sometimes      no    1.000000          Sometimes   \n",
       "\n",
       "  Fam_Hist H_Cal_Burn  Phys_Act  Time_E_Dev              Transport  \\\n",
       "0      yes         no  0.944982    0.366126  Public_Transportation   \n",
       "1       no         no  0.148628    1.082660             Automobile   \n",
       "2      yes        yes  1.000000    2.000000  Public_Transportation   \n",
       "3      yes         no  0.007050    0.000000  Public_Transportation   \n",
       "4      yes         no  1.876051    0.938791  Public_Transportation   \n",
       "\n",
       "     Body_Level  \n",
       "0  Body Level 3  \n",
       "1  Body Level 3  \n",
       "2  Body Level 2  \n",
       "3  Body Level 3  \n",
       "4  Body Level 3  "
      ]
     },
     "execution_count": 4,
     "metadata": {},
     "output_type": "execute_result"
    }
   ],
   "source": [
    "df.head(5)"
   ]
  },
  {
   "cell_type": "code",
   "execution_count": 5,
   "metadata": {},
   "outputs": [
    {
     "data": {
      "text/plain": [
       "Body Level 4    0.456922\n",
       "Body Level 3    0.274927\n",
       "Body Level 1    0.137464\n",
       "Body Level 2    0.130687\n",
       "Name: Body_Level, dtype: float64"
      ]
     },
     "execution_count": 5,
     "metadata": {},
     "output_type": "execute_result"
    }
   ],
   "source": [
    "# Display the count of every class in the dataset (Body_Level column)\n",
    "df['Body_Level'].value_counts() / len(df)"
   ]
  },
  {
   "attachments": {},
   "cell_type": "markdown",
   "metadata": {},
   "source": [
    "#### It's clear that there is a large class imbalance in the data. Next is analyzing the relationship between Body_Level & the various other features as well as attempting to solve that imbalance using multiple techniques"
   ]
  },
  {
   "attachments": {},
   "cell_type": "markdown",
   "metadata": {},
   "source": [
    "#### First - Analyze the relationship between Body_Level & the other features"
   ]
  },
  {
   "attachments": {},
   "cell_type": "markdown",
   "metadata": {},
   "source": [
    "I'll perform the Chi-squared test, which is used to determine if there is a significant association between two categorical variables. I use this to check the association between the Body_Level (categorical) and each of the other categorical features"
   ]
  },
  {
   "cell_type": "code",
   "execution_count": 6,
   "metadata": {},
   "outputs": [
    {
     "name": "stdout",
     "output_type": "stream",
     "text": [
      "Gender vs Body_Level: p-value = 0.0013\n",
      "H_Cal_Consump vs Body_Level: p-value = 0.0000\n",
      "Alcohol_Consump vs Body_Level: p-value = 0.0000\n",
      "Smoking vs Body_Level: p-value = 0.0015\n",
      "Food_Between_Meals vs Body_Level: p-value = 0.0000\n",
      "Fam_Hist vs Body_Level: p-value = 0.0000\n",
      "H_Cal_Burn vs Body_Level: p-value = 0.0000\n",
      "Transport vs Body_Level: p-value = 0.0000\n"
     ]
    }
   ],
   "source": [
    "categorical_columns = ['Gender', 'H_Cal_Consump', 'Alcohol_Consump', 'Smoking',\n",
    "                       'Food_Between_Meals', 'Fam_Hist', 'H_Cal_Burn', 'Transport']\n",
    "\n",
    "for col in categorical_columns:\n",
    "    contingency_table = pd.crosstab(df[col], df['Body_Level'])\n",
    "    chi2, p, dof, expected = chi2_contingency(contingency_table)\n",
    "    print(f\"{col} vs Body_Level: p-value = {p:.4f}\")"
   ]
  },
  {
   "attachments": {},
   "cell_type": "markdown",
   "metadata": {},
   "source": [
    "From the result it's clear there is a statistical relationship between the Body_Level and each of the categorical features. Next, I use the Cramér’s V measure to see the strength of that relationship.\n",
    "\n",
    "Cramér’s V is a measure of association between two categorical variables that ranges from 0 (no association) to 1 (perfect association)."
   ]
  },
  {
   "cell_type": "code",
   "execution_count": 7,
   "metadata": {},
   "outputs": [
    {
     "name": "stdout",
     "output_type": "stream",
     "text": [
      "Gender vs Body_Level: Cramér's V = 0.1112\n",
      "H_Cal_Consump vs Body_Level: Cramér's V = 0.2939\n",
      "Alcohol_Consump vs Body_Level: Cramér's V = 0.1205\n",
      "Smoking vs Body_Level: Cramér's V = 0.1094\n",
      "Food_Between_Meals vs Body_Level: Cramér's V = 0.3280\n",
      "Fam_Hist vs Body_Level: Cramér's V = 0.4738\n",
      "H_Cal_Burn vs Body_Level: Cramér's V = 0.2030\n",
      "Transport vs Body_Level: Cramér's V = 0.1196\n"
     ]
    }
   ],
   "source": [
    "# Calculate Cramér's V for pairs of categorical variables\n",
    "def cramers_v(x, y):\n",
    "    contingency_table = pd.crosstab(x, y)\n",
    "    chi2, _, _, _ = chi2_contingency(contingency_table)\n",
    "    n = contingency_table.sum().sum()\n",
    "    phi2 = chi2 / n\n",
    "    r, k = contingency_table.shape\n",
    "    phi2corr = max(0, phi2 - ((k-1)*(r-1))/(n-1))\n",
    "    rcorr = r - ((r-1)**2)/(n-1)\n",
    "    kcorr = k - ((k-1)**2)/(n-1)\n",
    "    return (phi2corr / min((kcorr-1), (rcorr-1)))**0.5\n",
    "\n",
    "for col in categorical_columns:\n",
    "    v = cramers_v(df[col], df['Body_Level'])\n",
    "    print(f\"{col} vs Body_Level: Cramér's V = {v:.4f}\")"
   ]
  },
  {
   "attachments": {},
   "cell_type": "markdown",
   "metadata": {},
   "source": [
    "From the results we can see that the most related feature is Fam_Hist followed by Food_Between_meals & H_Cal_Consump. Also, all the other features are related to some extent but not by a large margin (around 0.1 to 0.15)"
   ]
  },
  {
   "attachments": {},
   "cell_type": "markdown",
   "metadata": {},
   "source": [
    "Now I'll check and see if there's a relationship between each of the numerical features & Body_Level. I can't just use correlation because the Body_Level is a categorical feature. So, I'll have to resort to 2 methods ANOVA (Analysis of Variance) or Kruskal-Wallis test to determine if there is a significant difference in the mean values of a numerical feature across different levels of Body_Level.\n",
    "\n",
    "ANOVA is used to compare the means of a numerical variable across two or more groups.\n",
    "Kruskal-Wallis test is a non-parametric alternative to ANOVA that can be used when the assumptions of normality and homogeneity of variance are not met.\n",
    "\n",
    "This is similar to the chi-squared test in that they will output a p-value and if it's below 0.05, we reject the null hypothesis and conclude that there is a relationship between the features."
   ]
  },
  {
   "cell_type": "code",
   "execution_count": 8,
   "metadata": {},
   "outputs": [
    {
     "name": "stdout",
     "output_type": "stream",
     "text": [
      "Age: ANOVA p-value = 0.0000, Kruskal-Wallis p-value = 0.0000\n",
      "Height: ANOVA p-value = 0.0000, Kruskal-Wallis p-value = 0.0000\n",
      "Weight: ANOVA p-value = 0.0000, Kruskal-Wallis p-value = 0.0000\n",
      "Veg_Consump: ANOVA p-value = 0.0000, Kruskal-Wallis p-value = 0.0000\n",
      "Water_Consump: ANOVA p-value = 0.0002, Kruskal-Wallis p-value = 0.0000\n",
      "Meal_Count: ANOVA p-value = 0.0000, Kruskal-Wallis p-value = 0.0000\n",
      "Phys_Act: ANOVA p-value = 0.0000, Kruskal-Wallis p-value = 0.0000\n",
      "Time_E_Dev: ANOVA p-value = 0.0015, Kruskal-Wallis p-value = 0.0027\n"
     ]
    }
   ],
   "source": [
    "# List of numerical features\n",
    "numerical_features = ['Age', 'Height', 'Weight', 'Veg_Consump', 'Water_Consump',\n",
    "                      'Meal_Count', 'Phys_Act', 'Time_E_Dev']\n",
    "\n",
    "# Perform a one-way ANOVA and a Kruskal-Wallis test for each numerical feature\n",
    "for feature in numerical_features:\n",
    "    f_stat, f_p_value = f_oneway(df[feature][df['Body_Level'] == 'Body Level 1'],\n",
    "                                 df[feature][df['Body_Level'] == 'Body Level 2'],\n",
    "                                 df[feature][df['Body_Level'] == 'Body Level 3'],\n",
    "                                 df[feature][df['Body_Level'] == 'Body Level 4'])\n",
    "    h_stat, h_p_value = kruskal(df[feature][df['Body_Level'] == 'Body Level 1'],\n",
    "                                df[feature][df['Body_Level'] == 'Body Level 2'],\n",
    "                                df[feature][df['Body_Level'] == 'Body Level 3'],\n",
    "                                df[feature][df['Body_Level'] == 'Body Level 4'])\n",
    "    print(f\"{feature}: ANOVA p-value = {f_p_value:.4f}, Kruskal-Wallis p-value = {h_p_value:.4f}\")"
   ]
  },
  {
   "attachments": {},
   "cell_type": "markdown",
   "metadata": {},
   "source": [
    "The results suggest that there is a relationship between each of the numerical features & the Body_Level. I'll do this in two ways. First, converting the Body_Level to a numerical feature & calculating the correlation between them.\n",
    "\n",
    "Below I use two correlation coefficients: pearson & spearman. Pearson correlation coefficient measures the linear relationship between two variables, while Spearman correlation coefficient measures the monotonic relationship between two variables.\n",
    "\n",
    "Pearson is more appropriate if the data is normally distributed, otherwise Spearman is better. I use both."
   ]
  },
  {
   "cell_type": "code",
   "execution_count": 9,
   "metadata": {},
   "outputs": [
    {
     "name": "stdout",
     "output_type": "stream",
     "text": [
      "Age: correlation with Body_Level = 0.3355\n",
      "Height: correlation with Body_Level = 0.1082\n",
      "Weight: correlation with Body_Level = 0.8374\n",
      "Veg_Consump: correlation with Body_Level = 0.0936\n",
      "Water_Consump: correlation with Body_Level = 0.1249\n",
      "Meal_Count: correlation with Body_Level = -0.0993\n",
      "Phys_Act: correlation with Body_Level = -0.1699\n",
      "Time_E_Dev: correlation with Body_Level = -0.1206\n"
     ]
    }
   ],
   "source": [
    "body_level_map = {'Body Level 1': 1, 'Body Level 2': 2, 'Body Level 3': 3, 'Body Level 4': 4}\n",
    "df['Body_Level_Num'] = df['Body_Level'].map(body_level_map)\n",
    "\n",
    "for feature in numerical_features:\n",
    "    corr = df[[feature, 'Body_Level_Num']].corr(method='pearson') # or method='spearman'\n",
    "    print(f\"{feature}: correlation with Body_Level = {corr.iloc[0,1]:.4f}\")"
   ]
  },
  {
   "cell_type": "code",
   "execution_count": 10,
   "metadata": {},
   "outputs": [
    {
     "name": "stdout",
     "output_type": "stream",
     "text": [
      "Age: correlation with Body_Level = 0.4095\n",
      "Height: correlation with Body_Level = 0.1255\n",
      "Weight: correlation with Body_Level = 0.8805\n",
      "Veg_Consump: correlation with Body_Level = 0.1227\n",
      "Water_Consump: correlation with Body_Level = 0.1439\n",
      "Meal_Count: correlation with Body_Level = -0.1589\n",
      "Phys_Act: correlation with Body_Level = -0.1555\n",
      "Time_E_Dev: correlation with Body_Level = -0.1046\n"
     ]
    }
   ],
   "source": [
    "for feature in numerical_features:\n",
    "    corr = df[[feature, 'Body_Level_Num']].corr(method='spearman') # or method='pearson'\n",
    "    print(f\"{feature}: correlation with Body_Level = {corr.iloc[0,1]:.4f}\")"
   ]
  },
  {
   "attachments": {},
   "cell_type": "markdown",
   "metadata": {},
   "source": [
    "From the results, Weight has the strongest positive correlation (nearly 0.9) while the next best is Age (0.4). Phys_Act has the strongest negative correlation (-0.15).\n",
    "\n",
    "To confirm my results, I'll draw scatter plots for the Body_Level against the 2 best features (Weight & Age)"
   ]
  },
  {
   "cell_type": "code",
   "execution_count": 11,
   "metadata": {},
   "outputs": [
    {
     "data": {
      "image/png": "[encoded data removed]",
      "text/plain": [
       "<Figure size 432x288 with 1 Axes>"
      ]
     },
     "metadata": {
      "needs_background": "light"
     },
     "output_type": "display_data"
    }
   ],
   "source": [
    "plt.scatter(df['Weight'], df['Body_Level_Num'])\n",
    "plt.xlabel('Weight')\n",
    "plt.ylabel('Body_Level')\n",
    "plt.show()"
   ]
  },
  {
   "cell_type": "code",
   "execution_count": 12,
   "metadata": {},
   "outputs": [
    {
     "data": {
      "text/html": [
       "<div>\n",
       "<style scoped>\n",
       "    .dataframe tbody tr th:only-of-type {\n",
       "        vertical-align: middle;\n",
       "    }\n",
       "\n",
       "    .dataframe tbody tr th {\n",
       "        vertical-align: top;\n",
       "    }\n",
       "\n",
       "    .dataframe thead th {\n",
       "        text-align: right;\n",
       "    }\n",
       "</style>\n",
       "<table border=\"1\" class=\"dataframe\">\n",
       "  <thead>\n",
       "    <tr style=\"text-align: right;\">\n",
       "      <th></th>\n",
       "      <th>count</th>\n",
       "      <th>mean</th>\n",
       "      <th>std</th>\n",
       "      <th>min</th>\n",
       "      <th>25%</th>\n",
       "      <th>50%</th>\n",
       "      <th>75%</th>\n",
       "      <th>max</th>\n",
       "    </tr>\n",
       "    <tr>\n",
       "      <th>Body_Level</th>\n",
       "      <th></th>\n",
       "      <th></th>\n",
       "      <th></th>\n",
       "      <th></th>\n",
       "      <th></th>\n",
       "      <th></th>\n",
       "      <th></th>\n",
       "      <th></th>\n",
       "    </tr>\n",
       "  </thead>\n",
       "  <tbody>\n",
       "    <tr>\n",
       "      <th>Body Level 1</th>\n",
       "      <td>142.0</td>\n",
       "      <td>50.858330</td>\n",
       "      <td>6.262851</td>\n",
       "      <td>39.000000</td>\n",
       "      <td>45.452209</td>\n",
       "      <td>50.161731</td>\n",
       "      <td>54.994965</td>\n",
       "      <td>65.000000</td>\n",
       "    </tr>\n",
       "    <tr>\n",
       "      <th>Body Level 2</th>\n",
       "      <td>135.0</td>\n",
       "      <td>61.472593</td>\n",
       "      <td>9.901865</td>\n",
       "      <td>42.300000</td>\n",
       "      <td>53.000000</td>\n",
       "      <td>60.000000</td>\n",
       "      <td>68.500000</td>\n",
       "      <td>87.000000</td>\n",
       "    </tr>\n",
       "    <tr>\n",
       "      <th>Body Level 3</th>\n",
       "      <td>284.0</td>\n",
       "      <td>77.978903</td>\n",
       "      <td>9.365077</td>\n",
       "      <td>53.620604</td>\n",
       "      <td>70.000000</td>\n",
       "      <td>79.257263</td>\n",
       "      <td>85.000000</td>\n",
       "      <td>101.544589</td>\n",
       "    </tr>\n",
       "    <tr>\n",
       "      <th>Body Level 4</th>\n",
       "      <td>472.0</td>\n",
       "      <td>109.081861</td>\n",
       "      <td>17.293094</td>\n",
       "      <td>75.410647</td>\n",
       "      <td>99.512744</td>\n",
       "      <td>109.619180</td>\n",
       "      <td>120.257223</td>\n",
       "      <td>173.000000</td>\n",
       "    </tr>\n",
       "  </tbody>\n",
       "</table>\n",
       "</div>"
      ],
      "text/plain": [
       "              count        mean        std        min        25%         50%  \\\n",
       "Body_Level                                                                     \n",
       "Body Level 1  142.0   50.858330   6.262851  39.000000  45.452209   50.161731   \n",
       "Body Level 2  135.0   61.472593   9.901865  42.300000  53.000000   60.000000   \n",
       "Body Level 3  284.0   77.978903   9.365077  53.620604  70.000000   79.257263   \n",
       "Body Level 4  472.0  109.081861  17.293094  75.410647  99.512744  109.619180   \n",
       "\n",
       "                     75%         max  \n",
       "Body_Level                            \n",
       "Body Level 1   54.994965   65.000000  \n",
       "Body Level 2   68.500000   87.000000  \n",
       "Body Level 3   85.000000  101.544589  \n",
       "Body Level 4  120.257223  173.000000  "
      ]
     },
     "execution_count": 12,
     "metadata": {},
     "output_type": "execute_result"
    }
   ],
   "source": [
    "# Show, the min, max, mean, median, and standard deviation of the weight for each body level\n",
    "df.groupby('Body_Level')['Weight'].describe()"
   ]
  },
  {
   "cell_type": "code",
   "execution_count": 13,
   "metadata": {},
   "outputs": [
    {
     "data": {
      "image/png": "[encoded data removed]",
      "text/plain": [
       "<Figure size 432x288 with 1 Axes>"
      ]
     },
     "metadata": {
      "needs_background": "light"
     },
     "output_type": "display_data"
    }
   ],
   "source": [
    "plt.scatter(df['Age'], df['Body_Level_Num'])\n",
    "plt.xlabel('Age')\n",
    "plt.ylabel('Body_Level')\n",
    "plt.show()"
   ]
  },
  {
   "cell_type": "code",
   "execution_count": 14,
   "metadata": {},
   "outputs": [
    {
     "data": {
      "text/html": [
       "<div>\n",
       "<style scoped>\n",
       "    .dataframe tbody tr th:only-of-type {\n",
       "        vertical-align: middle;\n",
       "    }\n",
       "\n",
       "    .dataframe tbody tr th {\n",
       "        vertical-align: top;\n",
       "    }\n",
       "\n",
       "    .dataframe thead th {\n",
       "        text-align: right;\n",
       "    }\n",
       "</style>\n",
       "<table border=\"1\" class=\"dataframe\">\n",
       "  <thead>\n",
       "    <tr style=\"text-align: right;\">\n",
       "      <th></th>\n",
       "      <th>count</th>\n",
       "      <th>mean</th>\n",
       "      <th>std</th>\n",
       "      <th>min</th>\n",
       "      <th>25%</th>\n",
       "      <th>50%</th>\n",
       "      <th>75%</th>\n",
       "      <th>max</th>\n",
       "    </tr>\n",
       "    <tr>\n",
       "      <th>Body_Level</th>\n",
       "      <th></th>\n",
       "      <th></th>\n",
       "      <th></th>\n",
       "      <th></th>\n",
       "      <th></th>\n",
       "      <th></th>\n",
       "      <th></th>\n",
       "      <th></th>\n",
       "    </tr>\n",
       "  </thead>\n",
       "  <tbody>\n",
       "    <tr>\n",
       "      <th>Body Level 1</th>\n",
       "      <td>142.0</td>\n",
       "      <td>19.886904</td>\n",
       "      <td>2.631357</td>\n",
       "      <td>16.30687</td>\n",
       "      <td>18.000000</td>\n",
       "      <td>19.240360</td>\n",
       "      <td>21.305180</td>\n",
       "      <td>34.799519</td>\n",
       "    </tr>\n",
       "    <tr>\n",
       "      <th>Body Level 2</th>\n",
       "      <td>135.0</td>\n",
       "      <td>21.437037</td>\n",
       "      <td>4.144061</td>\n",
       "      <td>16.00000</td>\n",
       "      <td>19.000000</td>\n",
       "      <td>21.000000</td>\n",
       "      <td>23.000000</td>\n",
       "      <td>38.000000</td>\n",
       "    </tr>\n",
       "    <tr>\n",
       "      <th>Body Level 3</th>\n",
       "      <td>284.0</td>\n",
       "      <td>25.264562</td>\n",
       "      <td>7.558896</td>\n",
       "      <td>16.00000</td>\n",
       "      <td>19.793775</td>\n",
       "      <td>22.292333</td>\n",
       "      <td>29.939898</td>\n",
       "      <td>55.246250</td>\n",
       "    </tr>\n",
       "    <tr>\n",
       "      <th>Body Level 4</th>\n",
       "      <td>472.0</td>\n",
       "      <td>25.808619</td>\n",
       "      <td>6.061085</td>\n",
       "      <td>15.00000</td>\n",
       "      <td>21.635247</td>\n",
       "      <td>25.132013</td>\n",
       "      <td>27.414154</td>\n",
       "      <td>52.000000</td>\n",
       "    </tr>\n",
       "  </tbody>\n",
       "</table>\n",
       "</div>"
      ],
      "text/plain": [
       "              count       mean       std       min        25%        50%  \\\n",
       "Body_Level                                                                 \n",
       "Body Level 1  142.0  19.886904  2.631357  16.30687  18.000000  19.240360   \n",
       "Body Level 2  135.0  21.437037  4.144061  16.00000  19.000000  21.000000   \n",
       "Body Level 3  284.0  25.264562  7.558896  16.00000  19.793775  22.292333   \n",
       "Body Level 4  472.0  25.808619  6.061085  15.00000  21.635247  25.132013   \n",
       "\n",
       "                    75%        max  \n",
       "Body_Level                          \n",
       "Body Level 1  21.305180  34.799519  \n",
       "Body Level 2  23.000000  38.000000  \n",
       "Body Level 3  29.939898  55.246250  \n",
       "Body Level 4  27.414154  52.000000  "
      ]
     },
     "execution_count": 14,
     "metadata": {},
     "output_type": "execute_result"
    }
   ],
   "source": [
    "df.groupby('Body_Level')['Age'].describe()"
   ]
  },
  {
   "attachments": {},
   "cell_type": "markdown",
   "metadata": {},
   "source": [
    "From the results, it's clear that the visualizations as well as the statistics conform with the results from the correlation values. There is a clear correlation between the Weight & Body_Level (consistent increase in the mean values of the Weight moving through body levels). The same also applies to the Age feature but to a lesser degree (as shown by the correlation results) as the mean barely increases going from Body_Level 3 to Body_Level 4"
   ]
  },
  {
   "attachments": {},
   "cell_type": "markdown",
   "metadata": {},
   "source": [
    "### Now with all the information I have about the relationship between features, I'll attempt to solve the class imbalance problem once not taking into account the correlation between features that I just calculated and another while taking into account that correlation"
   ]
  },
  {
   "attachments": {},
   "cell_type": "markdown",
   "metadata": {},
   "source": [
    "I'll be using two methods, one is resampling & the other is synthetic data generation"
   ]
  },
  {
   "cell_type": "code",
   "execution_count": 27,
   "metadata": {},
   "outputs": [],
   "source": [
    "# Oversampling\n",
    "ros = RandomOverSampler(random_state=0)\n",
    "X_over_sampled_no_relationship, y_over_sampled_no_relationship = ros.fit_resample(df.drop(['Body_Level', 'Body_Level_Num'], axis=1), df['Body_Level'])\n",
    "\n",
    "# Undersampling\n",
    "rus = RandomUnderSampler(random_state=0)\n",
    "X_under_sampled_no_relationship, y_under_sampled_no_relationship = rus.fit_resample(df.drop(['Body_Level', 'Body_Level_Num'], axis=1), df['Body_Level'])\n",
    "\n",
    "# Save the oversampled and undersampled data\n",
    "pd.DataFrame(X_over_sampled_no_relationship).to_csv('data/class_Imbalance/X_over_sampled_no_relationship.csv', index=False)\n",
    "pd.DataFrame(y_over_sampled_no_relationship).to_csv('data/class_Imbalance/y_over_sampled_no_relationship.csv', index=False)\n",
    "pd.DataFrame(X_under_sampled_no_relationship).to_csv('data/class_Imbalance/X_under_sampled_no_relationship.csv', index=False)\n",
    "pd.DataFrame(y_under_sampled_no_relationship).to_csv('data/class_Imbalance/y_under_sampled_no_relationship.csv', index=False)"
   ]
  },
  {
   "cell_type": "code",
   "execution_count": 28,
   "metadata": {},
   "outputs": [],
   "source": [
    "categorical_features = ['Gender', 'H_Cal_Consump', 'Alcohol_Consump',\n",
    "                         'Smoking', 'Food_Between_Meals', 'Fam_Hist',\n",
    "                           'H_Cal_Burn', 'Phys_Act', 'Transport']\n",
    "\n",
    "categorical_indices = [df.columns.get_loc(feature) for feature in categorical_features]\n",
    "smotenc = SMOTENC(categorical_features=categorical_indices, random_state=0)\n",
    "\n",
    "X_SMOTENC_no_relationship, y_SMOTENC_no_relationship = smotenc.fit_resample(df.drop(['Body_Level', 'Body_Level_Num'], axis=1), df['Body_Level_Num'])\n",
    "\n",
    "# Save the SMOTE data\n",
    "pd.DataFrame(X_SMOTENC_no_relationship).to_csv('data/class_Imbalance/X_SMOTENC_no_relationship.csv', index=False)\n",
    "pd.DataFrame(y_SMOTENC_no_relationship).to_csv('data/class_Imbalance/y_SMOTENC_no_relationship.csv', index=False)"
   ]
  },
  {
   "cell_type": "code",
   "execution_count": 30,
   "metadata": {},
   "outputs": [
    {
     "name": "stderr",
     "output_type": "stream",
     "text": [
      "/home/jimbo/.local/lib/python3.8/site-packages/imblearn/utils/_validation.py:313: UserWarning: After over-sampling, the number of samples (53419) in class 1 will be larger than the number of samples in the majority class (class #4 -> 472)\n",
      "  warnings.warn(\n",
      "/home/jimbo/.local/lib/python3.8/site-packages/imblearn/utils/_validation.py:313: UserWarning: After over-sampling, the number of samples (50786) in class 2 will be larger than the number of samples in the majority class (class #4 -> 472)\n",
      "  warnings.warn(\n",
      "/home/jimbo/.local/lib/python3.8/site-packages/imblearn/utils/_validation.py:313: UserWarning: After over-sampling, the number of samples (106839) in class 3 will be larger than the number of samples in the majority class (class #4 -> 472)\n",
      "  warnings.warn(\n",
      "/home/jimbo/.local/lib/python3.8/site-packages/imblearn/utils/_validation.py:313: UserWarning: After over-sampling, the number of samples (177564) in class 4 will be larger than the number of samples in the majority class (class #4 -> 472)\n",
      "  warnings.warn(\n"
     ]
    }
   ],
   "source": [
    "from sklearn.feature_selection import SelectKBest, f_classif\n",
    "from sklearn.preprocessing import LabelEncoder\n",
    "from imblearn.over_sampling import SMOTE\n",
    "\n",
    "# Encode categorical features\n",
    "df_encoded = df.copy()\n",
    "categorical_features = ['Gender', 'H_Cal_Consump',\n",
    "                         'Alcohol_Consump', 'Smoking',\n",
    "                           'Food_Between_Meals', 'Fam_Hist',\n",
    "                             'H_Cal_Burn', 'Phys_Act', 'Transport']\n",
    "for feature in categorical_features:\n",
    "    le = LabelEncoder()\n",
    "    df_encoded[feature] = le.fit_transform(df_encoded[feature])\n",
    "\n",
    "# Use a feature selection method to assign importance scores to each feature\n",
    "selector = SelectKBest(f_classif, k='all')\n",
    "X_new = selector.fit_transform(df_encoded.drop(['Body_Level', 'Body_Level_Num'], axis=1), df_encoded['Body_Level_Num'])\n",
    "importance_scores = selector.scores_\n",
    "\n",
    "# Use the importance scores to guide the synthetic data generation process\n",
    "smote = SMOTE(random_state=0, sampling_strategy={level: int(np.mean([importance_scores[df.columns.get_loc(feature)] for feature in ['Weight', 'Age', 'Fam_Hist']]) * count) for level, count in zip(*np.unique(df['Body_Level_Num'], return_counts=True))})\n",
    "X_SMOTE_with_importance, Y_SMOTE_with_importance = smote.fit_resample(df_encoded.drop(['Body_Level', 'Body_Level_Num'], axis=1), df_encoded['Body_Level_Num'])\n",
    "\n",
    "# Save the SMOTE data\n",
    "pd.DataFrame(X_SMOTE_with_importance).to_csv('data/class_Imbalance/X_SMOTE_with_importance.csv', index=False)\n",
    "pd.DataFrame(Y_SMOTE_with_importance).to_csv('data/class_Imbalance/y_SMOTE_with_importance.csv', index=False)"
   ]
  },
  {
   "cell_type": "code",
   "execution_count": null,
   "metadata": {},
   "outputs": [],
   "source": []
  }
 ],
 "metadata": {
  "kernelspec": {
   "display_name": "Python 3",
   "language": "python",
   "name": "python3"
  },
  "language_info": {
   "codemirror_mode": {
    "name": "ipython",
    "version": 3
   },
   "file_extension": ".py",
   "mimetype": "text/x-python",
   "name": "python",
   "nbconvert_exporter": "python",
   "pygments_lexer": "ipython3",
   "version": "3.8.5"
  },
  "orig_nbformat": 4,
  "vscode": {
   "interpreter": {
    "hash": "0eefc6a63c6d719296cee5685f23fefb92aa63e2e9fdaf52ddbdc4ce266c7bb3"
   }
  }
 },
 "nbformat": 4,
 "nbformat_minor": 2
}
