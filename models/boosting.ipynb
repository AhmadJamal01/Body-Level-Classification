{
 "cells": [
  {
   "cell_type": "code",
   "execution_count": 3,
   "metadata": {},
   "outputs": [],
   "source": [
    "from sklearn.ensemble import AdaBoostClassifier\n",
    "from sklearn.tree import DecisionTreeClassifier\n",
    "from sklearn.model_selection import GridSearchCV\n",
    "from sklearn.model_selection import learning_curve\n",
    "import matplotlib.pyplot as plt\n",
    "import numpy as np\n",
    "import pandas as pd\n",
    "from sklearn.model_selection import train_test_split\n",
    "from sklearn.metrics import classification_report\n",
    "from sklearn.metrics import accuracy_score"
   ]
  },
  {
   "cell_type": "code",
   "execution_count": 6,
   "metadata": {},
   "outputs": [],
   "source": [
    "%run \"./../all_numerical_data.ipynb\""
   ]
  },
  {
   "cell_type": "code",
   "execution_count": 73,
   "metadata": {},
   "outputs": [
    {
     "data": {
      "text/plain": [
       "0    Body Level 3\n",
       "1    Body Level 3\n",
       "2    Body Level 2\n",
       "3    Body Level 3\n",
       "4    Body Level 3\n",
       "Name: Body_Level, dtype: object"
      ]
     },
     "execution_count": 73,
     "metadata": {},
     "output_type": "execute_result"
    }
   ],
   "source": [
    "x_train.head()\n",
    "y_train.head()  "
   ]
  },
  {
   "cell_type": "code",
   "execution_count": 74,
   "metadata": {},
   "outputs": [],
   "source": [
    "base_estimator = DecisionTreeClassifier()\n",
    "\n",
    "clf = AdaBoostClassifier(base_estimator=base_estimator)\n",
    "\n",
    "param_grid = {\n",
    "    'base_estimator__max_depth': [1, 2, 3, 4, 5],\n",
    "    'n_estimators': [10, 50, 100, 200],\n",
    "    'learning_rate': [0.1, 0.5, 1.0],\n",
    "    \n",
    "}\n",
    "\n",
    "grid_search = GridSearchCV(clf, param_grid=param_grid, cv=5)\n",
    "\n",
    "grid_search.fit(x_train, y_train.values.ravel())\n",
    "\n",
    "best_params = grid_search.best_params_\n"
   ]
  },
  {
   "cell_type": "code",
   "execution_count": 75,
   "metadata": {},
   "outputs": [
    {
     "name": "stdout",
     "output_type": "stream",
     "text": [
      "Best max_depth: 5\n",
      "Best n_estimators: 200\n",
      "Best learning_rate: 1.0\n",
      "Accuracy: 0.9831081081081081\n",
      "Precision:  0.9763853000287108\n",
      "Recall:  0.970264355742297\n",
      "F1-Score:  0.9730599749781335\n"
     ]
    }
   ],
   "source": [
    "max_depth = best_params['base_estimator__max_depth']\n",
    "n_estimators = best_params['n_estimators']\n",
    "learning_rate = best_params['learning_rate']\n",
    "print(f'Best max_depth: {max_depth}')\n",
    "print(f'Best n_estimators: {n_estimators}')\n",
    "print(f'Best learning_rate: {learning_rate}')\n",
    "\n",
    "base_estimator = DecisionTreeClassifier(max_depth=max_depth)\n",
    "\n",
    "clf = AdaBoostClassifier(base_estimator=base_estimator, n_estimators=n_estimators, learning_rate=learning_rate)\n",
    "clf.fit(x_train, y_train)\n",
    "y_pred = clf.predict(x_val)\n",
    "print(\"Accuracy:\", accuracy_score(y_val, y_pred))\n",
    "print('Precision: ', precision_score(y_val, y_pred, average='macro'))\n",
    "print('Recall: ', recall_score(y_val, y_pred, average='macro'))\n",
    "print('F1-Score: ', f1_score(y_val, y_pred, average='macro'))\n"
   ]
  },
  {
   "cell_type": "code",
   "execution_count": 76,
   "metadata": {},
   "outputs": [
    {
     "name": "stdout",
     "output_type": "stream",
     "text": [
      "              precision    recall  f1-score   support\n",
      "\n",
      "Body Level 1     1.0000    0.9412    0.9697        34\n",
      "Body Level 2     0.9302    0.9524    0.9412        42\n",
      "Body Level 3     0.9753    0.9875    0.9814        80\n",
      "Body Level 4     1.0000    1.0000    1.0000       140\n",
      "\n",
      "    accuracy                         0.9831       296\n",
      "   macro avg     0.9764    0.9703    0.9731       296\n",
      "weighted avg     0.9834    0.9831    0.9831       296\n",
      "\n"
     ]
    }
   ],
   "source": [
    "# compute the macro f1 score using classification report\n",
    "print(classification_report(y_val, y_pred, digits=4))"
   ]
  },
  {
   "cell_type": "code",
   "execution_count": 77,
   "metadata": {},
   "outputs": [
    {
     "data": {
      "image/png": "[encoded data removed]",
      "text/plain": [
       "<Figure size 432x288 with 1 Axes>"
      ]
     },
     "metadata": {
      "needs_background": "light"
     },
     "output_type": "display_data"
    }
   ],
   "source": [
    "X = np.concatenate((x_train, x_val), axis=0)\n",
    "y = np.concatenate((y_train, y_val), axis=0)\n",
    "train_sizes, train_scores, val_scores = learning_curve(clf, X, y, cv=5)\n",
    "train_error = 1 - train_scores\n",
    "val_error = 1 - val_scores\n",
    "\n",
    "# train_scores_mean = np.mean(train_scores, axis=1)\n",
    "# train_scores_std = np.std(train_scores, axis=1)\n",
    "# val_scores_mean = np.mean(val_scores, axis=1)\n",
    "# val_scores_std = np.std(val_scores, axis=1)\n",
    "\n",
    "# plt.fill_between(train_sizes, train_scores_mean - train_scores_std,\n",
    "#                  train_scores_mean + train_scores_std, alpha=0.1,\n",
    "#                  color=\"r\")\n",
    "# plt.fill_between(train_sizes, val_scores_mean - val_scores_std,\n",
    "#                  val_scores_mean + val_scores_std, alpha=0.1,\n",
    "#                  color=\"g\")\n",
    "# plt.plot(train_sizes, train_scores_mean, 'o-', color=\"b\",\n",
    "#          label=\"Training score\")\n",
    "# plt.plot(train_sizes, val_scores_mean, 'o-', color=\"r\",\n",
    "#          label=\"Cross-validation score\")\n",
    "# plt.xlabel('Number of Training Samples')\n",
    "# plt.ylabel('Accuracy Score')\n",
    "# plt.legend(loc=\"best\")\n",
    "# plt.show()\n",
    "\n",
    "train_error_mean = np.mean(train_error, axis=1)\n",
    "train_error_std = np.std(train_error, axis=1)\n",
    "val_error_mean = np.mean(val_error, axis=1)\n",
    "val_error_std = np.std(val_error, axis=1)\n",
    "\n",
    "plt.fill_between(train_sizes, train_error_mean - train_error_std,\n",
    "                    train_error_mean + train_error_std, alpha=0.1,\n",
    "                    color=\"b\")\n",
    "plt.fill_between(train_sizes, val_error_mean - val_error_std,\n",
    "                    val_error_mean + val_error_std, alpha=0.1,\n",
    "                    color=\"r\")\n",
    "plt.plot(train_sizes, train_error_mean, 'o-', color=\"b\",\n",
    "            label=\"Training error\")\n",
    "plt.plot(train_sizes, val_error_mean, 'o-', color=\"r\",\n",
    "            label=\"Cross-validation error\")\n",
    "plt.xlabel('Number of Training Samples')\n",
    "plt.ylabel('Error')\n",
    "plt.legend(loc=\"best\")\n",
    "plt.show()\n"
   ]
  },
  {
   "cell_type": "code",
   "execution_count": 78,
   "metadata": {},
   "outputs": [
    {
     "data": {
      "image/png": "[encoded data removed]",
      "text/plain": [
       "<Figure size 432x288 with 1 Axes>"
      ]
     },
     "metadata": {
      "needs_background": "light"
     },
     "output_type": "display_data"
    }
   ],
   "source": [
    "\n",
    "# Number of estimators to try\n",
    "n_estimators = range(1, 101)\n",
    "\n",
    "# Lists to store the training and validation errors\n",
    "train_errors = []\n",
    "val_errors = []\n",
    "\n",
    "for n in n_estimators:\n",
    "    # Create the AdaBoost classifier with a decision tree as the base classifier\n",
    "    base_estimator = DecisionTreeClassifier(max_depth=max_depth)\n",
    "    clf = AdaBoostClassifier(base_estimator=base_estimator, n_estimators=n, learning_rate=learning_rate)\n",
    "\n",
    "    \n",
    "    # Fit the classifier to the training data\n",
    "    clf.fit(x_train, y_train)\n",
    "    \n",
    "    # Make predictions on the training and validation data\n",
    "    train_pred = clf.predict(x_train)\n",
    "    val_pred = clf.predict(x_val)\n",
    "    \n",
    "    # Calculate the training and validation errors\n",
    "    train_error = 1 - accuracy_score(y_train, train_pred)\n",
    "    val_error = 1 - accuracy_score(y_val, val_pred)\n",
    "    \n",
    "    # Append the errors to the lists\n",
    "    train_errors.append(train_error)\n",
    "    val_errors.append(val_error)\n",
    "\n",
    "# Plot the training and validation errors against the number of estimators\n",
    "plt.plot(n_estimators, train_errors, label=\"Training Error\")\n",
    "plt.plot(n_estimators, val_errors, label=\"Validation Error\")\n",
    "plt.xlabel(\"Number of Estimators\")\n",
    "plt.ylabel(\"Error\")\n",
    "plt.legend()\n",
    "plt.show()"
   ]
  },
  {
   "cell_type": "code",
   "execution_count": 79,
   "metadata": {},
   "outputs": [],
   "source": [
    "# save the model as a pkl file\n",
    "import pickle\n",
    "with open('model.pkl', 'wb') as f:\n",
    "    pickle.dump(clf, f)"
   ]
  },
  {
   "cell_type": "code",
   "execution_count": 7,
   "metadata": {},
   "outputs": [],
   "source": [
    "final_df = pd.concat([x_train, x_val], axis=0)\n",
    "final_df_y = pd.concat([y_train, y_val], axis=0)"
   ]
  },
  {
   "cell_type": "code",
   "execution_count": 11,
   "metadata": {},
   "outputs": [
    {
     "data": {
      "text/plain": [
       "(1329,)"
      ]
     },
     "execution_count": 11,
     "metadata": {},
     "output_type": "execute_result"
    }
   ],
   "source": [
    "final_df_y.shape"
   ]
  },
  {
   "cell_type": "code",
   "execution_count": 10,
   "metadata": {},
   "outputs": [],
   "source": [
    "max_depth= 5\n",
    "n_estimators= 200\n",
    "learning_rate= 1.0\n",
    "base_estimator = DecisionTreeClassifier(max_depth=max_depth)"
   ]
  },
  {
   "cell_type": "code",
   "execution_count": 12,
   "metadata": {},
   "outputs": [
    {
     "data": {
      "text/plain": [
       "AdaBoostClassifier(base_estimator=DecisionTreeClassifier(max_depth=5),\n",
       "                   n_estimators=200)"
      ]
     },
     "execution_count": 12,
     "metadata": {},
     "output_type": "execute_result"
    }
   ],
   "source": [
    "final_clf = AdaBoostClassifier(base_estimator=base_estimator, n_estimators=n_estimators, learning_rate=learning_rate)\n",
    "final_clf.fit(final_df, final_df_y)"
   ]
  },
  {
   "cell_type": "code",
   "execution_count": 14,
   "metadata": {},
   "outputs": [],
   "source": [
    "# save the model as a pkl file\n",
    "import pickle\n",
    "with open('model.pkl', 'wb') as f:\n",
    "    pickle.dump(final_clf, f)\n",
    "    "
   ]
  }
 ],
 "metadata": {
  "kernelspec": {
   "display_name": "Python 3",
   "language": "python",
   "name": "python3"
  },
  "language_info": {
   "codemirror_mode": {
    "name": "ipython",
    "version": 3
   },
   "file_extension": ".py",
   "mimetype": "text/x-python",
   "name": "python",
   "nbconvert_exporter": "python",
   "pygments_lexer": "ipython3",
   "version": "3.9.0"
  },
  "orig_nbformat": 4
 },
 "nbformat": 4,
 "nbformat_minor": 2
}
