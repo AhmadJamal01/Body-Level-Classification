{
 "cells": [
  {
   "cell_type": "code",
   "execution_count": 1,
   "metadata": {},
   "outputs": [],
   "source": [
    "# Import packages\n",
    "import numpy as np\n",
    "import pandas as pd\n",
    "import seaborn as sns\n",
    "import matplotlib.pyplot as plt\n",
    "from sklearn.linear_model import LogisticRegression\n",
    "from sklearn.metrics import confusion_matrix\n",
    "from sklearn.metrics import accuracy_score, precision_score, recall_score, f1_score\n",
    "from sklearn.metrics import precision_recall_fscore_support as score"
   ]
  },
  {
   "cell_type": "code",
   "execution_count": 2,
   "metadata": {},
   "outputs": [],
   "source": [
    "# Importing data\n",
    "df = pd.read_csv('../data/train.csv')\n",
    "df_val = pd.read_csv('../data/val.csv')"
   ]
  },
  {
   "cell_type": "code",
   "execution_count": 3,
   "metadata": {},
   "outputs": [],
   "source": [
    "# Convert all categorical features to numerical ones.\n",
    "numerical_features = ['Age', 'Height', 'Weight', 'Veg_Consump', 'Water_Consump', 'Meal_Count', 'Phys_Act', 'Time_E_Dev']\n",
    "df_numerical = pd.DataFrame()\n",
    "df_numerical[numerical_features] = df[numerical_features]\n",
    "df_numerical['Gender'] = df['Gender'].map({\"Female\" : 0, \"Male\" : 1})\n",
    "binary_categorical_features = ['H_Cal_Consump', 'Smoking', 'Fam_Hist', 'H_Cal_Burn'] # Yes or no\n",
    "for feature in binary_categorical_features:\n",
    "    df_numerical[feature] = df[feature].map({\"no\" : 0, \"yes\" : 1})\n",
    "multi_categorical_features = ['Alcohol_Consump', 'Food_Between_Meals', 'Transport']\n",
    "for feature in multi_categorical_features:\n",
    "    values = (list(set(df[feature])))\n",
    "    for value in values:\n",
    "        df_numerical[feature+\"_\"+value] = df[feature].map(lambda x: 1 if x==value else 0)\n",
    "df_numerical['Body_Level'] = df['Body_Level']"
   ]
  },
  {
   "cell_type": "code",
   "execution_count": 4,
   "metadata": {},
   "outputs": [],
   "source": [
    "# Convert all categorical features to numerical ones. (for validation set)\n",
    "numerical_features = ['Age', 'Height', 'Weight', 'Veg_Consump', 'Water_Consump', 'Meal_Count', 'Phys_Act', 'Time_E_Dev']\n",
    "df_numerical_val = pd.DataFrame()\n",
    "df_numerical_val[numerical_features] = df_val[numerical_features]\n",
    "df_numerical_val['Gender'] = df_val['Gender'].map({\"Female\" : 0, \"Male\" : 1})\n",
    "binary_categorical_features = ['H_Cal_Consump', 'Smoking', 'Fam_Hist', 'H_Cal_Burn'] # Yes or no\n",
    "for feature in binary_categorical_features:\n",
    "    df_numerical_val[feature] = df_val[feature].map({\"no\" : 0, \"yes\" : 1})\n",
    "multi_categorical_features = ['Alcohol_Consump', 'Food_Between_Meals', 'Transport']\n",
    "for feature in multi_categorical_features:\n",
    "    values = (list(set(df_val[feature])))\n",
    "    for value in values:\n",
    "        df_numerical_val[feature+\"_\"+value] = df_val[feature].map(lambda x: 1 if x==value else 0)\n",
    "df_numerical_val['Body_Level'] = df_val['Body_Level']"
   ]
  },
  {
   "cell_type": "code",
   "execution_count": 5,
   "metadata": {},
   "outputs": [],
   "source": [
    "features = list(df_numerical.columns.array)\n",
    "features.reverse()\n",
    "label = features.pop(0)\n",
    "features.reverse()\n",
    "# An extra step done for the validation set since it may not contain all the categories of a specific attribute due to its smaller size.\n",
    "for feature in features:\n",
    "    if feature not in list(df_numerical_val.columns.array):\n",
    "        df_numerical_val[feature] = 0"
   ]
  },
  {
   "cell_type": "code",
   "execution_count": 6,
   "metadata": {},
   "outputs": [],
   "source": [
    "# Hyperparmeters:\n",
    "max_iter=500"
   ]
  },
  {
   "attachments": {},
   "cell_type": "markdown",
   "metadata": {},
   "source": [
    "### penalty='l2', max_iter=500, multi_class='ovr', solver='liblinear'"
   ]
  },
  {
   "cell_type": "code",
   "execution_count": 7,
   "metadata": {},
   "outputs": [
    {
     "name": "stdout",
     "output_type": "stream",
     "text": [
      "                0\n",
      "0    Body Level 1\n",
      "1    Body Level 1\n",
      "2    Body Level 4\n",
      "3    Body Level 4\n",
      "4    Body Level 3\n",
      "..            ...\n",
      "291  Body Level 4\n",
      "292  Body Level 3\n",
      "293  Body Level 3\n",
      "294  Body Level 4\n",
      "295  Body Level 3\n",
      "\n",
      "[296 rows x 1 columns]\n"
     ]
    }
   ],
   "source": [
    "# Training.\n",
    "LM_model = LogisticRegression(penalty='l2', max_iter=max_iter, multi_class='ovr', solver='liblinear')\n",
    "LM_model.fit(df_numerical[features],df_numerical['Body_Level'])\n",
    "\n",
    "# Prediction\n",
    "LM_pred = pd.DataFrame(LM_model.predict(df_numerical_val[features]))\n",
    "print(LM_pred)"
   ]
  },
  {
   "cell_type": "code",
   "execution_count": 8,
   "metadata": {},
   "outputs": [
    {
     "data": {
      "image/png": "[encoded data removed]",
      "text/plain": [
       "<Figure size 432x288 with 2 Axes>"
      ]
     },
     "metadata": {
      "needs_background": "light"
     },
     "output_type": "display_data"
    }
   ],
   "source": [
    "# Compute the confusion matrix.\n",
    "cm = confusion_matrix(df_numerical_val['Body_Level'],LM_pred)\n",
    "# Plot the confusion matrix.\n",
    "labels = list(set(df_numerical['Body_Level']))\n",
    "labels.sort()\n",
    "sns.heatmap(cm, annot=True, fmt='g', xticklabels=labels, yticklabels=labels)\n",
    "plt.ylabel('Prediction',fontsize=13)\n",
    "plt.xlabel('Actual',fontsize=13)\n",
    "plt.title('Confusion Matrix',fontsize=17)\n",
    "plt.show()"
   ]
  },
  {
   "cell_type": "code",
   "execution_count": 9,
   "metadata": {},
   "outputs": [
    {
     "name": "stdout",
     "output_type": "stream",
     "text": [
      "Accuracy   : 0.847972972972973\n",
      "Precision : [0.80487805 0.88888889 0.76829268 0.89677419] Macro Precision : 0.8397084535361483\n",
      "Recall    : [0.97058824 0.38095238 0.7875     0.99285714] Macro Recall    : 0.7829744397759104\n",
      "F1-score  : [0.88       0.53333333 0.77777778 0.94237288] Macro F1-score  : 0.7833709981167608\n",
      "Support  : [ 34  42  80 140] Macro Support  : 74.0\n"
     ]
    }
   ],
   "source": [
    "# Finding the accuracy.\n",
    "accuracy = accuracy_score(df_numerical_val['Body_Level'],LM_pred)\n",
    "print(\"Accuracy   :\", accuracy)\n",
    "\n",
    "# Finding precision and recall\n",
    "precision, recall, F1_score, support = score(df_numerical_val['Body_Level'],LM_pred)\n",
    "print(\"Precision :\", precision, \"Macro Precision :\", sum(precision)/len(precision))\n",
    "print(\"Recall    :\", recall, \"Macro Recall    :\", sum(recall)/len(recall))\n",
    "print(\"F1-score  :\", F1_score, \"Macro F1-score  :\", sum(F1_score)/len(F1_score))\n",
    "print(\"Support  :\", support, \"Macro Support  :\", sum(support)/len(support))"
   ]
  },
  {
   "attachments": {},
   "cell_type": "markdown",
   "metadata": {},
   "source": [
    "### penalty='l2', max_iter=500, multi_class='ovr', solver='lbfgs'"
   ]
  },
  {
   "cell_type": "code",
   "execution_count": 10,
   "metadata": {},
   "outputs": [
    {
     "name": "stderr",
     "output_type": "stream",
     "text": [
      "d:\\Anaconda\\lib\\site-packages\\sklearn\\linear_model\\_logistic.py:940: ConvergenceWarning: lbfgs failed to converge (status=1):\n",
      "STOP: TOTAL NO. of ITERATIONS REACHED LIMIT.\n",
      "\n",
      "Increase the number of iterations (max_iter) or scale the data as shown in:\n",
      "    https://scikit-learn.org/stable/modules/preprocessing.html\n",
      "Please also refer to the documentation for alternative solver options:\n",
      "    https://scikit-learn.org/stable/modules/linear_model.html#logistic-regression\n",
      "  extra_warning_msg=_LOGISTIC_SOLVER_CONVERGENCE_MSG)\n"
     ]
    },
    {
     "name": "stdout",
     "output_type": "stream",
     "text": [
      "                0\n",
      "0    Body Level 1\n",
      "1    Body Level 1\n",
      "2    Body Level 4\n",
      "3    Body Level 2\n",
      "4    Body Level 3\n",
      "..            ...\n",
      "291  Body Level 4\n",
      "292  Body Level 3\n",
      "293  Body Level 3\n",
      "294  Body Level 4\n",
      "295  Body Level 2\n",
      "\n",
      "[296 rows x 1 columns]\n"
     ]
    },
    {
     "name": "stderr",
     "output_type": "stream",
     "text": [
      "d:\\Anaconda\\lib\\site-packages\\sklearn\\linear_model\\_logistic.py:940: ConvergenceWarning: lbfgs failed to converge (status=1):\n",
      "STOP: TOTAL NO. of ITERATIONS REACHED LIMIT.\n",
      "\n",
      "Increase the number of iterations (max_iter) or scale the data as shown in:\n",
      "    https://scikit-learn.org/stable/modules/preprocessing.html\n",
      "Please also refer to the documentation for alternative solver options:\n",
      "    https://scikit-learn.org/stable/modules/linear_model.html#logistic-regression\n",
      "  extra_warning_msg=_LOGISTIC_SOLVER_CONVERGENCE_MSG)\n"
     ]
    }
   ],
   "source": [
    "# Training.\n",
    "LM_model = LogisticRegression(penalty='l2', max_iter=max_iter, multi_class='ovr', solver='lbfgs')\n",
    "LM_model.fit(df_numerical[features],df_numerical['Body_Level'])\n",
    "\n",
    "# Prediction\n",
    "LM_pred = pd.DataFrame(LM_model.predict(df_numerical_val[features]))\n",
    "print(LM_pred)"
   ]
  },
  {
   "cell_type": "code",
   "execution_count": 11,
   "metadata": {},
   "outputs": [
    {
     "data": {
      "image/png": "[encoded data removed]",
      "text/plain": [
       "<Figure size 432x288 with 2 Axes>"
      ]
     },
     "metadata": {
      "needs_background": "light"
     },
     "output_type": "display_data"
    }
   ],
   "source": [
    "# Compute the confusion matrix.\n",
    "cm = confusion_matrix(df_numerical_val['Body_Level'],LM_pred)\n",
    "# Plot the confusion matrix.\n",
    "labels = list(set(df_numerical['Body_Level']))\n",
    "labels.sort()\n",
    "sns.heatmap(cm, annot=True, fmt='g', xticklabels=labels, yticklabels=labels)\n",
    "plt.ylabel('Prediction',fontsize=13)\n",
    "plt.xlabel('Actual',fontsize=13)\n",
    "plt.title('Confusion Matrix',fontsize=17)\n",
    "plt.show()"
   ]
  },
  {
   "cell_type": "code",
   "execution_count": 12,
   "metadata": {},
   "outputs": [
    {
     "name": "stdout",
     "output_type": "stream",
     "text": [
      "Accuracy   : 0.8412162162162162\n",
      "Precision : [0.825      0.76190476 0.74117647 0.91333333] Macro Precision : 0.8103536414565826\n",
      "Recall    : [0.97058824 0.38095238 0.7875     0.97857143] Macro Recall    : 0.7794030112044819\n",
      "F1-score  : [0.89189189 0.50793651 0.76363636 0.94482759] Macro F1-score  : 0.777073087417915\n",
      "Support  : [ 34  42  80 140] Macro Support  : 74.0\n"
     ]
    }
   ],
   "source": [
    "# Finding the accuracy.\n",
    "accuracy = accuracy_score(df_numerical_val['Body_Level'],LM_pred)\n",
    "print(\"Accuracy   :\", accuracy)\n",
    "\n",
    "# Finding precision and recall\n",
    "precision, recall, F1_score, support = score(df_numerical_val['Body_Level'],LM_pred)\n",
    "print(\"Precision :\", precision, \"Macro Precision :\", sum(precision)/len(precision))\n",
    "print(\"Recall    :\", recall, \"Macro Recall    :\", sum(recall)/len(recall))\n",
    "print(\"F1-score  :\", F1_score, \"Macro F1-score  :\", sum(F1_score)/len(F1_score))\n",
    "print(\"Support  :\", support, \"Macro Support  :\", sum(support)/len(support))"
   ]
  },
  {
   "attachments": {},
   "cell_type": "markdown",
   "metadata": {},
   "source": [
    "### penalty='l2', max_iter=500, multi_class='ovr', solver='newton-cg'"
   ]
  },
  {
   "cell_type": "code",
   "execution_count": 13,
   "metadata": {},
   "outputs": [
    {
     "name": "stdout",
     "output_type": "stream",
     "text": [
      "                0\n",
      "0    Body Level 1\n",
      "1    Body Level 1\n",
      "2    Body Level 4\n",
      "3    Body Level 2\n",
      "4    Body Level 3\n",
      "..            ...\n",
      "291  Body Level 4\n",
      "292  Body Level 3\n",
      "293  Body Level 3\n",
      "294  Body Level 4\n",
      "295  Body Level 2\n",
      "\n",
      "[296 rows x 1 columns]\n"
     ]
    }
   ],
   "source": [
    "# Training.\n",
    "LM_model = LogisticRegression(penalty='l2', max_iter=max_iter, multi_class='ovr', solver='newton-cg')\n",
    "LM_model.fit(df_numerical[features],df_numerical['Body_Level'])\n",
    "\n",
    "# Prediction\n",
    "LM_pred = pd.DataFrame(LM_model.predict(df_numerical_val[features]))\n",
    "print(LM_pred)"
   ]
  },
  {
   "cell_type": "code",
   "execution_count": 14,
   "metadata": {},
   "outputs": [
    {
     "data": {
      "image/png": "[encoded data removed]",
      "text/plain": [
       "<Figure size 432x288 with 2 Axes>"
      ]
     },
     "metadata": {
      "needs_background": "light"
     },
     "output_type": "display_data"
    }
   ],
   "source": [
    "# Compute the confusion matrix.\n",
    "cm = confusion_matrix(df_numerical_val['Body_Level'],LM_pred)\n",
    "# Plot the confusion matrix.\n",
    "labels = list(set(df_numerical['Body_Level']))\n",
    "labels.sort()\n",
    "sns.heatmap(cm, annot=True, fmt='g', xticklabels=labels, yticklabels=labels)\n",
    "plt.ylabel('Prediction',fontsize=13)\n",
    "plt.xlabel('Actual',fontsize=13)\n",
    "plt.title('Confusion Matrix',fontsize=17)\n",
    "plt.show()"
   ]
  },
  {
   "cell_type": "code",
   "execution_count": 15,
   "metadata": {},
   "outputs": [
    {
     "name": "stdout",
     "output_type": "stream",
     "text": [
      "Accuracy   : 0.8412162162162162\n",
      "Precision : [0.825      0.76190476 0.74117647 0.91333333] Macro Precision : 0.8103536414565826\n",
      "Recall    : [0.97058824 0.38095238 0.7875     0.97857143] Macro Recall    : 0.7794030112044819\n",
      "F1-score  : [0.89189189 0.50793651 0.76363636 0.94482759] Macro F1-score  : 0.777073087417915\n",
      "Support  : [ 34  42  80 140] Macro Support  : 74.0\n"
     ]
    }
   ],
   "source": [
    "# Finding the accuracy.\n",
    "accuracy = accuracy_score(df_numerical_val['Body_Level'],LM_pred)\n",
    "print(\"Accuracy   :\", accuracy)\n",
    "\n",
    "# Finding precision and recall\n",
    "precision, recall, F1_score, support = score(df_numerical_val['Body_Level'],LM_pred)\n",
    "print(\"Precision :\", precision, \"Macro Precision :\", sum(precision)/len(precision))\n",
    "print(\"Recall    :\", recall, \"Macro Recall    :\", sum(recall)/len(recall))\n",
    "print(\"F1-score  :\", F1_score, \"Macro F1-score  :\", sum(F1_score)/len(F1_score))\n",
    "print(\"Support  :\", support, \"Macro Support  :\", sum(support)/len(support))"
   ]
  },
  {
   "attachments": {},
   "cell_type": "markdown",
   "metadata": {},
   "source": [
    "### penalty='l2', max_iter=500, multi_class='ovr', solver='sag'"
   ]
  },
  {
   "cell_type": "code",
   "execution_count": 16,
   "metadata": {},
   "outputs": [
    {
     "name": "stderr",
     "output_type": "stream",
     "text": [
      "d:\\Anaconda\\lib\\site-packages\\sklearn\\linear_model\\_sag.py:330: ConvergenceWarning: The max_iter was reached which means the coef_ did not converge\n",
      "  \"the coef_ did not converge\", ConvergenceWarning)\n",
      "d:\\Anaconda\\lib\\site-packages\\sklearn\\linear_model\\_sag.py:330: ConvergenceWarning: The max_iter was reached which means the coef_ did not converge\n",
      "  \"the coef_ did not converge\", ConvergenceWarning)\n",
      "d:\\Anaconda\\lib\\site-packages\\sklearn\\linear_model\\_sag.py:330: ConvergenceWarning: The max_iter was reached which means the coef_ did not converge\n",
      "  \"the coef_ did not converge\", ConvergenceWarning)\n"
     ]
    },
    {
     "name": "stdout",
     "output_type": "stream",
     "text": [
      "                0\n",
      "0    Body Level 1\n",
      "1    Body Level 1\n",
      "2    Body Level 4\n",
      "3    Body Level 4\n",
      "4    Body Level 3\n",
      "..            ...\n",
      "291  Body Level 4\n",
      "292  Body Level 3\n",
      "293  Body Level 4\n",
      "294  Body Level 4\n",
      "295  Body Level 3\n",
      "\n",
      "[296 rows x 1 columns]\n"
     ]
    },
    {
     "name": "stderr",
     "output_type": "stream",
     "text": [
      "d:\\Anaconda\\lib\\site-packages\\sklearn\\linear_model\\_sag.py:330: ConvergenceWarning: The max_iter was reached which means the coef_ did not converge\n",
      "  \"the coef_ did not converge\", ConvergenceWarning)\n"
     ]
    }
   ],
   "source": [
    "# Training.\n",
    "LM_model = LogisticRegression(penalty='l2', max_iter=max_iter, multi_class='ovr', solver='sag')\n",
    "LM_model.fit(df_numerical[features],df_numerical['Body_Level'])\n",
    "\n",
    "# Prediction\n",
    "LM_pred = pd.DataFrame(LM_model.predict(df_numerical_val[features]))\n",
    "print(LM_pred)"
   ]
  },
  {
   "cell_type": "code",
   "execution_count": 17,
   "metadata": {},
   "outputs": [
    {
     "data": {
      "image/png": "[encoded data removed]",
      "text/plain": [
       "<Figure size 432x288 with 2 Axes>"
      ]
     },
     "metadata": {
      "needs_background": "light"
     },
     "output_type": "display_data"
    }
   ],
   "source": [
    "# Compute the confusion matrix.\n",
    "cm = confusion_matrix(df_numerical_val['Body_Level'],LM_pred)\n",
    "# Plot the confusion matrix.\n",
    "labels = list(set(df_numerical['Body_Level']))\n",
    "labels.sort()\n",
    "sns.heatmap(cm, annot=True, fmt='g', xticklabels=labels, yticklabels=labels)\n",
    "plt.ylabel('Prediction',fontsize=13)\n",
    "plt.xlabel('Actual',fontsize=13)\n",
    "plt.title('Confusion Matrix',fontsize=17)\n",
    "plt.show()"
   ]
  },
  {
   "cell_type": "code",
   "execution_count": 18,
   "metadata": {},
   "outputs": [
    {
     "name": "stdout",
     "output_type": "stream",
     "text": [
      "Accuracy   : 0.7297297297297297\n",
      "Precision : [0.76315789 0.76923077 0.57142857 0.80124224] Macro Precision : 0.7262648678552569\n",
      "Recall    : [0.85294118 0.23809524 0.6        0.92142857] Macro Recall    : 0.6531162464985993\n",
      "F1-score  : [0.80555556 0.36363636 0.58536585 0.85714286] Macro F1-score  : 0.6529251574983282\n",
      "Support  : [ 34  42  80 140] Macro Support  : 74.0\n"
     ]
    }
   ],
   "source": [
    "# Finding the accuracy.\n",
    "accuracy = accuracy_score(df_numerical_val['Body_Level'],LM_pred)\n",
    "print(\"Accuracy   :\", accuracy)\n",
    "\n",
    "# Finding precision and recall\n",
    "precision, recall, F1_score, support = score(df_numerical_val['Body_Level'],LM_pred)\n",
    "print(\"Precision :\", precision, \"Macro Precision :\", sum(precision)/len(precision))\n",
    "print(\"Recall    :\", recall, \"Macro Recall    :\", sum(recall)/len(recall))\n",
    "print(\"F1-score  :\", F1_score, \"Macro F1-score  :\", sum(F1_score)/len(F1_score))\n",
    "print(\"Support  :\", support, \"Macro Support  :\", sum(support)/len(support))"
   ]
  },
  {
   "attachments": {},
   "cell_type": "markdown",
   "metadata": {},
   "source": [
    "### penalty='l2', max_iter=500, multi_class='ovr', solver='saga'"
   ]
  },
  {
   "cell_type": "code",
   "execution_count": 35,
   "metadata": {},
   "outputs": [
    {
     "name": "stdout",
     "output_type": "stream",
     "text": [
      "                0\n",
      "0    Body Level 1\n",
      "1    Body Level 1\n",
      "2    Body Level 4\n",
      "3    Body Level 4\n",
      "4    Body Level 3\n",
      "..            ...\n",
      "291  Body Level 4\n",
      "292  Body Level 3\n",
      "293  Body Level 3\n",
      "294  Body Level 4\n",
      "295  Body Level 3\n",
      "\n",
      "[296 rows x 1 columns]\n"
     ]
    }
   ],
   "source": [
    "# Training.\n",
    "LM_model = LogisticRegression(penalty='l2', max_iter=10000, multi_class='ovr', solver='saga')\n",
    "LM_model.fit(df_numerical[features],df_numerical['Body_Level'])\n",
    "\n",
    "# Prediction\n",
    "LM_pred = pd.DataFrame(LM_model.predict(df_numerical_val[features]))\n",
    "print(LM_pred)"
   ]
  },
  {
   "cell_type": "code",
   "execution_count": 36,
   "metadata": {},
   "outputs": [
    {
     "data": {
      "image/png": "[encoded data removed]",
      "text/plain": [
       "<Figure size 432x288 with 2 Axes>"
      ]
     },
     "metadata": {
      "needs_background": "light"
     },
     "output_type": "display_data"
    }
   ],
   "source": [
    "# Compute the confusion matrix.\n",
    "cm = confusion_matrix(df_numerical_val['Body_Level'],LM_pred)\n",
    "# Plot the confusion matrix.\n",
    "labels = list(set(df_numerical['Body_Level']))\n",
    "labels.sort()\n",
    "sns.heatmap(cm, annot=True, fmt='g', xticklabels=labels, yticklabels=labels)\n",
    "plt.ylabel('Prediction',fontsize=13)\n",
    "plt.xlabel('Actual',fontsize=13)\n",
    "plt.title('Confusion Matrix',fontsize=17)\n",
    "plt.show()"
   ]
  },
  {
   "cell_type": "code",
   "execution_count": 37,
   "metadata": {},
   "outputs": [
    {
     "name": "stdout",
     "output_type": "stream",
     "text": [
      "Accuracy   : 0.8175675675675675\n",
      "Precision : [0.78571429 0.875      0.7195122  0.87179487] Macro Precision : 0.8130053381577772\n",
      "Recall    : [0.97058824 0.33333333 0.7375     0.97142857] Macro Recall    : 0.7532125350140056\n",
      "F1-score  : [0.86842105 0.48275862 0.72839506 0.91891892] Macro F1-score  : 0.749623413492137\n",
      "Support  : [ 34  42  80 140] Macro Support  : 74.0\n"
     ]
    }
   ],
   "source": [
    "# Finding the accuracy.\n",
    "accuracy = accuracy_score(df_numerical_val['Body_Level'],LM_pred)\n",
    "print(\"Accuracy   :\", accuracy)\n",
    "\n",
    "# Finding precision and recall\n",
    "precision, recall, F1_score, support = score(df_numerical_val['Body_Level'],LM_pred)\n",
    "print(\"Precision :\", precision, \"Macro Precision :\", sum(precision)/len(precision))\n",
    "print(\"Recall    :\", recall, \"Macro Recall    :\", sum(recall)/len(recall))\n",
    "print(\"F1-score  :\", F1_score, \"Macro F1-score  :\", sum(F1_score)/len(F1_score))\n",
    "print(\"Support  :\", support, \"Macro Support  :\", sum(support)/len(support))"
   ]
  },
  {
   "attachments": {},
   "cell_type": "markdown",
   "metadata": {},
   "source": [
    "### penalty='l1', max_iter=500, multi_class='ovr', solver='liblinear'"
   ]
  },
  {
   "cell_type": "code",
   "execution_count": 38,
   "metadata": {},
   "outputs": [
    {
     "name": "stdout",
     "output_type": "stream",
     "text": [
      "                0\n",
      "0    Body Level 1\n",
      "1    Body Level 1\n",
      "2    Body Level 3\n",
      "3    Body Level 2\n",
      "4    Body Level 3\n",
      "..            ...\n",
      "291  Body Level 4\n",
      "292  Body Level 3\n",
      "293  Body Level 3\n",
      "294  Body Level 4\n",
      "295  Body Level 3\n",
      "\n",
      "[296 rows x 1 columns]\n"
     ]
    }
   ],
   "source": [
    "# Training.\n",
    "LM_model = LogisticRegression(penalty='l1', max_iter=max_iter, multi_class='ovr', solver='liblinear')\n",
    "LM_model.fit(df_numerical[features],df_numerical['Body_Level'])\n",
    "\n",
    "# Prediction\n",
    "LM_pred = pd.DataFrame(LM_model.predict(df_numerical_val[features]))\n",
    "print(LM_pred)"
   ]
  },
  {
   "cell_type": "code",
   "execution_count": 39,
   "metadata": {},
   "outputs": [
    {
     "data": {
      "image/png": "[encoded data removed]",
      "text/plain": [
       "<Figure size 432x288 with 2 Axes>"
      ]
     },
     "metadata": {
      "needs_background": "light"
     },
     "output_type": "display_data"
    }
   ],
   "source": [
    "# Compute the confusion matrix.\n",
    "cm = confusion_matrix(df_numerical_val['Body_Level'],LM_pred)\n",
    "# Plot the confusion matrix.\n",
    "labels = list(set(df_numerical['Body_Level']))\n",
    "labels.sort()\n",
    "sns.heatmap(cm, annot=True, fmt='g', xticklabels=labels, yticklabels=labels)\n",
    "plt.ylabel('Prediction',fontsize=13)\n",
    "plt.xlabel('Actual',fontsize=13)\n",
    "plt.title('Confusion Matrix',fontsize=17)\n",
    "plt.show()"
   ]
  },
  {
   "cell_type": "code",
   "execution_count": 40,
   "metadata": {},
   "outputs": [
    {
     "name": "stdout",
     "output_type": "stream",
     "text": [
      "Accuracy   : 0.8851351351351351\n",
      "Precision : [0.91666667 0.82608696 0.77777778 0.95238095] Macro Precision : 0.8682280883367839\n",
      "Recall    : [0.97058824 0.45238095 0.875      1.        ] Macro Recall    : 0.8244922969187676\n",
      "F1-score  : [0.94285714 0.58461538 0.82352941 0.97560976] Macro F1-score  : 0.8316529238336986\n",
      "Support  : [ 34  42  80 140] Macro Support  : 74.0\n"
     ]
    }
   ],
   "source": [
    "# Finding the accuracy.\n",
    "accuracy = accuracy_score(df_numerical_val['Body_Level'],LM_pred)\n",
    "print(\"Accuracy   :\", accuracy)\n",
    "\n",
    "# Finding precision and recall\n",
    "precision, recall, F1_score, support = score(df_numerical_val['Body_Level'],LM_pred)\n",
    "print(\"Precision :\", precision, \"Macro Precision :\", sum(precision)/len(precision))\n",
    "print(\"Recall    :\", recall, \"Macro Recall    :\", sum(recall)/len(recall))\n",
    "print(\"F1-score  :\", F1_score, \"Macro F1-score  :\", sum(F1_score)/len(F1_score))\n",
    "print(\"Support  :\", support, \"Macro Support  :\", sum(support)/len(support))"
   ]
  },
  {
   "attachments": {},
   "cell_type": "markdown",
   "metadata": {},
   "source": [
    "### penalty='l2', max_iter=500, multi_class='ovr', solver='liblinear', C=100000.0"
   ]
  },
  {
   "cell_type": "code",
   "execution_count": 41,
   "metadata": {},
   "outputs": [],
   "source": [
    "# Training.\n",
    "LM_model = LogisticRegression(penalty='l2', max_iter=max_iter, multi_class='ovr', solver='liblinear', C=100000.0) #lambda = 1/C = 0.00001\n",
    "LM_model.fit(df_numerical[features],df_numerical['Body_Level'])\n",
    "# Prediction\n",
    "LM_pred = pd.DataFrame(LM_model.predict(df_numerical_val[features]))\n",
    "# print(LM_pred)"
   ]
  },
  {
   "cell_type": "code",
   "execution_count": 42,
   "metadata": {},
   "outputs": [
    {
     "data": {
      "image/png": "[encoded data removed]",
      "text/plain": [
       "<Figure size 432x288 with 2 Axes>"
      ]
     },
     "metadata": {
      "needs_background": "light"
     },
     "output_type": "display_data"
    }
   ],
   "source": [
    "# Compute the confusion matrix.\n",
    "cm = confusion_matrix(df_numerical_val['Body_Level'],LM_pred)\n",
    "# Plot the confusion matrix.\n",
    "labels = list(set(df_numerical['Body_Level']))\n",
    "labels.sort()\n",
    "sns.heatmap(cm, annot=True, fmt='g', xticklabels=labels, yticklabels=labels)\n",
    "plt.ylabel('Prediction',fontsize=13)\n",
    "plt.xlabel('Actual',fontsize=13)\n",
    "plt.title('Confusion Matrix',fontsize=17)\n",
    "plt.show()"
   ]
  },
  {
   "cell_type": "code",
   "execution_count": 43,
   "metadata": {},
   "outputs": [
    {
     "name": "stdout",
     "output_type": "stream",
     "text": [
      "Accuracy   : 0.9054054054054054\n",
      "Precision : [1.         0.82142857 0.77894737 0.9858156 ] Macro Precision : 0.8965478856716258\n",
      "Recall    : [0.94117647 0.54761905 0.925      0.99285714] Macro Recall    : 0.8516631652661064\n",
      "F1-score  : [0.96969697 0.65714286 0.84571429 0.98932384] Macro F1-score  : 0.8654694889926207\n",
      "Support  : [ 34  42  80 140] Macro Support  : 74.0\n"
     ]
    }
   ],
   "source": [
    "# Finding the accuracy.\n",
    "accuracy = accuracy_score(df_numerical_val['Body_Level'],LM_pred)\n",
    "print(\"Accuracy   :\", accuracy)\n",
    "\n",
    "# Finding precision and recall\n",
    "precision, recall, F1_score, support = score(df_numerical_val['Body_Level'],LM_pred)\n",
    "print(\"Precision :\", precision, \"Macro Precision :\", sum(precision)/len(precision))\n",
    "print(\"Recall    :\", recall, \"Macro Recall    :\", sum(recall)/len(recall))\n",
    "print(\"F1-score  :\", F1_score, \"Macro F1-score  :\", sum(F1_score)/len(F1_score))\n",
    "print(\"Support  :\", support, \"Macro Support  :\", sum(support)/len(support))"
   ]
  }
 ],
 "metadata": {
  "kernelspec": {
   "display_name": "base",
   "language": "python",
   "name": "python3"
  },
  "language_info": {
   "codemirror_mode": {
    "name": "ipython",
    "version": 3
   },
   "file_extension": ".py",
   "mimetype": "text/x-python",
   "name": "python",
   "nbconvert_exporter": "python",
   "pygments_lexer": "ipython3",
   "version": "3.7.6"
  },
  "orig_nbformat": 4
 },
 "nbformat": 4,
 "nbformat_minor": 2
}
