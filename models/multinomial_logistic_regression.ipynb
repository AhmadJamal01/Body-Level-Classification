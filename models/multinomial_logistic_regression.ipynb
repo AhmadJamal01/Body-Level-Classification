{
 "cells": [
  {
   "cell_type": "code",
   "execution_count": 1,
   "metadata": {},
   "outputs": [],
   "source": [
    "# Import packages\n",
    "import numpy as np\n",
    "import pandas as pd\n",
    "import seaborn as sns\n",
    "import matplotlib.pyplot as plt\n",
    "from sklearn.linear_model import LogisticRegression\n",
    "from sklearn.metrics import confusion_matrix\n",
    "from sklearn.metrics import accuracy_score\n",
    "from sklearn.metrics import precision_recall_fscore_support as score"
   ]
  },
  {
   "cell_type": "code",
   "execution_count": 2,
   "metadata": {},
   "outputs": [],
   "source": [
    "# Importing data\n",
    "df = pd.read_csv('../data/train.csv')\n",
    "df_val = pd.read_csv('../data/val.csv')"
   ]
  },
  {
   "cell_type": "code",
   "execution_count": 22,
   "metadata": {},
   "outputs": [],
   "source": [
    "# Convert all categorical features to numerical ones.\n",
    "numerical_features = ['Age', 'Height', 'Weight', 'Veg_Consump', 'Water_Consump', 'Meal_Count', 'Phys_Act', 'Time_E_Dev']\n",
    "df_numerical = pd.DataFrame()\n",
    "df_numerical[numerical_features] = df[numerical_features]\n",
    "df_numerical['Gender'] = df['Gender'].map({\"Female\" : 0, \"Male\" : 1})\n",
    "binary_categorical_features = ['H_Cal_Consump', 'Smoking', 'Fam_Hist', 'H_Cal_Burn'] # Yes or no\n",
    "for feature in binary_categorical_features:\n",
    "    df_numerical[feature] = df[feature].map({\"no\" : 0, \"yes\" : 1})\n",
    "multi_categorical_features = ['Alcohol_Consump', 'Food_Between_Meals', 'Transport']\n",
    "for feature in multi_categorical_features:\n",
    "    values = (list(set(df[feature])))\n",
    "    for value in values:\n",
    "        df_numerical[feature+\"_\"+value] = df[feature].map(lambda x: 1 if x==value else 0)\n",
    "df_numerical['Body_Level'] = df['Body_Level']"
   ]
  },
  {
   "cell_type": "code",
   "execution_count": 23,
   "metadata": {},
   "outputs": [],
   "source": [
    "# Convert all categorical features to numerical ones. (for validation set)\n",
    "numerical_features = ['Age', 'Height', 'Weight', 'Veg_Consump', 'Water_Consump', 'Meal_Count', 'Phys_Act', 'Time_E_Dev']\n",
    "df_numerical_val = pd.DataFrame()\n",
    "df_numerical_val[numerical_features] = df_val[numerical_features]\n",
    "df_numerical_val['Gender'] = df_val['Gender'].map({\"Female\" : 0, \"Male\" : 1})\n",
    "binary_categorical_features = ['H_Cal_Consump', 'Smoking', 'Fam_Hist', 'H_Cal_Burn'] # Yes or no\n",
    "for feature in binary_categorical_features:\n",
    "    df_numerical_val[feature] = df_val[feature].map({\"no\" : 0, \"yes\" : 1})\n",
    "multi_categorical_features = ['Alcohol_Consump', 'Food_Between_Meals', 'Transport']\n",
    "for feature in multi_categorical_features:\n",
    "    values = (list(set(df_val[feature])))\n",
    "    for value in values:\n",
    "        df_numerical_val[feature+\"_\"+value] = df_val[feature].map(lambda x: 1 if x==value else 0)\n",
    "df_numerical_val['Body_Level'] = df_val['Body_Level']"
   ]
  },
  {
   "cell_type": "code",
   "execution_count": 28,
   "metadata": {},
   "outputs": [],
   "source": [
    "features = list(df_numerical.columns.array)\n",
    "features.reverse()\n",
    "label = features.pop(0)\n",
    "features.reverse()\n",
    "# An extra step done for the validation set since it may not contain all the categories of a specific attribute due to its smaller size.\n",
    "for feature in features:\n",
    "    if feature not in list(df_numerical_val.columns.array):\n",
    "        df_numerical_val[feature] = 0"
   ]
  },
  {
   "cell_type": "code",
   "execution_count": 42,
   "metadata": {},
   "outputs": [],
   "source": [
    "# Hyperparmeters:\n",
    "max_iter=500"
   ]
  },
  {
   "cell_type": "code",
   "execution_count": 43,
   "metadata": {},
   "outputs": [
    {
     "name": "stdout",
     "output_type": "stream",
     "text": [
      "                0\n",
      "0    Body Level 1\n",
      "1    Body Level 1\n",
      "2    Body Level 4\n",
      "3    Body Level 4\n",
      "4    Body Level 3\n",
      "..            ...\n",
      "291  Body Level 4\n",
      "292  Body Level 3\n",
      "293  Body Level 3\n",
      "294  Body Level 4\n",
      "295  Body Level 3\n",
      "\n",
      "[296 rows x 1 columns]\n"
     ]
    }
   ],
   "source": [
    "# Training.\n",
    "LM_model = LogisticRegression(penalty='l2', max_iter=max_iter, multi_class='ovr', solver='liblinear')\n",
    "LM_model.fit(df_numerical[features],df_numerical['Body_Level'])\n",
    "\n",
    "# Prediction\n",
    "LM_pred = pd.DataFrame(LM_model.predict(df_numerical_val[features]))\n",
    "print(LM_pred)"
   ]
  },
  {
   "cell_type": "code",
   "execution_count": 44,
   "metadata": {},
   "outputs": [
    {
     "data": {
      "image/png": "[encoded data removed]",
      "text/plain": [
       "<Figure size 432x288 with 2 Axes>"
      ]
     },
     "metadata": {
      "needs_background": "light"
     },
     "output_type": "display_data"
    }
   ],
   "source": [
    "# Compute the confusion matrix.\n",
    "cm = confusion_matrix(df_numerical_val['Body_Level'],LM_pred)\n",
    "# Plot the confusion matrix.\n",
    "labels = list(set(df_numerical['Body_Level']))\n",
    "labels.sort()\n",
    "sns.heatmap(cm, annot=True, fmt='g', xticklabels=labels, yticklabels=labels)\n",
    "plt.ylabel('Prediction',fontsize=13)\n",
    "plt.xlabel('Actual',fontsize=13)\n",
    "plt.title('Confusion Matrix',fontsize=17)\n",
    "plt.show()"
   ]
  },
  {
   "cell_type": "code",
   "execution_count": 45,
   "metadata": {},
   "outputs": [
    {
     "name": "stdout",
     "output_type": "stream",
     "text": [
      "Accuracy   : 0.847972972972973\n",
      "Precision : [0.80487805 0.88888889 0.76829268 0.89677419]\n",
      "Recall    : [0.97058824 0.38095238 0.7875     0.99285714]\n",
      "F1-score  : [0.88       0.53333333 0.77777778 0.94237288]\n",
      "Support  : [ 34  42  80 140]\n"
     ]
    }
   ],
   "source": [
    "# Finding the accuracy.\n",
    "accuracy = accuracy_score(df_numerical_val['Body_Level'],LM_pred)\n",
    "print(\"Accuracy   :\", accuracy)\n",
    "\n",
    "# Finding precision and recall\n",
    "precision, recall, F1_score, support = score(df_numerical_val['Body_Level'],LM_pred)\n",
    "print(\"Precision :\", precision)\n",
    "print(\"Recall    :\", recall)\n",
    "print(\"F1-score  :\", F1_score)\n",
    "print(\"Support  :\", support)"
   ]
  }
 ],
 "metadata": {
  "kernelspec": {
   "display_name": "base",
   "language": "python",
   "name": "python3"
  },
  "language_info": {
   "codemirror_mode": {
    "name": "ipython",
    "version": 3
   },
   "file_extension": ".py",
   "mimetype": "text/x-python",
   "name": "python",
   "nbconvert_exporter": "python",
   "pygments_lexer": "ipython3",
   "version": "3.7.6"
  },
  "orig_nbformat": 4
 },
 "nbformat": 4,
 "nbformat_minor": 2
}
