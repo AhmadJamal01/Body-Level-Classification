{
 "cells": [
  {
   "cell_type": "code",
   "execution_count": 18,
   "metadata": {},
   "outputs": [],
   "source": [
    "from sklearn.mixture import GaussianMixture\n",
    "from sklearn.preprocessing import LabelEncoder\n",
    "from sklearn.metrics import classification_report \n",
    "from sklearn.model_selection import train_test_split\n",
    "import pandas as pd\n",
    "import numpy as np\n",
    "from tqdm import tqdm"
   ]
  },
  {
   "cell_type": "code",
   "execution_count": 2,
   "metadata": {},
   "outputs": [],
   "source": [
    "df_train = pd.read_csv('../data/train.csv')\n",
    "df_valid = pd.read_csv('../data/val.csv')"
   ]
  },
  {
   "cell_type": "code",
   "execution_count": 3,
   "metadata": {},
   "outputs": [],
   "source": [
    "df_train_encoded = df_train.copy()\n",
    "categorical_features = ['Gender', 'H_Cal_Consump',\n",
    " 'Alcohol_Consump', 'Smoking',\n",
    " 'Food_Between_Meals', 'Fam_Hist',\n",
    " 'H_Cal_Burn', 'Phys_Act', 'Transport']\n",
    "for feature in categorical_features:\n",
    " le = LabelEncoder()\n",
    " df_train_encoded[feature] = le.fit_transform(df_train_encoded[feature])\n",
    "\n",
    "\n",
    "df_train_encoded['Body_Level'] = df_train_encoded['Body_Level'].map({'Body Level 1':1,\n",
    "                                                                     'Body Level 2':2,\n",
    "                                                                     'Body Level 3':3,\n",
    "                                                                     'Body Level 4':4})\n",
    "\n",
    "df_valid_encoded = df_valid.copy()\n",
    "for feature in categorical_features:\n",
    "    le = LabelEncoder()\n",
    "    df_valid_encoded[feature] = le.fit_transform(df_valid_encoded[feature])\n",
    "\n",
    "df_valid_encoded['Body_Level'] = df_valid_encoded['Body_Level'].map({'Body Level 1':1,\n",
    "                                                                     'Body Level 2':2,\n",
    "                                                                     'Body Level 3':3,\n",
    "                                                                     'Body Level 4':4})"
   ]
  },
  {
   "cell_type": "code",
   "execution_count": 4,
   "metadata": {},
   "outputs": [],
   "source": [
    "# Create and fit a GMM for each class\n",
    "gmms = {}\n",
    "for label in np.unique(df_train_encoded['Body_Level']):\n",
    "    gmms[label] = GaussianMixture(n_components=1)\n",
    "    gmms[label].fit(df_train_encoded[df_train_encoded['Body_Level'] == label].drop(['Body_Level'], axis=1))"
   ]
  },
  {
   "cell_type": "code",
   "execution_count": 5,
   "metadata": {},
   "outputs": [
    {
     "name": "stdout",
     "output_type": "stream",
     "text": [
      "              precision    recall  f1-score   support\n",
      "\n",
      "           1       0.97      0.94      0.96        34\n",
      "           2       0.76      0.88      0.81        42\n",
      "           3       0.91      0.51      0.66        80\n",
      "           4       0.81      0.98      0.89       140\n",
      "\n",
      "    accuracy                           0.83       296\n",
      "   macro avg       0.86      0.83      0.83       296\n",
      "weighted avg       0.85      0.83      0.82       296\n",
      "\n"
     ]
    }
   ],
   "source": [
    "# Compute the posterior probabilities for a new data point\n",
    "\n",
    "posterior_probs = np.zeros((len(df_valid_encoded), len(gmms)))\n",
    "for i, (label, gmm) in enumerate(gmms.items()):\n",
    "    posterior_probs[:, i] = gmm.score_samples(df_valid_encoded.drop('Body_Level', axis=1))\n",
    "\n",
    "predicted_labels = np.argmax(posterior_probs, axis=1) + 1\n",
    "print(classification_report(df_valid_encoded['Body_Level'], predicted_labels))\n"
   ]
  },
  {
   "attachments": {},
   "cell_type": "markdown",
   "metadata": {},
   "source": [
    "## Bias Variance Tradeoff"
   ]
  },
  {
   "cell_type": "code",
   "execution_count": 6,
   "metadata": {},
   "outputs": [
    {
     "data": {
      "image/png": "[encoded data removed]",
      "text/plain": [
       "<Figure size 432x288 with 1 Axes>"
      ]
     },
     "metadata": {
      "needs_background": "light"
     },
     "output_type": "display_data"
    }
   ],
   "source": [
    "# Get train & validation errors for n_components from 1 to 31\n",
    "train_errors = []\n",
    "valid_errors = []\n",
    "for n_components in range(1, 31):\n",
    "    # Create and fit a GMM for each class\n",
    "    gmms = {}\n",
    "    for label in np.unique(df_train_encoded['Body_Level']):\n",
    "        gmms[label] = GaussianMixture(n_components=n_components)\n",
    "        gmms[label].fit(df_train_encoded[df_train_encoded['Body_Level'] == label].drop(['Body_Level'], axis=1))\n",
    "\n",
    "    # Compute the posterior probabilities for a new data point\n",
    "    posterior_probs = np.zeros((len(df_train_encoded), len(gmms)))\n",
    "    for i, (label, gmm) in enumerate(gmms.items()):\n",
    "        posterior_probs[:, i] = gmm.score_samples(df_train_encoded.drop('Body_Level', axis=1))\n",
    "\n",
    "    predicted_labels = np.argmax(posterior_probs, axis=1) + 1\n",
    "    train_errors.append(np.mean(predicted_labels != df_train_encoded['Body_Level']))\n",
    "\n",
    "    posterior_probs = np.zeros((len(df_valid_encoded), len(gmms)))\n",
    "    for i, (label, gmm) in enumerate(gmms.items()):\n",
    "        posterior_probs[:, i] = gmm.score_samples(df_valid_encoded.drop('Body_Level', axis=1))\n",
    "\n",
    "    predicted_labels = np.argmax(posterior_probs, axis=1) + 1\n",
    "    valid_errors.append(np.mean(predicted_labels != df_valid_encoded['Body_Level']))\n",
    "\n",
    "# Plot the train & validation errors\n",
    "import matplotlib.pyplot as plt\n",
    "plt.plot(range(1, 31), train_errors, label='Train error')\n",
    "plt.plot(range(1, 31), valid_errors, label='Validation error')\n",
    "plt.title('Train error vs Validation error')\n",
    "plt.xlabel('n_components')\n",
    "plt.ylabel('Error')\n",
    "plt.legend()\n",
    "plt.show()"
   ]
  },
  {
   "attachments": {},
   "cell_type": "markdown",
   "metadata": {},
   "source": [
    "## Observations"
   ]
  },
  {
   "attachments": {},
   "cell_type": "markdown",
   "metadata": {},
   "source": [
    "This bias variance tradeoff plot looks more like the ones we took in our lectures, as the n_components increases, the model complexity increases, which leads to less training errors but more validation error (less bias but more variance). and the generalization performance of the model decreases because of that."
   ]
  },
  {
   "attachments": {},
   "cell_type": "markdown",
   "metadata": {},
   "source": [
    "## Class Imbalance"
   ]
  },
  {
   "cell_type": "code",
   "execution_count": 7,
   "metadata": {},
   "outputs": [],
   "source": [
    "# Try out all the other Datasets in class_imbalance folder\n",
    "x_train_undersampled = pd.read_csv('../data/class_Imbalance/X_under_sampled_no_relationship.csv')\n",
    "y_train_undersampled = pd.read_csv('../data/class_Imbalance/y_under_sampled_no_relationship.csv')\n",
    "\n",
    "x_train_oversampled = pd.read_csv('../data/class_Imbalance/X_over_sampled_no_relationship.csv')\n",
    "y_train_oversampled = pd.read_csv('../data/class_Imbalance/y_over_sampled_no_relationship.csv')\n",
    "\n",
    "x_train_smotenc = pd.read_csv('../data/class_Imbalance/X_SMOTENC_no_relationship.csv')\n",
    "y_train_smotenc = pd.read_csv('../data/class_Imbalance/y_SMOTENC_no_relationship.csv')\n",
    "\n",
    "y_train_smotenc = y_train_smotenc.rename(columns={'Body_Level_Num': 'Body_Level'})\n",
    "y_train_smotenc['Body_Level'] = y_train_smotenc['Body_Level'].map({1: 'Body Level 1', 2: 'Body Level 2', 3: 'Body Level 3', 4: 'Body Level 4'})\n",
    "\n",
    "\n",
    "x_train_smote_with_importance = pd.read_csv('../data/class_Imbalance/X_SMOTE_with_importance.csv')\n",
    "y_train_smote_with_importance = pd.read_csv('../data/class_Imbalance/y_SMOTE_with_importance.csv')\n",
    "\n",
    "y_train_smote_with_importance = y_train_smote_with_importance.rename(columns={'Body_Level_Num': 'Body_Level'})\n",
    "\n",
    "y_train_smote_with_importance['Body_Level'] = y_train_smote_with_importance['Body_Level'].map({1: 'Body Level 1', 2: 'Body Level 2', 3: 'Body Level 3', 4: 'Body Level 4'})\n"
   ]
  },
  {
   "cell_type": "code",
   "execution_count": 8,
   "metadata": {},
   "outputs": [
    {
     "name": "stdout",
     "output_type": "stream",
     "text": [
      "Number of samples in each class for x_train_undersampled\n",
      "Body Level 1    135\n",
      "Body Level 2    135\n",
      "Body Level 3    135\n",
      "Body Level 4    135\n",
      "Name: Body_Level, dtype: int64\n",
      "Number of samples in each class for x_train_oversampled\n",
      "Body Level 3    472\n",
      "Body Level 2    472\n",
      "Body Level 4    472\n",
      "Body Level 1    472\n",
      "Name: Body_Level, dtype: int64\n",
      "Number of samples in each class for x_train_smotenc\n",
      "Body Level 3    472\n",
      "Body Level 2    472\n",
      "Body Level 4    472\n",
      "Body Level 1    472\n",
      "Name: Body_Level, dtype: int64\n",
      "Number of samples in each class for x_train_smote_with_importance\n",
      "Body Level 4    177564\n",
      "Body Level 3    106839\n",
      "Body Level 1     53419\n",
      "Body Level 2     50786\n",
      "Name: Body_Level, dtype: int64\n"
     ]
    }
   ],
   "source": [
    "# Print the number of samples in each class for each dataset\n",
    "print('Number of samples in each class for x_train_undersampled')\n",
    "print(y_train_undersampled['Body_Level'].value_counts())\n",
    "print('Number of samples in each class for x_train_oversampled')\n",
    "print(y_train_oversampled['Body_Level'].value_counts())\n",
    "print('Number of samples in each class for x_train_smotenc')\n",
    "print(y_train_smotenc['Body_Level'].value_counts())\n",
    "print('Number of samples in each class for x_train_smote_with_importance')\n",
    "print(y_train_smote_with_importance['Body_Level'].value_counts())"
   ]
  },
  {
   "cell_type": "code",
   "execution_count": 9,
   "metadata": {},
   "outputs": [],
   "source": [
    "# Encode categorical features\n",
    "x_train_undersampled_encoded = x_train_undersampled.copy()\n",
    "x_train_oversampled_encoded = x_train_oversampled.copy()\n",
    "x_train_smotenc_encoded = x_train_smotenc.copy()\n",
    "x_train_smote_with_importance_encoded = x_train_smote_with_importance.copy()\n",
    "\n",
    "for feature in categorical_features:\n",
    "    le = LabelEncoder()\n",
    "    x_train_undersampled_encoded[feature] = le.fit_transform(x_train_undersampled_encoded[feature])\n",
    "    x_train_oversampled_encoded[feature] = le.fit_transform(x_train_oversampled_encoded[feature])\n",
    "    x_train_smotenc_encoded[feature] = le.fit_transform(x_train_smotenc_encoded[feature])\n",
    "    x_train_smote_with_importance_encoded[feature] = le.fit_transform(x_train_smote_with_importance_encoded[feature])"
   ]
  },
  {
   "cell_type": "code",
   "execution_count": 10,
   "metadata": {},
   "outputs": [
    {
     "name": "stdout",
     "output_type": "stream",
     "text": [
      "              precision    recall  f1-score   support\n",
      "\n",
      "           1       0.97      0.94      0.96        34\n",
      "           2       0.76      0.90      0.83        42\n",
      "           3       0.86      0.70      0.77        80\n",
      "           4       0.89      0.94      0.92       140\n",
      "\n",
      "    accuracy                           0.87       296\n",
      "   macro avg       0.87      0.87      0.87       296\n",
      "weighted avg       0.87      0.87      0.87       296\n",
      "\n"
     ]
    }
   ],
   "source": [
    "# Undersampled Data\n",
    "gmms = {}\n",
    "for label in np.unique(y_train_undersampled['Body_Level']):\n",
    "    gmms[label] = GaussianMixture(n_components=1)\n",
    "    gmms[label].fit(x_train_undersampled_encoded[y_train_undersampled['Body_Level'] == label])\n",
    "\n",
    "# Compute the posterior probabilities for a new data point\n",
    "posterior_probs = np.zeros((len(df_valid_encoded), len(gmms)))\n",
    "for i, (label, gmm) in enumerate(gmms.items()):\n",
    "    posterior_probs[:, i] = gmm.score_samples(df_valid_encoded.drop('Body_Level', axis=1))\n",
    "\n",
    "predicted_labels = np.argmax(posterior_probs, axis=1) + 1\n",
    "\n",
    "print(classification_report(df_valid_encoded['Body_Level'], predicted_labels))"
   ]
  },
  {
   "cell_type": "code",
   "execution_count": 11,
   "metadata": {},
   "outputs": [
    {
     "name": "stdout",
     "output_type": "stream",
     "text": [
      "              precision    recall  f1-score   support\n",
      "\n",
      "           1       0.97      0.94      0.96        34\n",
      "           2       0.77      0.88      0.82        42\n",
      "           3       0.91      0.53      0.67        80\n",
      "           4       0.81      0.98      0.89       140\n",
      "\n",
      "    accuracy                           0.84       296\n",
      "   macro avg       0.87      0.83      0.83       296\n",
      "weighted avg       0.85      0.84      0.83       296\n",
      "\n"
     ]
    }
   ],
   "source": [
    "# Oversampled Data\n",
    "gmms = {}\n",
    "for label in np.unique(y_train_oversampled['Body_Level']):\n",
    "    gmms[label] = GaussianMixture(n_components=1)\n",
    "    gmms[label].fit(x_train_oversampled_encoded[y_train_oversampled['Body_Level'] == label])\n",
    "\n",
    "# Compute the posterior probabilities for a new data point\n",
    "posterior_probs = np.zeros((len(df_valid_encoded), len(gmms)))\n",
    "for i, (label, gmm) in enumerate(gmms.items()):\n",
    "    posterior_probs[:, i] = gmm.score_samples(df_valid_encoded.drop('Body_Level', axis=1))\n",
    "\n",
    "predicted_labels = np.argmax(posterior_probs, axis=1) + 1\n",
    "\n",
    "print(classification_report(df_valid_encoded['Body_Level'], predicted_labels))"
   ]
  },
  {
   "cell_type": "code",
   "execution_count": 12,
   "metadata": {},
   "outputs": [
    {
     "name": "stdout",
     "output_type": "stream",
     "text": [
      "              precision    recall  f1-score   support\n",
      "\n",
      "           1       1.00      0.79      0.89        34\n",
      "           2       0.73      0.86      0.79        42\n",
      "           3       0.88      0.56      0.69        80\n",
      "           4       0.81      0.98      0.89       140\n",
      "\n",
      "    accuracy                           0.83       296\n",
      "   macro avg       0.86      0.80      0.81       296\n",
      "weighted avg       0.84      0.83      0.82       296\n",
      "\n"
     ]
    }
   ],
   "source": [
    "# SMOTENC Data\n",
    "gmms = {}\n",
    "for label in np.unique(y_train_smotenc['Body_Level']):\n",
    "    gmms[label] = GaussianMixture(n_components=1)\n",
    "    gmms[label].fit(x_train_smotenc_encoded[y_train_smotenc['Body_Level'] == label])\n",
    "\n",
    "# Compute the posterior probabilities for a new data point\n",
    "posterior_probs = np.zeros((len(df_valid_encoded), len(gmms)))\n",
    "for i, (label, gmm) in enumerate(gmms.items()):\n",
    "    posterior_probs[:, i] = gmm.score_samples(df_valid_encoded.drop('Body_Level', axis=1))\n",
    "\n",
    "predicted_labels = np.argmax(posterior_probs, axis=1) + 1\n",
    "\n",
    "print(classification_report(df_valid_encoded['Body_Level'], predicted_labels))"
   ]
  },
  {
   "cell_type": "code",
   "execution_count": 13,
   "metadata": {},
   "outputs": [
    {
     "name": "stdout",
     "output_type": "stream",
     "text": [
      "              precision    recall  f1-score   support\n",
      "\n",
      "           1       0.97      0.85      0.91        34\n",
      "           2       0.79      0.79      0.79        42\n",
      "           3       0.84      0.78      0.81        80\n",
      "           4       0.91      0.97      0.94       140\n",
      "\n",
      "    accuracy                           0.88       296\n",
      "   macro avg       0.87      0.85      0.86       296\n",
      "weighted avg       0.88      0.88      0.88       296\n",
      "\n"
     ]
    }
   ],
   "source": [
    "# SMOTE with importance Data\n",
    "gmms = {}\n",
    "for label in np.unique(y_train_smote_with_importance['Body_Level']):\n",
    "    gmms[label] = GaussianMixture(n_components=1)\n",
    "    gmms[label].fit(x_train_smote_with_importance_encoded[y_train_smote_with_importance['Body_Level'] == label])\n",
    "\n",
    "# Compute the posterior probabilities for a new data point\n",
    "posterior_probs = np.zeros((len(df_valid_encoded), len(gmms)))\n",
    "for i, (label, gmm) in enumerate(gmms.items()):\n",
    "    posterior_probs[:, i] = gmm.score_samples(df_valid_encoded.drop('Body_Level', axis=1))\n",
    "\n",
    "predicted_labels = np.argmax(posterior_probs, axis=1) + 1\n",
    "\n",
    "print(classification_report(df_valid_encoded['Body_Level'], predicted_labels))\n"
   ]
  },
  {
   "attachments": {},
   "cell_type": "markdown",
   "metadata": {},
   "source": [
    "## Observations"
   ]
  },
  {
   "attachments": {},
   "cell_type": "markdown",
   "metadata": {},
   "source": [
    "It's clear that undersampling as well as smotenc with importance are the best. & the f1-score for each class reflects the number of data points for each class in the dataset. (In the Smote with importance, class 4 is the most numerous and it has the highest recall, but a little lower in precision)."
   ]
  },
  {
   "attachments": {},
   "cell_type": "markdown",
   "metadata": {},
   "source": [
    "## Regularization"
   ]
  },
  {
   "cell_type": "code",
   "execution_count": 14,
   "metadata": {},
   "outputs": [
    {
     "name": "stderr",
     "output_type": "stream",
     "text": [
      "100%|██████████| 10/10 [00:05<00:00,  1.97it/s]\n"
     ]
    },
    {
     "data": {
      "image/png": "[encoded data removed]",
      "text/plain": [
       "<Figure size 432x288 with 1 Axes>"
      ]
     },
     "metadata": {
      "needs_background": "light"
     },
     "output_type": "display_data"
    }
   ],
   "source": [
    "# Test the effect of regularization on the model\n",
    "# Will use the original data for this\n",
    "\n",
    "# Get the accuracies for different regularization values\n",
    "train_accuracies = []\n",
    "valid_accuracies = []\n",
    "\n",
    "for reg in tqdm(np.linspace(0.1, 1, 10)):\n",
    "    # Create and fit a GMM for each class\n",
    "    gmms = {}\n",
    "    for label in np.unique(df_train_encoded['Body_Level']):\n",
    "        gmms[label] = GaussianMixture(n_components=1, reg_covar=reg * 1e-3)\n",
    "        gmms[label].fit(df_train_encoded[df_train_encoded['Body_Level'] == label].drop('Body_Level', axis=1))\n",
    "\n",
    "    # Compute the posterior probabilities for a new data point\n",
    "    posterior_probs = np.zeros((len(df_train_encoded), len(gmms)))\n",
    "    for i, (label, gmm) in enumerate(gmms.items()):\n",
    "        posterior_probs[:, i] = gmm.score_samples(df_train_encoded.drop('Body_Level', axis=1))\n",
    "\n",
    "    predicted_labels = np.argmax(posterior_probs, axis=1) + 1\n",
    "    train_accuracies.append(np.mean(predicted_labels == df_train_encoded['Body_Level']))\n",
    "\n",
    "    posterior_probs = np.zeros((len(df_valid_encoded), len(gmms)))\n",
    "    for i, (label, gmm) in enumerate(gmms.items()):\n",
    "        posterior_probs[:, i] = gmm.score_samples(df_valid_encoded.drop('Body_Level', axis=1))\n",
    "\n",
    "    predicted_labels = np.argmax(posterior_probs, axis=1) + 1\n",
    "    valid_accuracies.append(np.mean(predicted_labels == df_valid_encoded['Body_Level']))\n",
    "\n",
    "# Plot the train & validation errors\n",
    "plt.plot(np.linspace(0.1, 1, 10) * 1e-3, train_accuracies, label='Train accuracy')\n",
    "plt.plot(np.linspace(0.1, 1, 10) * 1e-3, valid_accuracies, label='Validation accuracy')\n",
    "plt.title('Train accuracy vs Validation accuracy')\n",
    "plt.xlabel('reg_covar')\n",
    "plt.ylabel('Accuracy')\n",
    "plt.legend()\n",
    "plt.show()"
   ]
  },
  {
   "attachments": {},
   "cell_type": "markdown",
   "metadata": {},
   "source": [
    "## Observations"
   ]
  },
  {
   "attachments": {},
   "cell_type": "markdown",
   "metadata": {},
   "source": [
    "It's clear that regularization does have an effect on the accuracy of the model, to a certain extent, regularization can be beneficial, but after a certain point, it reduces the validation accuracy & leads to worse generalization.\n",
    "\n",
    "I'm not sure how to interpret these results, as I understand, since both train & validation accuracies increase initially, this means that the model was initially a little overfitted but regularization helped. Then the model becomes underfit & this leads to worse validation accuracy. I'm not sure why the train accuracy increases though."
   ]
  },
  {
   "cell_type": "code",
   "execution_count": 33,
   "metadata": {},
   "outputs": [
    {
     "data": {
      "image/png": "[encoded data removed]",
      "text/plain": [
       "<Figure size 432x288 with 1 Axes>"
      ]
     },
     "metadata": {
      "needs_background": "light"
     },
     "output_type": "display_data"
    }
   ],
   "source": [
    "# Set the regularization parameter\n",
    "reg = 0.5\n",
    "\n",
    "# Set the training set sizes\n",
    "train_sizes = np.linspace(0.1, 1.0, 25)\n",
    "\n",
    "# Initial split of the data\n",
    "X_TRAIN, X_valid, Y_TRAIN, y_valid = train_test_split(\n",
    "        df_train_encoded.drop('Body_Level', axis=1),\n",
    "        df_train_encoded['Body_Level'],\n",
    "        train_size=0.8,\n",
    "        stratify=df_train_encoded['Body_Level'],\n",
    "        random_state=42\n",
    "    )\n",
    "\n",
    "# Initialize lists to store the accuracies\n",
    "train_errors = []\n",
    "valid_errors = []\n",
    "\n",
    "# Compute the accuracies for different training set sizes\n",
    "for train_size in train_sizes:\n",
    "    # Split the data into training and validation sets\n",
    "    if train_size == 1.0:\n",
    "        X_train = X_TRAIN\n",
    "        y_train = Y_TRAIN\n",
    "    else:\n",
    "        X_train = X_TRAIN.sample(frac=train_size, random_state=42)\n",
    "        y_train = Y_TRAIN.loc[X_train.index]\n",
    "\n",
    "    # Create and fit a GMM for each class\n",
    "    gmms = {}\n",
    "    for label in np.unique(y_train):\n",
    "        gmms[label] = GaussianMixture(n_components=1, reg_covar=reg * 1e-3)\n",
    "        gmms[label].fit(X_train[y_train == label])\n",
    "\n",
    "    # Compute the posterior probabilities for the training data\n",
    "    posterior_probs = np.zeros((len(X_train), len(gmms)))\n",
    "    for i, (label, gmm) in enumerate(gmms.items()):\n",
    "        posterior_probs[:, i] = gmm.score_samples(X_train)\n",
    "\n",
    "    # Compute the training error\n",
    "    predicted_labels = np.argmax(posterior_probs, axis=1) + 1\n",
    "    train_errors.append(np.mean(predicted_labels != y_train))\n",
    "\n",
    "    # Compute the posterior probabilities for the validation data\n",
    "    posterior_probs = np.zeros((len(X_valid), len(gmms)))\n",
    "    for i, (label, gmm) in enumerate(gmms.items()):\n",
    "        posterior_probs[:, i] = gmm.score_samples(X_valid)\n",
    "\n",
    "    # compute the validation error\n",
    "    predicted_labels = np.argmax(posterior_probs, axis=1) + 1\n",
    "    valid_errors.append(np.mean(predicted_labels != y_valid))\n",
    "\n",
    "\n",
    "# Plot the learning curve\n",
    "plt.plot(train_sizes, train_errors, label='Training Error')\n",
    "plt.plot(train_sizes, valid_errors, label='Validation Error')\n",
    "plt.title('Learning Curve')\n",
    "plt.xlabel('Training examples')\n",
    "plt.ylabel('Error')\n",
    "plt.legend()\n",
    "plt.show()"
   ]
  }
 ],
 "metadata": {
  "kernelspec": {
   "display_name": "Python 3",
   "language": "python",
   "name": "python3"
  },
  "language_info": {
   "codemirror_mode": {
    "name": "ipython",
    "version": 3
   },
   "file_extension": ".py",
   "mimetype": "text/x-python",
   "name": "python",
   "nbconvert_exporter": "python",
   "pygments_lexer": "ipython3",
   "version": "3.8.5"
  },
  "orig_nbformat": 4,
  "vscode": {
   "interpreter": {
    "hash": "0eefc6a63c6d719296cee5685f23fefb92aa63e2e9fdaf52ddbdc4ce266c7bb3"
   }
  }
 },
 "nbformat": 4,
 "nbformat_minor": 2
}
