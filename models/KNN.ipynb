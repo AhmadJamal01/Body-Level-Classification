{
 "cells": [
  {
   "cell_type": "code",
   "execution_count": 1,
   "metadata": {},
   "outputs": [],
   "source": [
    "from sklearn.model_selection import GridSearchCV\n",
    "from sklearn.neighbors import KNeighborsClassifier \n",
    "from sklearn.preprocessing import LabelEncoder\n",
    "import pandas as pd\n",
    "import numpy as np\n",
    "import seaborn as sns\n",
    "from sklearn.metrics import confusion_matrix\n",
    "import matplotlib.pyplot as plt"
   ]
  },
  {
   "cell_type": "code",
   "execution_count": 2,
   "metadata": {},
   "outputs": [],
   "source": [
    "df_train = pd.read_csv('../data/train.csv')\n",
    "df_valid = pd.read_csv('../data/val.csv')"
   ]
  },
  {
   "cell_type": "code",
   "execution_count": 3,
   "metadata": {},
   "outputs": [],
   "source": [
    "# Encode categorical features\n",
    "df_train_encoded = df_train.copy()\n",
    "categorical_features = ['Gender', 'H_Cal_Consump',\n",
    " 'Alcohol_Consump', 'Smoking',\n",
    " 'Food_Between_Meals', 'Fam_Hist',\n",
    " 'H_Cal_Burn', 'Phys_Act', 'Transport']\n",
    "for feature in categorical_features:\n",
    " le = LabelEncoder()\n",
    " df_train_encoded[feature] = le.fit_transform(df_train_encoded[feature])\n",
    "\n",
    "df_valid_encoded = df_valid.copy()\n",
    "for feature in categorical_features:\n",
    "    le = LabelEncoder()\n",
    "    df_valid_encoded[feature] = le.fit_transform(df_valid_encoded[feature])"
   ]
  },
  {
   "cell_type": "code",
   "execution_count": 4,
   "metadata": {},
   "outputs": [
    {
     "name": "stdout",
     "output_type": "stream",
     "text": [
      "1\n"
     ]
    }
   ],
   "source": [
    "# Define the parameter grid\n",
    "param_grid = {'n_neighbors': range(1, 31)}\n",
    "\n",
    "# Create a KNN classifier\n",
    "knn = KNeighborsClassifier()\n",
    "\n",
    "# Create the grid search object\n",
    "grid_search = GridSearchCV(knn, param_grid, cv=5)\n",
    "\n",
    "# Fit the grid search object to the data\n",
    "grid_search.fit(df_train_encoded.drop('Body_Level', axis=1), df_train_encoded['Body_Level'])\n",
    "\n",
    "# Get the best value of k\n",
    "best_k = grid_search.best_params_['n_neighbors']\n",
    "\n",
    "# Print the best value of k\n",
    "print(best_k)"
   ]
  },
  {
   "cell_type": "code",
   "execution_count": 5,
   "metadata": {},
   "outputs": [],
   "source": [
    "X_train = df_train_encoded.drop('Body_Level', axis=1)\n",
    "y_train = df_train_encoded['Body_Level']\n",
    "\n",
    "X_valid = df_valid_encoded.drop('Body_Level', axis=1)\n",
    "y_valid = df_valid_encoded['Body_Level']"
   ]
  },
  {
   "cell_type": "code",
   "execution_count": 45,
   "metadata": {},
   "outputs": [
    {
     "name": "stdout",
     "output_type": "stream",
     "text": [
      "Accuracy score:  0.7702702702702703\n"
     ]
    }
   ],
   "source": [
    "# Create and fit the KNN classifier\n",
    "knn = KNeighborsClassifier(n_neighbors=3)\n",
    "knn.fit(X_train, y_train)\n",
    "\n",
    "# Make predictions on the test set\n",
    "y_pred = knn.predict(X_valid)\n",
    "\n",
    "# Print the accuracy score\n",
    "print('Accuracy score: ', knn.score(X_valid, y_valid))"
   ]
  },
  {
   "cell_type": "code",
   "execution_count": 7,
   "metadata": {},
   "outputs": [
    {
     "data": {
      "image/png": "[encoded data removed]",
      "text/plain": [
       "<Figure size 432x288 with 2 Axes>"
      ]
     },
     "metadata": {
      "needs_background": "light"
     },
     "output_type": "display_data"
    }
   ],
   "source": [
    "# Print the confusion matrix\n",
    "cm = confusion_matrix(y_valid, y_pred)\n",
    "labels = list(set(y_valid))\n",
    "labels.sort()\n",
    "sns.heatmap(cm, annot=True, fmt='g', xticklabels=labels, yticklabels=labels)\n",
    "plt.xlabel('Prediction',fontsize=13)\n",
    "plt.ylabel('Actual',fontsize=13)\n",
    "plt.title('Confusion Matrix',fontsize=17)\n",
    "plt.show()"
   ]
  },
  {
   "cell_type": "code",
   "execution_count": 8,
   "metadata": {},
   "outputs": [],
   "source": [
    "# Try out all the other Datasets in class_imbalance folder\n",
    "x_train_undersampled = pd.read_csv('../data/class_Imbalance/X_under_sampled_no_relationship.csv')\n",
    "y_train_undersampled = pd.read_csv('../data/class_Imbalance/y_under_sampled_no_relationship.csv')\n",
    "\n",
    "x_train_oversampled = pd.read_csv('../data/class_Imbalance/X_over_sampled_no_relationship.csv')\n",
    "y_train_oversampled = pd.read_csv('../data/class_Imbalance/y_over_sampled_no_relationship.csv')\n",
    "\n",
    "x_train_smotenc = pd.read_csv('../data/class_Imbalance/X_SMOTENC_no_relationship.csv')\n",
    "y_train_smotenc = pd.read_csv('../data/class_Imbalance/y_SMOTENC_no_relationship.csv')\n",
    "\n",
    "y_train_smotenc = y_train_smotenc.rename(columns={'Body_Level_Num': 'Body_Level'})\n",
    "y_train_smotenc['Body_Level'] = y_train_smotenc['Body_Level'].map({1: 'Body Level 1', 2: 'Body Level 2', 3: 'Body Level 3', 4: 'Body Level 4'})\n",
    "\n",
    "\n",
    "x_train_smote_with_importance = pd.read_csv('../data/class_Imbalance/X_SMOTE_with_importance.csv')\n",
    "y_train_smote_with_importance = pd.read_csv('../data/class_Imbalance/y_SMOTE_with_importance.csv')\n",
    "\n",
    "y_train_smote_with_importance = y_train_smote_with_importance.rename(columns={'Body_Level_Num': 'Body_Level'})\n",
    "\n",
    "y_train_smote_with_importance['Body_Level'] = y_train_smote_with_importance['Body_Level'].map({1: 'Body Level 1', 2: 'Body Level 2', 3: 'Body Level 3', 4: 'Body Level 4'})\n"
   ]
  },
  {
   "cell_type": "code",
   "execution_count": 9,
   "metadata": {},
   "outputs": [],
   "source": [
    "# Encode categorical features\n",
    "x_train_undersampled_encoded = x_train_undersampled.copy()\n",
    "x_train_oversampled_encoded = x_train_oversampled.copy()\n",
    "x_train_smotenc_encoded = x_train_smotenc.copy()\n",
    "x_train_smote_with_importance_encoded = x_train_smote_with_importance.copy()\n",
    "\n",
    "for feature in categorical_features:\n",
    "    le = LabelEncoder()\n",
    "    x_train_undersampled_encoded[feature] = le.fit_transform(x_train_undersampled_encoded[feature])\n",
    "    x_train_oversampled_encoded[feature] = le.fit_transform(x_train_oversampled_encoded[feature])\n",
    "    x_train_smotenc_encoded[feature] = le.fit_transform(x_train_smotenc_encoded[feature])\n",
    "    x_train_smote_with_importance_encoded[feature] = le.fit_transform(x_train_smote_with_importance_encoded[feature])"
   ]
  },
  {
   "cell_type": "code",
   "execution_count": 44,
   "metadata": {},
   "outputs": [
    {
     "name": "stderr",
     "output_type": "stream",
     "text": [
      "/home/jimbo/.local/lib/python3.8/site-packages/sklearn/neighbors/_classification.py:215: DataConversionWarning: A column-vector y was passed when a 1d array was expected. Please change the shape of y to (n_samples,), for example using ravel().\n",
      "  return self._fit(X, y)\n"
     ]
    },
    {
     "name": "stdout",
     "output_type": "stream",
     "text": [
      "Accuracy score /w undersampling:  0.7364864864864865\n"
     ]
    }
   ],
   "source": [
    "# Create and fit the KNN classifier to the undersampled data\n",
    "knn = KNeighborsClassifier(n_neighbors=3)\n",
    "knn.fit(x_train_undersampled_encoded, y_train_undersampled)\n",
    "\n",
    "# Make predictions on the Valid set\n",
    "y_pred = knn.predict(X_valid)\n",
    "\n",
    "# Print the accuracy score\n",
    "print('Accuracy score /w undersampling: ', knn.score(X_valid, y_valid))"
   ]
  },
  {
   "cell_type": "code",
   "execution_count": 37,
   "metadata": {},
   "outputs": [
    {
     "name": "stderr",
     "output_type": "stream",
     "text": [
      "/home/jimbo/.local/lib/python3.8/site-packages/sklearn/neighbors/_classification.py:215: DataConversionWarning: A column-vector y was passed when a 1d array was expected. Please change the shape of y to (n_samples,), for example using ravel().\n",
      "  return self._fit(X, y)\n"
     ]
    },
    {
     "name": "stdout",
     "output_type": "stream",
     "text": [
      "Accuracy score /w oversampling:  0.7702702702702703\n"
     ]
    }
   ],
   "source": [
    "# Create and fit the KNN classifier to the oversampled data\n",
    "knn = KNeighborsClassifier(n_neighbors=3)\n",
    "knn.fit(x_train_oversampled_encoded, y_train_oversampled)\n",
    "\n",
    "# Make predictions on the Valid set\n",
    "y_pred = knn.predict(X_valid)\n",
    "\n",
    "# Print the accuracy score\n",
    "print('Accuracy score /w oversampling: ', knn.score(X_valid, y_valid))"
   ]
  },
  {
   "cell_type": "code",
   "execution_count": 35,
   "metadata": {},
   "outputs": [
    {
     "name": "stdout",
     "output_type": "stream",
     "text": [
      "Accuracy score /w smotenc:  0.7736486486486487\n"
     ]
    },
    {
     "name": "stderr",
     "output_type": "stream",
     "text": [
      "/home/jimbo/.local/lib/python3.8/site-packages/sklearn/neighbors/_classification.py:215: DataConversionWarning: A column-vector y was passed when a 1d array was expected. Please change the shape of y to (n_samples,), for example using ravel().\n",
      "  return self._fit(X, y)\n"
     ]
    }
   ],
   "source": [
    "# Create and fit the KNN classifier to the smotenc data\n",
    "knn = KNeighborsClassifier(n_neighbors=3)\n",
    "\n",
    "knn.fit(x_train_smotenc_encoded, y_train_smotenc)\n",
    "\n",
    "# Make predictions on the Valid set\n",
    "y_pred = knn.predict(X_valid)\n",
    "\n",
    "# Print the accuracy score\n",
    "print('Accuracy score /w smotenc: ', knn.score(X_valid, y_valid))"
   ]
  },
  {
   "cell_type": "code",
   "execution_count": 36,
   "metadata": {},
   "outputs": [
    {
     "name": "stderr",
     "output_type": "stream",
     "text": [
      "/home/jimbo/.local/lib/python3.8/site-packages/sklearn/neighbors/_classification.py:215: DataConversionWarning: A column-vector y was passed when a 1d array was expected. Please change the shape of y to (n_samples,), for example using ravel().\n",
      "  return self._fit(X, y)\n"
     ]
    },
    {
     "name": "stdout",
     "output_type": "stream",
     "text": [
      "Accuracy score /w smote with importance:  0.7668918918918919\n"
     ]
    }
   ],
   "source": [
    "# Create and fit the KNN classifier to the smote with importance data\n",
    "knn = KNeighborsClassifier(n_neighbors=3)\n",
    "knn.fit(x_train_smote_with_importance_encoded, y_train_smote_with_importance)\n",
    "\n",
    "# Make predictions on the Valid set\n",
    "y_pred = knn.predict(X_valid)\n",
    "\n",
    "# Print the accuracy score\n",
    "print('Accuracy score /w smote with importance: ', knn.score(X_valid, y_valid))"
   ]
  }
 ],
 "metadata": {
  "kernelspec": {
   "display_name": "Python 3",
   "language": "python",
   "name": "python3"
  },
  "language_info": {
   "codemirror_mode": {
    "name": "ipython",
    "version": 3
   },
   "file_extension": ".py",
   "mimetype": "text/x-python",
   "name": "python",
   "nbconvert_exporter": "python",
   "pygments_lexer": "ipython3",
   "version": "3.8.5"
  },
  "orig_nbformat": 4,
  "vscode": {
   "interpreter": {
    "hash": "0eefc6a63c6d719296cee5685f23fefb92aa63e2e9fdaf52ddbdc4ce266c7bb3"
   }
  }
 },
 "nbformat": 4,
 "nbformat_minor": 2
}
