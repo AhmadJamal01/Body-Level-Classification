{
 "cells": [
  {
   "cell_type": "code",
   "execution_count": 37,
   "metadata": {},
   "outputs": [],
   "source": [
    "from sklearn.metrics import confusion_matrix, classification_report\n",
    "from sklearn.model_selection import learning_curve, train_test_split\n",
    "from mlxtend.evaluate import bias_variance_decomp\n",
    "from sklearn.model_selection import GridSearchCV\n",
    "from sklearn.neighbors import KNeighborsClassifier \n",
    "from sklearn.preprocessing import LabelEncoder\n",
    "import pandas as pd\n",
    "import numpy as np\n",
    "import seaborn as sns\n",
    "import matplotlib.pyplot as plt"
   ]
  },
  {
   "cell_type": "code",
   "execution_count": 38,
   "metadata": {},
   "outputs": [],
   "source": [
    "df_train = pd.read_csv('../data/train.csv')\n",
    "df_valid = pd.read_csv('../data/val.csv')"
   ]
  },
  {
   "cell_type": "code",
   "execution_count": 39,
   "metadata": {},
   "outputs": [],
   "source": [
    "# Encode categorical features\n",
    "df_train_encoded = df_train.copy()\n",
    "categorical_features = ['Gender', 'H_Cal_Consump',\n",
    " 'Alcohol_Consump', 'Smoking',\n",
    " 'Food_Between_Meals', 'Fam_Hist',\n",
    " 'H_Cal_Burn', 'Phys_Act', 'Transport']\n",
    "for feature in categorical_features:\n",
    " le = LabelEncoder()\n",
    " df_train_encoded[feature] = le.fit_transform(df_train_encoded[feature])\n",
    "\n",
    "df_valid_encoded = df_valid.copy()\n",
    "for feature in categorical_features:\n",
    "    le = LabelEncoder()\n",
    "    df_valid_encoded[feature] = le.fit_transform(df_valid_encoded[feature])"
   ]
  },
  {
   "cell_type": "code",
   "execution_count": 40,
   "metadata": {},
   "outputs": [
    {
     "name": "stdout",
     "output_type": "stream",
     "text": [
      "1\n"
     ]
    }
   ],
   "source": [
    "# Define the parameter grid\n",
    "param_grid = {'n_neighbors': range(1, 31)}\n",
    "\n",
    "# Create a KNN classifier\n",
    "knn = KNeighborsClassifier()\n",
    "\n",
    "# Create the grid search object\n",
    "grid_search = GridSearchCV(knn, param_grid, cv=5)\n",
    "\n",
    "# Fit the grid search object to the data\n",
    "grid_search.fit(df_train_encoded.drop('Body_Level', axis=1), df_train_encoded['Body_Level'])\n",
    "\n",
    "# Get the best value of k\n",
    "best_k = grid_search.best_params_['n_neighbors']\n",
    "\n",
    "# Print the best value of k\n",
    "print(best_k)"
   ]
  },
  {
   "cell_type": "code",
   "execution_count": 41,
   "metadata": {},
   "outputs": [],
   "source": [
    "X_train = df_train_encoded.drop('Body_Level', axis=1)\n",
    "y_train = df_train_encoded['Body_Level']\n",
    "\n",
    "X_valid = df_valid_encoded.drop('Body_Level', axis=1)\n",
    "y_valid = df_valid_encoded['Body_Level']"
   ]
  },
  {
   "cell_type": "code",
   "execution_count": 42,
   "metadata": {},
   "outputs": [
    {
     "name": "stdout",
     "output_type": "stream",
     "text": [
      "Accuracy score:  0.7702702702702703\n"
     ]
    }
   ],
   "source": [
    "# Create and fit the KNN classifier\n",
    "knn = KNeighborsClassifier(n_neighbors=3)\n",
    "knn.fit(X_train, y_train)\n",
    "\n",
    "# Make predictions on the test set\n",
    "y_pred = knn.predict(X_valid)\n",
    "\n",
    "# Print the accuracy score\n",
    "print('Accuracy score: ', knn.score(X_valid, y_valid))"
   ]
  },
  {
   "cell_type": "markdown",
   "metadata": {},
   "source": [
    "# Print the confusion matrix\n",
    "cm = confusion_matrix(y_valid, y_pred)\n",
    "labels = list(set(y_valid))\n",
    "labels.sort()\n",
    "sns.heatmap(cm, annot=True, fmt='g', xticklabels=labels, yticklabels=labels)\n",
    "plt.xlabel('Prediction',fontsize=13)\n",
    "plt.ylabel('Actual',fontsize=13)\n",
    "plt.title('Confusion Matrix',fontsize=17)\n",
    "plt.show()"
   ]
  },
  {
   "cell_type": "code",
   "execution_count": 44,
   "metadata": {},
   "outputs": [],
   "source": [
    "# Try out all the other Datasets in class_imbalance folder\n",
    "x_train_undersampled = pd.read_csv('../data/class_Imbalance/X_under_sampled_no_relationship.csv')\n",
    "y_train_undersampled = pd.read_csv('../data/class_Imbalance/y_under_sampled_no_relationship.csv')\n",
    "\n",
    "x_train_oversampled = pd.read_csv('../data/class_Imbalance/X_over_sampled_no_relationship.csv')\n",
    "y_train_oversampled = pd.read_csv('../data/class_Imbalance/y_over_sampled_no_relationship.csv')\n",
    "\n",
    "x_train_smotenc = pd.read_csv('../data/class_Imbalance/X_SMOTENC_no_relationship.csv')\n",
    "y_train_smotenc = pd.read_csv('../data/class_Imbalance/y_SMOTENC_no_relationship.csv')\n",
    "\n",
    "y_train_smotenc = y_train_smotenc.rename(columns={'Body_Level_Num': 'Body_Level'})\n",
    "y_train_smotenc['Body_Level'] = y_train_smotenc['Body_Level'].map({1: 'Body Level 1', 2: 'Body Level 2', 3: 'Body Level 3', 4: 'Body Level 4'})\n",
    "\n",
    "\n",
    "x_train_smote_with_importance = pd.read_csv('../data/class_Imbalance/X_SMOTE_with_importance.csv')\n",
    "y_train_smote_with_importance = pd.read_csv('../data/class_Imbalance/y_SMOTE_with_importance.csv')\n",
    "\n",
    "y_train_smote_with_importance = y_train_smote_with_importance.rename(columns={'Body_Level_Num': 'Body_Level'})\n",
    "\n",
    "y_train_smote_with_importance['Body_Level'] = y_train_smote_with_importance['Body_Level'].map({1: 'Body Level 1', 2: 'Body Level 2', 3: 'Body Level 3', 4: 'Body Level 4'})\n"
   ]
  },
  {
   "cell_type": "code",
   "execution_count": 45,
   "metadata": {},
   "outputs": [],
   "source": [
    "# Encode categorical features\n",
    "x_train_undersampled_encoded = x_train_undersampled.copy()\n",
    "x_train_oversampled_encoded = x_train_oversampled.copy()\n",
    "x_train_smotenc_encoded = x_train_smotenc.copy()\n",
    "x_train_smote_with_importance_encoded = x_train_smote_with_importance.copy()\n",
    "\n",
    "for feature in categorical_features:\n",
    "    le = LabelEncoder()\n",
    "    x_train_undersampled_encoded[feature] = le.fit_transform(x_train_undersampled_encoded[feature])\n",
    "    x_train_oversampled_encoded[feature] = le.fit_transform(x_train_oversampled_encoded[feature])\n",
    "    x_train_smotenc_encoded[feature] = le.fit_transform(x_train_smotenc_encoded[feature])\n",
    "    x_train_smote_with_importance_encoded[feature] = le.fit_transform(x_train_smote_with_importance_encoded[feature])"
   ]
  },
  {
   "cell_type": "code",
   "execution_count": 46,
   "metadata": {},
   "outputs": [
    {
     "name": "stdout",
     "output_type": "stream",
     "text": [
      "              precision    recall  f1-score   support\n",
      "\n",
      "Body Level 1       0.61      0.91      0.73        34\n",
      "Body Level 2       0.61      0.26      0.37        42\n",
      "Body Level 3       0.64      0.76      0.69        80\n",
      "Body Level 4       0.88      0.82      0.85       140\n",
      "\n",
      "    accuracy                           0.74       296\n",
      "   macro avg       0.68      0.69      0.66       296\n",
      "weighted avg       0.74      0.74      0.72       296\n",
      "\n"
     ]
    }
   ],
   "source": [
    "# Create and fit the KNN classifier to the undersampled data\n",
    "knn = KNeighborsClassifier(n_neighbors=3)\n",
    "knn.fit(x_train_undersampled_encoded, y_train_undersampled['Body_Level'])\n",
    "\n",
    "# Make predictions on the Valid set\n",
    "y_pred = knn.predict(X_valid)\n",
    "\n",
    "\n",
    "print(classification_report(y_valid, y_pred))"
   ]
  },
  {
   "cell_type": "code",
   "execution_count": 47,
   "metadata": {},
   "outputs": [
    {
     "name": "stdout",
     "output_type": "stream",
     "text": [
      "              precision    recall  f1-score   support\n",
      "\n",
      "Body Level 1       0.65      0.94      0.77        34\n",
      "Body Level 2       0.82      0.21      0.34        42\n",
      "Body Level 3       0.66      0.71      0.69        80\n",
      "Body Level 4       0.87      0.93      0.90       140\n",
      "\n",
      "    accuracy                           0.77       296\n",
      "   macro avg       0.75      0.70      0.67       296\n",
      "weighted avg       0.78      0.77      0.75       296\n",
      "\n"
     ]
    }
   ],
   "source": [
    "# Create and fit the KNN classifier to the oversampled data\n",
    "knn = KNeighborsClassifier(n_neighbors=3)\n",
    "knn.fit(x_train_oversampled_encoded, y_train_oversampled['Body_Level'])\n",
    "\n",
    "# Make predictions on the Valid set\n",
    "y_pred = knn.predict(X_valid)\n",
    "\n",
    "print(classification_report(y_valid, y_pred))"
   ]
  },
  {
   "cell_type": "code",
   "execution_count": 48,
   "metadata": {},
   "outputs": [
    {
     "name": "stdout",
     "output_type": "stream",
     "text": [
      "              precision    recall  f1-score   support\n",
      "\n",
      "Body Level 1       0.66      0.97      0.79        34\n",
      "Body Level 2       0.82      0.21      0.34        42\n",
      "Body Level 3       0.68      0.71      0.70        80\n",
      "Body Level 4       0.86      0.93      0.89       140\n",
      "\n",
      "    accuracy                           0.77       296\n",
      "   macro avg       0.75      0.71      0.68       296\n",
      "weighted avg       0.78      0.77      0.75       296\n",
      "\n"
     ]
    }
   ],
   "source": [
    "# Create and fit the KNN classifier to the smotenc data\n",
    "knn = KNeighborsClassifier(n_neighbors=3)\n",
    "\n",
    "knn.fit(x_train_smotenc_encoded, y_train_smotenc['Body_Level'])\n",
    "\n",
    "# Make predictions on the Valid set\n",
    "y_pred = knn.predict(X_valid)\n",
    "\n",
    "print(classification_report(y_valid, y_pred))"
   ]
  },
  {
   "cell_type": "code",
   "execution_count": 49,
   "metadata": {},
   "outputs": [
    {
     "name": "stdout",
     "output_type": "stream",
     "text": [
      "              precision    recall  f1-score   support\n",
      "\n",
      "Body Level 1       0.77      0.97      0.86        34\n",
      "Body Level 2       0.90      0.21      0.35        42\n",
      "Body Level 3       0.62      0.68      0.65        80\n",
      "Body Level 4       0.84      0.94      0.89       140\n",
      "\n",
      "    accuracy                           0.77       296\n",
      "   macro avg       0.78      0.70      0.68       296\n",
      "weighted avg       0.78      0.77      0.74       296\n",
      "\n"
     ]
    }
   ],
   "source": [
    "# Create and fit the KNN classifier to the smote with importance data\n",
    "knn = KNeighborsClassifier(n_neighbors=3)\n",
    "knn.fit(x_train_smote_with_importance_encoded, y_train_smote_with_importance['Body_Level'])\n",
    "\n",
    "# Make predictions on the Valid set\n",
    "y_pred = knn.predict(X_valid)\n",
    "\n",
    "print(classification_report(y_valid, y_pred))"
   ]
  },
  {
   "attachments": {},
   "cell_type": "markdown",
   "metadata": {},
   "source": [
    "## Bias Variance Tradeoff"
   ]
  },
  {
   "cell_type": "code",
   "execution_count": 50,
   "metadata": {},
   "outputs": [
    {
     "data": {
      "image/png": "[encoded data removed]",
      "text/plain": [
       "<Figure size 432x288 with 1 Axes>"
      ]
     },
     "metadata": {
      "needs_background": "light"
     },
     "output_type": "display_data"
    }
   ],
   "source": [
    "# Let's use the smotenc model to showcase the accuracy of the model against the value of k\n",
    "# Create a list of values for k\n",
    "# This is pretty much a bias vs variance tradeoff plot\n",
    "k_list = list(range(1, 31))\n",
    "\n",
    "train_errors = []\n",
    "valid_errors = []\n",
    "\n",
    "for k in k_list:\n",
    "    knn = KNeighborsClassifier(n_neighbors=k)\n",
    "    knn.fit(x_train_smotenc_encoded, y_train_smotenc['Body_Level'])\n",
    "    train_error = 1 - knn.score(x_train_smotenc_encoded, y_train_smotenc['Body_Level'])\n",
    "    valid_error = 1 - knn.score(X_valid, y_valid)\n",
    "    train_errors.append(train_error)\n",
    "    valid_errors.append(valid_error)\n",
    "\n",
    "# Plot the train and validation errors vs. k\n",
    "plt.plot(k_list, train_errors, label='Train error')\n",
    "plt.plot(k_list, valid_errors, label='Validation error')\n",
    "plt.xlabel('k')\n",
    "plt.ylabel('Classification error')\n",
    "plt.title('Train error vs Validation error')\n",
    "plt.legend()\n",
    "plt.show()"
   ]
  },
  {
   "attachments": {},
   "cell_type": "markdown",
   "metadata": {},
   "source": [
    "## Observations"
   ]
  },
  {
   "attachments": {},
   "cell_type": "markdown",
   "metadata": {},
   "source": [
    "This is a bias variance trade off plot, if a little weird looking (inverted). What's critical to understand for it to make sense is that increasing k actually leads to a less complex model. This can be traced to the decision boundary of the model for every k, for a k of 1 for example, the decision boundary is complex because it takes only one neighbor into consideration, so it follows the data points closely (can be thought of as overfitting), while when we increase k, it takes more neighbors into consideration, thus leading to a more general & smooth decision boundary which is less complex & generalizes better.\n",
    "\n",
    "So, it's clear that as the model complexity decreases, the generalization performance of the model improves (the difference between the train & validation errors decreases) but the training & the validation errors themselves will increase because the model itself is less complex & less able to fit the data. \n",
    "\n",
    "In terms of bias & variance, the lower k values have less bias but more variance and as k increases, variance decreases but bias increases."
   ]
  },
  {
   "attachments": {},
   "cell_type": "markdown",
   "metadata": {},
   "source": [
    "## Learning Curve"
   ]
  },
  {
   "cell_type": "code",
   "execution_count": 63,
   "metadata": {},
   "outputs": [
    {
     "data": {
      "image/png": "[encoded data removed]",
      "text/plain": [
       "<Figure size 432x288 with 1 Axes>"
      ]
     },
     "metadata": {
      "needs_background": "light"
     },
     "output_type": "display_data"
    }
   ],
   "source": [
    "# Set the number of neighbors\n",
    "k = 5\n",
    "\n",
    "# Create a k-nearest neighbors classifier\n",
    "knn = KNeighborsClassifier(n_neighbors=k)\n",
    "\n",
    "# Compute the training and validation scores for different training set sizes\n",
    "train_sizes, train_scores, valid_scores = learning_curve(\n",
    "    knn,\n",
    "    x_train_smotenc_encoded,\n",
    "    y_train_smotenc['Body_Level'],\n",
    "    train_sizes=np.linspace(0.1, 1.0, 10),\n",
    "    cv=5,\n",
    ")\n",
    "\n",
    "# Compute the mean and standard deviation of the scores\n",
    "train_scores_mean = np.mean(train_scores, axis=1)\n",
    "train_scores_std = np.std(train_scores, axis=1)\n",
    "valid_scores_mean = np.mean(valid_scores, axis=1)\n",
    "valid_scores_std = np.std(valid_scores, axis=1)\n",
    "\n",
    "# Plot the learning curve\n",
    "plt.fill_between(train_sizes, train_scores_mean - train_scores_std,\n",
    "                 train_scores_mean + train_scores_std, alpha=0.1,\n",
    "                 color=\"r\")\n",
    "plt.fill_between(train_sizes, valid_scores_mean - valid_scores_std,\n",
    "                 valid_scores_mean + valid_scores_std, alpha=0.1,\n",
    "                 color=\"g\")\n",
    "plt.plot(train_sizes, 1 - train_scores_mean, 'o-', color=\"r\",\n",
    "         label=\"Training Error\")\n",
    "plt.plot(train_sizes, 1 - valid_scores_mean, 'o-', color=\"g\",\n",
    "         label=\"Cross-validation Error\")\n",
    "plt.title('Learning Curve')\n",
    "plt.xlabel('Training examples')\n",
    "plt.ylabel('Error')\n",
    "plt.legend(loc=\"best\")\n",
    "plt.show()"
   ]
  },
  {
   "cell_type": "code",
   "execution_count": 60,
   "metadata": {},
   "outputs": [
    {
     "data": {
      "image/png": "[encoded data removed]",
      "text/plain": [
       "<Figure size 432x288 with 1 Axes>"
      ]
     },
     "metadata": {
      "needs_background": "light"
     },
     "output_type": "display_data"
    }
   ],
   "source": [
    "# Set the number of neighbors\n",
    "k = 5\n",
    "\n",
    "\n",
    "train_sizes = np.linspace(0.1, 1.0, 25)\n",
    "\n",
    "# Initial split of the data\n",
    "X_TRAIN, X_valid, Y_TRAIN, y_valid = train_test_split(\n",
    "        df_train_encoded.drop('Body_Level', axis=1),\n",
    "        df_train_encoded['Body_Level'],\n",
    "        train_size=0.8,\n",
    "        stratify=df_train_encoded['Body_Level'],\n",
    "        random_state=42\n",
    "    )\n",
    "\n",
    "biases = []\n",
    "variances = []\n",
    "expected_losses = []\n",
    "\n",
    "for train_size in train_sizes:\n",
    "    # Split the data into training and validation sets\n",
    "    if train_size == 1.0:\n",
    "        X_train = X_TRAIN\n",
    "        y_train = Y_TRAIN\n",
    "    else:\n",
    "        X_train = X_TRAIN.sample(frac=train_size, random_state=42)\n",
    "        y_train = Y_TRAIN.loc[X_train.index]\n",
    "\n",
    "    knn = KNeighborsClassifier(n_neighbors=k)\n",
    "\n",
    "    # Compute the bias and variance\n",
    "    avg_expected_loss, avg_bias, avg_var = bias_variance_decomp(\n",
    "        knn,\n",
    "        X_train.values,\n",
    "        y_train.map({'Body Level 1': 1, 'Body Level 2': 2, 'Body Level 3': 3, 'Body Level 4': 4,}).values,\n",
    "        X_valid.values,\n",
    "        y_valid.map({'Body Level 1': 1, 'Body Level 2': 2, 'Body Level 3': 3, 'Body Level 4': 4,}).values,\n",
    "        loss='0-1_loss',\n",
    "        random_seed=0,\n",
    "    )\n",
    "    biases.append(avg_bias)\n",
    "    variances.append(avg_var)\n",
    "    expected_losses.append(avg_expected_loss)\n",
    "\n",
    "# Plot the bias and variance\n",
    "plt.plot(train_sizes, biases, 'o-', color=\"r\", label=\"Bias\")\n",
    "plt.plot(train_sizes, variances, 'o-', color=\"g\", label=\"Variance\")\n",
    "plt.plot(train_sizes, expected_losses, 'o-', color=\"b\", label=\"Expected loss\")\n",
    "plt.title('Bias-Variance Tradeoff')\n",
    "plt.xlabel('Training examples')\n",
    "plt.ylabel('Score')\n",
    "plt.legend(loc=\"best\")\n",
    "plt.show()"
   ]
  },
  {
   "cell_type": "code",
   "execution_count": null,
   "metadata": {},
   "outputs": [],
   "source": []
  }
 ],
 "metadata": {
  "kernelspec": {
   "display_name": "Python 3",
   "language": "python",
   "name": "python3"
  },
  "language_info": {
   "codemirror_mode": {
    "name": "ipython",
    "version": 3
   },
   "file_extension": ".py",
   "mimetype": "text/x-python",
   "name": "python",
   "nbconvert_exporter": "python",
   "pygments_lexer": "ipython3",
   "version": "3.8.5"
  },
  "orig_nbformat": 4,
  "vscode": {
   "interpreter": {
    "hash": "0eefc6a63c6d719296cee5685f23fefb92aa63e2e9fdaf52ddbdc4ce266c7bb3"
   }
  }
 },
 "nbformat": 4,
 "nbformat_minor": 2
}
