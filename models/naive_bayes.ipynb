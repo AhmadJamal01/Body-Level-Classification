{
 "cells": [
  {
   "cell_type": "code",
   "execution_count": 2,
   "metadata": {},
   "outputs": [],
   "source": [
    "# Import packages\n",
    "import numpy as np\n",
    "import pandas as pd\n",
    "import seaborn as sns\n",
    "import matplotlib.pyplot as plt\n",
    "from sklearn.naive_bayes import MultinomialNB\n",
    "from sklearn.metrics import confusion_matrix\n",
    "from sklearn.metrics import accuracy_score, precision_score, recall_score, f1_score\n",
    "from sklearn.metrics import precision_recall_fscore_support as score"
   ]
  },
  {
   "cell_type": "code",
   "execution_count": 7,
   "metadata": {},
   "outputs": [],
   "source": [
    "df = pd.read_csv('../data/train.csv')\n",
    "df_val = pd.read_csv('../data/val.csv')"
   ]
  },
  {
   "cell_type": "code",
   "execution_count": 8,
   "metadata": {},
   "outputs": [],
   "source": [
    "features = list(df.columns.array)\n",
    "features.reverse()\n",
    "label = features.pop(0)\n",
    "features.reverse()\n",
    "x_train = df[features]\n",
    "y_train = df['Body_Level']\n",
    "x_val = df_val[features]\n",
    "y_val = df_val['Body_Level']"
   ]
  },
  {
   "cell_type": "code",
   "execution_count": 9,
   "metadata": {},
   "outputs": [],
   "source": [
    "# First, let's transform numerical data to categorical data. This can be done by dividing them into ranges.\n",
    "def convert_to_categorical(feature, percentiles_given=None, num_of_categs=5):\n",
    "    cat_feature = feature.copy()\n",
    "    percentiles = None\n",
    "    if percentiles_given is None:\n",
    "        percents = []\n",
    "        for i in range(num_of_categs-1):\n",
    "            percents.append((i+1.0)/num_of_categs)\n",
    "        percentiles = np.quantile(list(feature),percents)\n",
    "    else:\n",
    "        percentiles = percentiles_given\n",
    "    for i in range(len(feature)):\n",
    "        for j in range(len(percentiles)+1):\n",
    "            if j == (len(percentiles)):\n",
    "                cat_feature[i] = j\n",
    "                break\n",
    "            if j == 0 and feature[i] < percentiles[j]:\n",
    "                cat_feature[i] = j\n",
    "                break\n",
    "            elif feature[i] >= percentiles[j-1] and feature[i] < percentiles[j]:\n",
    "                cat_feature[i] = j\n",
    "                break\n",
    "    return cat_feature, percentiles"
   ]
  },
  {
   "cell_type": "code",
   "execution_count": 11,
   "metadata": {},
   "outputs": [],
   "source": [
    "# Second, let's transform map the categorical data to values.\n",
    "def map_categorical(feature, categs_given=None):\n",
    "    cat_feature = feature.copy()\n",
    "    categs = None\n",
    "    if categs_given is None:\n",
    "        categs = list(feature.unique())\n",
    "    else:\n",
    "        categs = categs_given\n",
    "    for i in range(len(feature)):\n",
    "        for j in range(len(categs)):\n",
    "            if feature[i] == categs[j]:\n",
    "                cat_feature[i] = j\n",
    "                break\n",
    "    return cat_feature, categs"
   ]
  },
  {
   "cell_type": "code",
   "execution_count": 6,
   "metadata": {},
   "outputs": [],
   "source": [
    "df.drop('Body_Level', inplace=True, axis=1)\n",
    "df_val.drop('Body_Level', inplace=True, axis=1)\n",
    "x_train_10_bins = df.copy(deep=True)\n",
    "x_val_10_bins = df_val.copy(deep=True)\n",
    "x_train_16_bins = df.copy(deep=True)\n",
    "x_val_16_bins = df_val.copy(deep=True)\n",
    "x_train_30_bins = df.copy(deep=True)\n",
    "x_val_30_bins = df_val.copy(deep=True)\n",
    "percentiles_10 = dict()\n",
    "percentiles_16 = dict()\n",
    "percentiles_30 = dict()\n",
    "numerical_features = ['Age', 'Height', 'Weight', 'Veg_Consump', 'Water_Consump', 'Meal_Count', 'Phys_Act', 'Time_E_Dev']\n",
    "for feature in numerical_features:\n",
    "    x_train_10_bins[feature], percentiles_10_ = convert_to_categorical(x_train[feature], num_of_categs=10)\n",
    "    x_train_16_bins[feature], percentiles_16_ = convert_to_categorical(x_train[feature], num_of_categs=16)\n",
    "    x_train_30_bins[feature], percentiles_30_ = convert_to_categorical(x_train[feature], num_of_categs=30)\n",
    "    percentiles_10[feature] = percentiles_10_\n",
    "    percentiles_16[feature] = percentiles_16_\n",
    "    percentiles_30[feature] = percentiles_30_\n",
    "for feature in numerical_features:\n",
    "    x_val_10_bins[feature], _ = convert_to_categorical(x_val[feature], percentiles_given=percentiles_10[feature], num_of_categs=10)\n",
    "    x_val_16_bins[feature], _ = convert_to_categorical(x_val[feature], percentiles_given=percentiles_16[feature], num_of_categs=16)\n",
    "    x_val_30_bins[feature], _ = convert_to_categorical(x_val[feature], percentiles_given=percentiles_30[feature], num_of_categs=30)"
   ]
  },
  {
   "cell_type": "code",
   "execution_count": 7,
   "metadata": {},
   "outputs": [],
   "source": [
    "categorical_features = ['Gender','H_Cal_Consump', 'Smoking', 'Fam_Hist', 'H_Cal_Burn', 'Alcohol_Consump', 'Food_Between_Meals', 'Transport']\n",
    "categs = dict()\n",
    "for feature in categorical_features:\n",
    "    temp, categs_ = map_categorical(x_train[feature])\n",
    "    x_train_10_bins[feature] = temp\n",
    "    x_train_16_bins[feature] = temp\n",
    "    x_train_30_bins[feature] = temp\n",
    "    categs[feature] = categs_\n",
    "for feature in categorical_features:\n",
    "    temp, _ = map_categorical(x_val[feature], categs_given=categs[feature])\n",
    "    x_val_10_bins[feature] = temp\n",
    "    x_val_16_bins[feature] = temp\n",
    "    x_val_30_bins[feature] = temp"
   ]
  },
  {
   "attachments": {},
   "cell_type": "markdown",
   "metadata": {},
   "source": [
    "### 10 bins for numerical data + Default Parameters: alpha=1.0, force_alpha=False, fit_prior=True, class_prior=None"
   ]
  },
  {
   "cell_type": "code",
   "execution_count": 8,
   "metadata": {},
   "outputs": [],
   "source": [
    "# Training\n",
    "naive_bayes_model = MultinomialNB()\n",
    "naive_bayes_model.fit(x_train_10_bins, y_train)\n",
    "\n",
    "# Prediction\n",
    "naive_bayes_predictions = naive_bayes_model.predict(x_val_10_bins)"
   ]
  },
  {
   "cell_type": "code",
   "execution_count": 9,
   "metadata": {},
   "outputs": [
    {
     "data": {
      "image/png": "[encoded data removed]",
      "text/plain": [
       "<Figure size 432x288 with 2 Axes>"
      ]
     },
     "metadata": {
      "needs_background": "light"
     },
     "output_type": "display_data"
    }
   ],
   "source": [
    "# Compute the confusion matrix.\n",
    "cm = confusion_matrix(y_val,naive_bayes_predictions)\n",
    "# Plot the confusion matrix.\n",
    "labels = list(set(y_train))\n",
    "labels.sort()\n",
    "sns.heatmap(cm, annot=True, fmt='g', xticklabels=labels, yticklabels=labels)\n",
    "plt.ylabel('Prediction',fontsize=13)\n",
    "plt.xlabel('Actual',fontsize=13)\n",
    "plt.title('Confusion Matrix',fontsize=17)\n",
    "plt.show()"
   ]
  },
  {
   "cell_type": "code",
   "execution_count": 10,
   "metadata": {},
   "outputs": [
    {
     "name": "stdout",
     "output_type": "stream",
     "text": [
      "Accuracy   : 0.6317567567567568\n",
      "Precision : [0.65625    0.43902439 0.44776119 0.75641026] Macro Precision : 0.5748614601710024\n",
      "Recall    : [0.61764706 0.42857143 0.375      0.84285714] Macro Recall    : 0.5660189075630252\n",
      "F1-score  : [0.63636364 0.43373494 0.40816327 0.7972973 ] Macro F1-score  : 0.5688897846815231\n"
     ]
    }
   ],
   "source": [
    "# Finding the accuracy.\n",
    "accuracy = accuracy_score(y_val,naive_bayes_predictions)\n",
    "print(\"Accuracy   :\", accuracy)\n",
    "\n",
    "# Finding precision and recall\n",
    "precision, recall, F1_score, support = score(y_val,naive_bayes_predictions)\n",
    "print(\"Precision :\", precision, \"Macro Precision :\", sum(precision)/len(precision))\n",
    "print(\"Recall    :\", recall, \"Macro Recall    :\", sum(recall)/len(recall))\n",
    "print(\"F1-score  :\", F1_score, \"Macro F1-score  :\", sum(F1_score)/len(F1_score))"
   ]
  },
  {
   "attachments": {},
   "cell_type": "markdown",
   "metadata": {},
   "source": [
    "### 16 bins for numerical data + Default Parameters: alpha=1.0, force_alpha=False, fit_prior=True, class_prior=None"
   ]
  },
  {
   "cell_type": "code",
   "execution_count": 11,
   "metadata": {},
   "outputs": [],
   "source": [
    "# Training\n",
    "naive_bayes_model = MultinomialNB()\n",
    "naive_bayes_model.fit(x_train_16_bins, y_train)\n",
    "\n",
    "# Prediction\n",
    "naive_bayes_predictions = naive_bayes_model.predict(x_val_16_bins)"
   ]
  },
  {
   "cell_type": "code",
   "execution_count": 12,
   "metadata": {},
   "outputs": [
    {
     "data": {
      "image/png": "[encoded data removed]",
      "text/plain": [
       "<Figure size 432x288 with 2 Axes>"
      ]
     },
     "metadata": {
      "needs_background": "light"
     },
     "output_type": "display_data"
    }
   ],
   "source": [
    "# Compute the confusion matrix.\n",
    "cm = confusion_matrix(y_val,naive_bayes_predictions)\n",
    "# Plot the confusion matrix.\n",
    "labels = list(set(y_train))\n",
    "labels.sort()\n",
    "sns.heatmap(cm, annot=True, fmt='g', xticklabels=labels, yticklabels=labels)\n",
    "plt.ylabel('Prediction',fontsize=13)\n",
    "plt.xlabel('Actual',fontsize=13)\n",
    "plt.title('Confusion Matrix',fontsize=17)\n",
    "plt.show()"
   ]
  },
  {
   "cell_type": "code",
   "execution_count": 13,
   "metadata": {},
   "outputs": [
    {
     "name": "stdout",
     "output_type": "stream",
     "text": [
      "Accuracy   : 0.6452702702702703\n",
      "Precision : [0.6875     0.42553191 0.4875     0.80291971] Macro Precision : 0.6008629057307036\n",
      "Recall    : [0.64705882 0.47619048 0.4875     0.78571429] Macro Recall    : 0.5991158963585435\n",
      "F1-score  : [0.66666667 0.4494382  0.4875     0.79422383] Macro F1-score  : 0.5994571739071648\n"
     ]
    }
   ],
   "source": [
    "# Finding the accuracy.\n",
    "accuracy = accuracy_score(y_val,naive_bayes_predictions)\n",
    "print(\"Accuracy   :\", accuracy)\n",
    "\n",
    "# Finding precision and recall\n",
    "precision, recall, F1_score, support = score(y_val,naive_bayes_predictions)\n",
    "print(\"Precision :\", precision, \"Macro Precision :\", sum(precision)/len(precision))\n",
    "print(\"Recall    :\", recall, \"Macro Recall    :\", sum(recall)/len(recall))\n",
    "print(\"F1-score  :\", F1_score, \"Macro F1-score  :\", sum(F1_score)/len(F1_score))"
   ]
  },
  {
   "attachments": {},
   "cell_type": "markdown",
   "metadata": {},
   "source": [
    "### 30 bins for numerical data + Default Parameters: alpha=1.0, force_alpha=False, fit_prior=True, class_prior=None"
   ]
  },
  {
   "cell_type": "code",
   "execution_count": 14,
   "metadata": {},
   "outputs": [],
   "source": [
    "# Training\n",
    "naive_bayes_model = MultinomialNB()\n",
    "naive_bayes_model.fit(x_train_30_bins, y_train)\n",
    "\n",
    "# Prediction\n",
    "naive_bayes_predictions = naive_bayes_model.predict(x_val_30_bins)"
   ]
  },
  {
   "cell_type": "code",
   "execution_count": 15,
   "metadata": {},
   "outputs": [
    {
     "data": {
      "image/png": "[encoded data removed]",
      "text/plain": [
       "<Figure size 432x288 with 2 Axes>"
      ]
     },
     "metadata": {
      "needs_background": "light"
     },
     "output_type": "display_data"
    }
   ],
   "source": [
    "# Compute the confusion matrix.\n",
    "cm = confusion_matrix(y_val,naive_bayes_predictions)\n",
    "# Plot the confusion matrix.\n",
    "labels = list(set(y_train))\n",
    "labels.sort()\n",
    "sns.heatmap(cm, annot=True, fmt='g', xticklabels=labels, yticklabels=labels)\n",
    "plt.ylabel('Prediction',fontsize=13)\n",
    "plt.xlabel('Actual',fontsize=13)\n",
    "plt.title('Confusion Matrix',fontsize=17)\n",
    "plt.show()"
   ]
  },
  {
   "cell_type": "code",
   "execution_count": 16,
   "metadata": {},
   "outputs": [
    {
     "name": "stdout",
     "output_type": "stream",
     "text": [
      "Accuracy   : 0.6418918918918919\n",
      "Precision : [0.64705882 0.42       0.50617284 0.80916031] Macro Precision : 0.595597992094774\n",
      "Recall    : [0.64705882 0.5        0.5125     0.75714286] Macro Recall    : 0.6041754201680671\n",
      "F1-score  : [0.64705882 0.45652174 0.50931677 0.78228782] Macro F1-score  : 0.5987962889311027\n"
     ]
    }
   ],
   "source": [
    "# Finding the accuracy.\n",
    "accuracy = accuracy_score(y_val,naive_bayes_predictions)\n",
    "print(\"Accuracy   :\", accuracy)\n",
    "\n",
    "# Finding precision and recall\n",
    "precision, recall, F1_score, support = score(y_val,naive_bayes_predictions)\n",
    "print(\"Precision :\", precision, \"Macro Precision :\", sum(precision)/len(precision))\n",
    "print(\"Recall    :\", recall, \"Macro Recall    :\", sum(recall)/len(recall))\n",
    "print(\"F1-score  :\", F1_score, \"Macro F1-score  :\", sum(F1_score)/len(F1_score))"
   ]
  },
  {
   "attachments": {},
   "cell_type": "markdown",
   "metadata": {},
   "source": [
    "### Data without using bins and using one hot vectors"
   ]
  },
  {
   "cell_type": "code",
   "execution_count": 1,
   "metadata": {},
   "outputs": [],
   "source": [
    "%run \"../all_numerical_data.ipynb\""
   ]
  },
  {
   "cell_type": "code",
   "execution_count": 3,
   "metadata": {},
   "outputs": [],
   "source": [
    "# Training\n",
    "naive_bayes_model = MultinomialNB()\n",
    "naive_bayes_model.fit(x_train, y_train)\n",
    "\n",
    "# Prediction\n",
    "naive_bayes_predictions = naive_bayes_model.predict(x_val)"
   ]
  },
  {
   "cell_type": "code",
   "execution_count": 4,
   "metadata": {},
   "outputs": [
    {
     "data": {
      "image/png": "[encoded data removed]",
      "text/plain": [
       "<Figure size 432x288 with 2 Axes>"
      ]
     },
     "metadata": {
      "needs_background": "light"
     },
     "output_type": "display_data"
    }
   ],
   "source": [
    "# Compute the confusion matrix.\n",
    "cm = confusion_matrix(y_val,naive_bayes_predictions)\n",
    "# Plot the confusion matrix.\n",
    "labels = list(set(y_train))\n",
    "labels.sort()\n",
    "sns.heatmap(cm, annot=True, fmt='g', xticklabels=labels, yticklabels=labels)\n",
    "plt.ylabel('Prediction',fontsize=13)\n",
    "plt.xlabel('Actual',fontsize=13)\n",
    "plt.title('Confusion Matrix',fontsize=17)\n",
    "plt.show()"
   ]
  },
  {
   "cell_type": "code",
   "execution_count": 5,
   "metadata": {},
   "outputs": [
    {
     "name": "stdout",
     "output_type": "stream",
     "text": [
      "Accuracy   : 0.706081081081081\n",
      "Precision : [0.71428571 0.63636364 0.53763441 0.82191781] Macro Precision : 0.6775503918676697\n",
      "Recall    : [0.73529412 0.33333333 0.625      0.85714286] Macro Recall    : 0.6376925770308123\n",
      "F1-score  : [0.72463768 0.4375     0.57803468 0.83916084] Macro F1-score  : 0.644833300600296\n"
     ]
    }
   ],
   "source": [
    "# Finding the accuracy.\n",
    "accuracy = accuracy_score(y_val,naive_bayes_predictions)\n",
    "print(\"Accuracy   :\", accuracy)\n",
    "\n",
    "# Finding precision and recall\n",
    "precision, recall, F1_score, support = score(y_val,naive_bayes_predictions)\n",
    "print(\"Precision :\", precision, \"Macro Precision :\", sum(precision)/len(precision))\n",
    "print(\"Recall    :\", recall, \"Macro Recall    :\", sum(recall)/len(recall))\n",
    "print(\"F1-score  :\", F1_score, \"Macro F1-score  :\", sum(F1_score)/len(F1_score))"
   ]
  },
  {
   "attachments": {},
   "cell_type": "markdown",
   "metadata": {},
   "source": [
    "### Data without using bins and mapping categories to numbers"
   ]
  },
  {
   "cell_type": "code",
   "execution_count": 12,
   "metadata": {},
   "outputs": [],
   "source": [
    "df = pd.read_csv('../data/train.csv')\n",
    "df_val = pd.read_csv('../data/val.csv')"
   ]
  },
  {
   "cell_type": "code",
   "execution_count": 13,
   "metadata": {},
   "outputs": [],
   "source": [
    "features = list(df.columns.array)\n",
    "features.reverse()\n",
    "label = features.pop(0)\n",
    "features.reverse()\n",
    "x_train = df[features]\n",
    "y_train = df['Body_Level']\n",
    "x_val = df_val[features]\n",
    "y_val = df_val['Body_Level']"
   ]
  },
  {
   "cell_type": "code",
   "execution_count": 14,
   "metadata": {},
   "outputs": [
    {
     "name": "stderr",
     "output_type": "stream",
     "text": [
      "d:\\Anaconda\\lib\\site-packages\\ipykernel_launcher.py:5: SettingWithCopyWarning: \n",
      "A value is trying to be set on a copy of a slice from a DataFrame.\n",
      "Try using .loc[row_indexer,col_indexer] = value instead\n",
      "\n",
      "See the caveats in the documentation: https://pandas.pydata.org/pandas-docs/stable/user_guide/indexing.html#returning-a-view-versus-a-copy\n",
      "  \"\"\"\n",
      "d:\\Anaconda\\lib\\site-packages\\ipykernel_launcher.py:9: SettingWithCopyWarning: \n",
      "A value is trying to be set on a copy of a slice from a DataFrame.\n",
      "Try using .loc[row_indexer,col_indexer] = value instead\n",
      "\n",
      "See the caveats in the documentation: https://pandas.pydata.org/pandas-docs/stable/user_guide/indexing.html#returning-a-view-versus-a-copy\n",
      "  if __name__ == '__main__':\n"
     ]
    }
   ],
   "source": [
    "categorical_features = ['Gender','H_Cal_Consump', 'Smoking', 'Fam_Hist', 'H_Cal_Burn', 'Alcohol_Consump', 'Food_Between_Meals', 'Transport']\n",
    "categs = dict()\n",
    "for feature in categorical_features:\n",
    "    temp, categs_ = map_categorical(x_train[feature])\n",
    "    x_train[feature] = temp\n",
    "    categs[feature] = categs_\n",
    "for feature in categorical_features:\n",
    "    temp, _ = map_categorical(x_val[feature], categs_given=categs[feature])\n",
    "    x_val[feature] = temp"
   ]
  },
  {
   "cell_type": "code",
   "execution_count": 21,
   "metadata": {},
   "outputs": [],
   "source": [
    "# Training\n",
    "naive_bayes_model = MultinomialNB()\n",
    "naive_bayes_model.fit(x_train, y_train)\n",
    "\n",
    "# Prediction\n",
    "naive_bayes_predictions = naive_bayes_model.predict(x_val)"
   ]
  },
  {
   "cell_type": "code",
   "execution_count": 22,
   "metadata": {},
   "outputs": [
    {
     "data": {
      "image/png": "[encoded data removed]",
      "text/plain": [
       "<Figure size 432x288 with 2 Axes>"
      ]
     },
     "metadata": {
      "needs_background": "light"
     },
     "output_type": "display_data"
    }
   ],
   "source": [
    "# Compute the confusion matrix.\n",
    "cm = confusion_matrix(y_val,naive_bayes_predictions)\n",
    "# Plot the confusion matrix.\n",
    "labels = list(set(y_train))\n",
    "labels.sort()\n",
    "sns.heatmap(cm, annot=True, fmt='g', xticklabels=labels, yticklabels=labels)\n",
    "plt.ylabel('Prediction',fontsize=13)\n",
    "plt.xlabel('Actual',fontsize=13)\n",
    "plt.title('Confusion Matrix',fontsize=17)\n",
    "plt.show()"
   ]
  },
  {
   "cell_type": "code",
   "execution_count": 23,
   "metadata": {},
   "outputs": [
    {
     "name": "stdout",
     "output_type": "stream",
     "text": [
      "Accuracy   : 0.7094594594594594\n",
      "Precision : [0.7        0.60869565 0.55681818 0.82068966] Macro Precision : 0.6715508722911272\n",
      "Recall    : [0.82352941 0.33333333 0.6125     0.85      ] Macro Recall    : 0.6548406862745098\n",
      "F1-score  : [0.75675676 0.43076923 0.58333333 0.83508772] Macro F1-score  : 0.6514867600393917\n"
     ]
    }
   ],
   "source": [
    "# Finding the accuracy.\n",
    "accuracy = accuracy_score(y_val,naive_bayes_predictions)\n",
    "print(\"Accuracy   :\", accuracy)\n",
    "\n",
    "# Finding precision and recall\n",
    "precision, recall, F1_score, support = score(y_val,naive_bayes_predictions)\n",
    "print(\"Precision :\", precision, \"Macro Precision :\", sum(precision)/len(precision))\n",
    "print(\"Recall    :\", recall, \"Macro Recall    :\", sum(recall)/len(recall))\n",
    "print(\"F1-score  :\", F1_score, \"Macro F1-score  :\", sum(F1_score)/len(F1_score))"
   ]
  }
 ],
 "metadata": {
  "kernelspec": {
   "display_name": "base",
   "language": "python",
   "name": "python3"
  },
  "language_info": {
   "codemirror_mode": {
    "name": "ipython",
    "version": 3
   },
   "file_extension": ".py",
   "mimetype": "text/x-python",
   "name": "python",
   "nbconvert_exporter": "python",
   "pygments_lexer": "ipython3",
   "version": "3.7.6"
  },
  "orig_nbformat": 4
 },
 "nbformat": 4,
 "nbformat_minor": 2
}
