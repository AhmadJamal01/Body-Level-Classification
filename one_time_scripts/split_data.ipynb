{
 "cells": [
  {
   "cell_type": "code",
   "execution_count": 2,
   "metadata": {},
   "outputs": [],
   "source": [
    "# Import packages\n",
    "import numpy as np\n",
    "import pandas as pd\n",
    "from sklearn.model_selection import train_test_split"
   ]
  },
  {
   "cell_type": "code",
   "execution_count": 3,
   "metadata": {},
   "outputs": [
    {
     "name": "stdout",
     "output_type": "stream",
     "text": [
      "   Gender        Age    Height     Weight H_Cal_Consump  Veg_Consump  \\\n",
      "0  Female  22.547298  1.722461  51.881263           yes     2.663421   \n",
      "1    Male  19.799054  1.743702  54.927529           yes     2.000000   \n",
      "2  Female  17.823438  1.708406  50.000000           yes     1.642241   \n",
      "3  Female  19.007177  1.690727  49.895716           yes     1.212908   \n",
      "4    Male  19.729250  1.793315  58.195150           yes     2.508835   \n",
      "\n",
      "   Water_Consump Alcohol_Consump Smoking  Meal_Count Food_Between_Meals  \\\n",
      "0       1.041110              no      no    3.000000         Frequently   \n",
      "1       2.847264       Sometimes      no    3.289260          Sometimes   \n",
      "2       1.099231       Sometimes      no    3.452590          Sometimes   \n",
      "3       1.029703       Sometimes      no    3.207071          Sometimes   \n",
      "4       2.076933              no      no    3.435905          Sometimes   \n",
      "\n",
      "  Fam_Hist H_Cal_Burn  Phys_Act  Time_E_Dev              Transport  \\\n",
      "0      yes         no  0.794402    1.391948  Public_Transportation   \n",
      "1      yes         no  1.680844    2.000000  Public_Transportation   \n",
      "2       no         no  0.418875    1.000000  Public_Transportation   \n",
      "3       no         no  2.000000    1.000000  Public_Transportation   \n",
      "4      yes         no  2.026668    1.443328             Automobile   \n",
      "\n",
      "     Body_Level  \n",
      "0  Body Level 1  \n",
      "1  Body Level 1  \n",
      "2  Body Level 1  \n",
      "3  Body Level 1  \n",
      "4  Body Level 1  \n"
     ]
    }
   ],
   "source": [
    "# Importing data\n",
    "df = pd.read_csv('../data/body_level_classification_train.csv')\n",
    "# Get head of the data\n",
    "print(df.head())"
   ]
  },
  {
   "cell_type": "code",
   "execution_count": 6,
   "metadata": {},
   "outputs": [],
   "source": [
    "# Specifying what are the features and what is the variable that the data will be classified as.\n",
    "x = df[['Gender','Age','Height','Weight','H_Cal_Consump','Veg_Consump','Water_Consump','Alcohol_Consump','Smoking','Meal_Count','Food_Between_Meals','Fam_Hist','H_Cal_Burn','Phys_Act','Time_E_Dev','Transport']]\n",
    "y = df['Body_Level']"
   ]
  },
  {
   "cell_type": "code",
   "execution_count": 7,
   "metadata": {},
   "outputs": [],
   "source": [
    "# Using the train test split function.\n",
    "x_train_test, x_val, y_train_test, y_val = train_test_split(x,y,test_size=0.2,random_state=1412,shuffle=True)\n",
    "x_train, x_test, y_train, y_test = train_test_split(x_train_test,y_train_test,test_size=0.125,random_state=1412,shuffle=True)"
   ]
  },
  {
   "cell_type": "code",
   "execution_count": 8,
   "metadata": {},
   "outputs": [
    {
     "name": "stdout",
     "output_type": "stream",
     "text": [
      "The training data set contains : 1033 data samples.\n",
      "The validation data set contains : 296 data samples.\n",
      "The test data set contains : 148 data samples.\n"
     ]
    }
   ],
   "source": [
    "# Print the size of each data set.\n",
    "print(\"The training data set contains :\", len(x_train.index),\"data samples.\") \n",
    "print(\"The validation data set contains :\", len(x_val.index),\"data samples.\") \n",
    "print(\"The test data set contains :\", len(x_test.index),\"data samples.\") "
   ]
  },
  {
   "cell_type": "code",
   "execution_count": 13,
   "metadata": {},
   "outputs": [
    {
     "name": "stdout",
     "output_type": "stream",
     "text": [
      "x_train : \n",
      "     Gender        Age    Height     Weight H_Cal_Consump  Veg_Consump  \\\n",
      "579    Male  23.170309  1.707557  75.306702           yes     2.303367   \n",
      "626  Female  39.965474  1.739293  80.914382           yes     2.416044   \n",
      "292  Female  19.000000  1.650000  56.000000           yes     3.000000   \n",
      "502  Female  18.297229  1.637396  70.000000           yes     2.000000   \n",
      "470    Male  18.701766  1.704908  81.384224           yes     2.650629   \n",
      "\n",
      "     Water_Consump Alcohol_Consump Smoking  Meal_Count Food_Between_Meals  \\\n",
      "579       1.277636       Sometimes      no    3.042774          Sometimes   \n",
      "626       1.352649       Sometimes      no    3.196043          Sometimes   \n",
      "292       3.000000      Frequently     yes    3.000000         Frequently   \n",
      "502       2.326165              no      no    1.999014          Sometimes   \n",
      "470       1.708083       Sometimes      no    1.000000          Sometimes   \n",
      "\n",
      "    Fam_Hist H_Cal_Burn  Phys_Act  Time_E_Dev              Transport  \n",
      "579      yes         no  0.944982    0.366126  Public_Transportation  \n",
      "626       no         no  0.148628    1.082660             Automobile  \n",
      "292      yes        yes  1.000000    2.000000  Public_Transportation  \n",
      "502      yes         no  0.007050    0.000000  Public_Transportation  \n",
      "470      yes         no  1.876051    0.938791  Public_Transportation  \n",
      "\n",
      "x_val : \n",
      "     Gender        Age    Height     Weight H_Cal_Consump  Veg_Consump  \\\n",
      "240  Female  18.000000  1.580000  48.000000           yes     2.000000   \n",
      "141    Male  23.000000  1.835643  58.854416           yes     3.000000   \n",
      "657  Female  26.208134  1.700000  78.041338           yes     2.784383   \n",
      "668    Male  23.000000  1.800000  90.000000           yes     1.000000   \n",
      "315  Female  23.000000  1.660000  60.000000            no     2.000000   \n",
      "\n",
      "     Water_Consump Alcohol_Consump Smoking  Meal_Count Food_Between_Meals  \\\n",
      "240       2.000000              no      no         3.0          Sometimes   \n",
      "141       2.027984       Sometimes      no         3.0          Sometimes   \n",
      "657       2.165605      Frequently      no         3.0          Sometimes   \n",
      "668       2.000000      Frequently      no         3.0             Always   \n",
      "315       2.000000       Sometimes      no         3.0          Sometimes   \n",
      "\n",
      "    Fam_Hist H_Cal_Burn  Phys_Act  Time_E_Dev              Transport  \n",
      "240       no         no  1.000000    0.000000  Public_Transportation  \n",
      "141      yes         no  1.661556    0.114716             Automobile  \n",
      "657      yes         no  0.855973    0.839659             Automobile  \n",
      "668      yes         no  0.000000    2.000000  Public_Transportation  \n",
      "315      yes         no  3.000000    0.000000  Public_Transportation  \n",
      "\n",
      "x_test : \n",
      "     Gender        Age    Height      Weight H_Cal_Consump  Veg_Consump  \\\n",
      "1174   Male  31.630054  1.671705   90.000000           yes     2.467002   \n",
      "69     Male  18.038422  1.698914   51.692272           yes     2.824559   \n",
      "221    Male  17.000000  1.690000   60.000000            no     2.000000   \n",
      "876    Male  25.057878  1.763987  113.069667           yes     1.412566   \n",
      "1050   Male  30.493946  1.756221  119.117122           yes     2.619987   \n",
      "\n",
      "      Water_Consump Alcohol_Consump Smoking  Meal_Count Food_Between_Meals  \\\n",
      "1174       2.104054       Sometimes      no    1.851088          Sometimes   \n",
      "69         2.000000       Sometimes      no    3.000000          Sometimes   \n",
      "221        3.000000       Sometimes      no    3.000000          Sometimes   \n",
      "876        2.002495       Sometimes      no    3.000000          Sometimes   \n",
      "1050       2.194746       Sometimes      no    3.000000          Sometimes   \n",
      "\n",
      "     Fam_Hist H_Cal_Burn  Phys_Act  Time_E_Dev              Transport  \n",
      "1174      yes         no  1.991565    0.000000             Automobile  \n",
      "69        yes         no  0.533309    1.099764  Public_Transportation  \n",
      "221        no         no  2.000000    1.000000                Walking  \n",
      "876       yes         no  1.592795    0.001867  Public_Transportation  \n",
      "1050      yes         no  1.076926    1.090995             Automobile  \n"
     ]
    }
   ],
   "source": [
    "# Printing out train, validation and test sets.\n",
    "print('x_train : ')\n",
    "print(x_train.head())\n",
    "print('')\n",
    "print('x_val : ')\n",
    "print(x_val.head())\n",
    "print('')\n",
    "print('x_test : ')\n",
    "print(x_test.head())"
   ]
  },
  {
   "cell_type": "code",
   "execution_count": 14,
   "metadata": {},
   "outputs": [
    {
     "name": "stdout",
     "output_type": "stream",
     "text": [
      "y_train : \n",
      "579    Body Level 3\n",
      "626    Body Level 3\n",
      "292    Body Level 2\n",
      "502    Body Level 3\n",
      "470    Body Level 3\n",
      "Name: Body_Level, dtype: object\n",
      "\n",
      "y_val : \n",
      "240    Body Level 2\n",
      "141    Body Level 1\n",
      "657    Body Level 3\n",
      "668    Body Level 3\n",
      "315    Body Level 2\n",
      "Name: Body_Level, dtype: object\n",
      "\n",
      "y_test : \n",
      "1174    Body Level 4\n",
      "69      Body Level 1\n",
      "221     Body Level 2\n",
      "876     Body Level 4\n",
      "1050    Body Level 4\n",
      "Name: Body_Level, dtype: object\n"
     ]
    }
   ],
   "source": [
    "print('y_train : ')\n",
    "print(y_train.head())\n",
    "print('')\n",
    "print('y_val : ')\n",
    "print(y_val.head())\n",
    "print('')\n",
    "print('y_test : ')\n",
    "print(y_test.head())"
   ]
  },
  {
   "cell_type": "code",
   "execution_count": 15,
   "metadata": {},
   "outputs": [],
   "source": [
    "# Export training data set as csv.\n",
    "train_set = x_train.copy()\n",
    "train_set['Body_Level'] = y_train\n",
    "train_set.to_csv('../data/train.csv', index=False)"
   ]
  },
  {
   "cell_type": "code",
   "execution_count": 16,
   "metadata": {},
   "outputs": [],
   "source": [
    "# Export validation data set as csv.\n",
    "val_set = x_val.copy()\n",
    "val_set['Body_Level'] = y_val\n",
    "val_set.to_csv('../data/val.csv', index=False)"
   ]
  },
  {
   "cell_type": "code",
   "execution_count": 17,
   "metadata": {},
   "outputs": [],
   "source": [
    "# Export test data set as csv.\n",
    "test_set = x_test.copy()\n",
    "test_set['Body_Level'] = y_test\n",
    "test_set.to_csv('../data/test.csv', index=False)"
   ]
  }
 ],
 "metadata": {
  "kernelspec": {
   "display_name": "base",
   "language": "python",
   "name": "python3"
  },
  "language_info": {
   "codemirror_mode": {
    "name": "ipython",
    "version": 3
   },
   "file_extension": ".py",
   "mimetype": "text/x-python",
   "name": "python",
   "nbconvert_exporter": "python",
   "pygments_lexer": "ipython3",
   "version": "3.7.6"
  },
  "orig_nbformat": 4
 },
 "nbformat": 4,
 "nbformat_minor": 2
}
