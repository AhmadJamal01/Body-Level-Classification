{
 "cells": [
  {
   "cell_type": "code",
   "execution_count": 1,
   "metadata": {},
   "outputs": [],
   "source": [
    "# Import packages\n",
    "import numpy as np\n",
    "import pandas as pd\n",
    "from sklearn.model_selection import train_test_split"
   ]
  },
  {
   "cell_type": "code",
   "execution_count": 3,
   "metadata": {},
   "outputs": [
    {
     "name": "stdout",
     "output_type": "stream",
     "text": [
      "   Gender        Age    Height     Weight H_Cal_Consump  Veg_Consump  \\\n",
      "0  Female  22.547298  1.722461  51.881263           yes     2.663421   \n",
      "1    Male  19.799054  1.743702  54.927529           yes     2.000000   \n",
      "2  Female  17.823438  1.708406  50.000000           yes     1.642241   \n",
      "3  Female  19.007177  1.690727  49.895716           yes     1.212908   \n",
      "4    Male  19.729250  1.793315  58.195150           yes     2.508835   \n",
      "\n",
      "   Water_Consump Alcohol_Consump Smoking  Meal_Count Food_Between_Meals  \\\n",
      "0       1.041110              no      no    3.000000         Frequently   \n",
      "1       2.847264       Sometimes      no    3.289260          Sometimes   \n",
      "2       1.099231       Sometimes      no    3.452590          Sometimes   \n",
      "3       1.029703       Sometimes      no    3.207071          Sometimes   \n",
      "4       2.076933              no      no    3.435905          Sometimes   \n",
      "\n",
      "  Fam_Hist H_Cal_Burn  Phys_Act  Time_E_Dev              Transport  \\\n",
      "0      yes         no  0.794402    1.391948  Public_Transportation   \n",
      "1      yes         no  1.680844    2.000000  Public_Transportation   \n",
      "2       no         no  0.418875    1.000000  Public_Transportation   \n",
      "3       no         no  2.000000    1.000000  Public_Transportation   \n",
      "4      yes         no  2.026668    1.443328             Automobile   \n",
      "\n",
      "     Body_Level  \n",
      "0  Body Level 1  \n",
      "1  Body Level 1  \n",
      "2  Body Level 1  \n",
      "3  Body Level 1  \n",
      "4  Body Level 1  \n"
     ]
    }
   ],
   "source": [
    "# Importing data\n",
    "df = pd.read_csv('../data/body_level_classification_train.csv')\n",
    "# Get head of the data\n",
    "print(df.head())"
   ]
  },
  {
   "cell_type": "code",
   "execution_count": 6,
   "metadata": {},
   "outputs": [],
   "source": [
    "# Specifying what are the features and what is the variable that the data will be classified as.\n",
    "x = df[['Gender','Age','Height','Weight','H_Cal_Consump','Veg_Consump','Water_Consump','Alcohol_Consump','Smoking','Meal_Count','Food_Between_Meals','Fam_Hist','H_Cal_Burn','Phys_Act','Time_E_Dev','Transport']]\n",
    "y = df['Body_Level']"
   ]
  },
  {
   "cell_type": "code",
   "execution_count": 7,
   "metadata": {},
   "outputs": [],
   "source": [
    "# Using the train test split function.\n",
    "x_train, x_val, y_train, y_val = train_test_split(x,y,test_size=0.2,shuffle=True)"
   ]
  },
  {
   "cell_type": "code",
   "execution_count": 12,
   "metadata": {},
   "outputs": [
    {
     "name": "stdout",
     "output_type": "stream",
     "text": [
      "The training data set contains : 1181 data samples.\n",
      "The vallidation data set contains : 296 data samples.\n"
     ]
    }
   ],
   "source": [
    "# Print the size of each data set.\n",
    "print(\"The training data set contains :\", len(x_train.index),\"data samples.\") \n",
    "print(\"The vallidation data set contains :\", len(x_val.index),\"data samples.\") "
   ]
  },
  {
   "cell_type": "code",
   "execution_count": 9,
   "metadata": {},
   "outputs": [
    {
     "name": "stdout",
     "output_type": "stream",
     "text": [
      "x_train : \n",
      "      Gender        Age    Height      Weight H_Cal_Consump  Veg_Consump  \\\n",
      "575     Male  25.785925  1.818848   87.032398           yes     2.286481   \n",
      "922     Male  25.994746  1.811602  106.042142           yes     3.000000   \n",
      "773     Male  46.491859  1.718097   88.600878           yes     2.129969   \n",
      "383   Female  16.000000  1.570000   49.000000           yes     2.000000   \n",
      "1201  Female  40.654155  1.529060   79.760922           yes     2.000000   \n",
      "\n",
      "      Water_Consump Alcohol_Consump Smoking  Meal_Count Food_Between_Meals  \\\n",
      "575        1.797161              no      no    1.713762          Sometimes   \n",
      "922        2.858171       Sometimes      no    3.000000          Sometimes   \n",
      "773        1.568035              no      no    3.000000          Sometimes   \n",
      "383        2.000000       Sometimes      no    4.000000             Always   \n",
      "1201       1.000000       Sometimes      no    3.000000          Sometimes   \n",
      "\n",
      "     Fam_Hist H_Cal_Burn  Phys_Act  Time_E_Dev              Transport  \n",
      "575        no         no  1.658698    0.926581             Automobile  \n",
      "922       yes         no  1.813318    0.680215  Public_Transportation  \n",
      "773       yes         no  0.870127    0.000000             Automobile  \n",
      "383        no         no  0.000000    1.000000  Public_Transportation  \n",
      "1201      yes         no  0.000000    0.000000             Automobile  \n",
      "\n",
      "x_val : \n",
      "      Gender        Age    Height      Weight H_Cal_Consump  Veg_Consump  \\\n",
      "506     Male  19.114981  1.855543   88.965521           yes          2.0   \n",
      "206     Male  21.000000  1.670000   60.000000           yes          2.0   \n",
      "1190  Female  25.908431  1.607128  103.026858           yes          3.0   \n",
      "982   Female  26.000000  1.622701  109.982692           yes          3.0   \n",
      "1116  Female  36.000000  1.630000   80.000000            no          3.0   \n",
      "\n",
      "      Water_Consump Alcohol_Consump Smoking  Meal_Count Food_Between_Meals  \\\n",
      "506        1.015677       Sometimes      no         3.0          Sometimes   \n",
      "206        2.000000       Sometimes      no         3.0         Frequently   \n",
      "1190       1.077253       Sometimes      no         3.0          Sometimes   \n",
      "982        2.688229       Sometimes      no         3.0          Sometimes   \n",
      "1116       1.000000       Sometimes      no         3.0          Sometimes   \n",
      "\n",
      "     Fam_Hist H_Cal_Burn  Phys_Act  Time_E_Dev              Transport  \n",
      "506       yes         no  0.000000    0.374650  Public_Transportation  \n",
      "206       yes         no  2.000000    1.000000  Public_Transportation  \n",
      "1190      yes         no  0.162083    0.824607  Public_Transportation  \n",
      "982       yes         no  0.000000    0.451377  Public_Transportation  \n",
      "1116      yes         no  0.000000    0.000000             Automobile  \n"
     ]
    }
   ],
   "source": [
    "# Printing out train and validation sets.\n",
    "print('x_train : ')\n",
    "print(x_train.head())\n",
    "print('')\n",
    "print('x_val : ')\n",
    "print(x_val.head())"
   ]
  },
  {
   "cell_type": "code",
   "execution_count": 10,
   "metadata": {},
   "outputs": [
    {
     "name": "stdout",
     "output_type": "stream",
     "text": [
      "y_train : \n",
      "575     Body Level 3\n",
      "922     Body Level 4\n",
      "773     Body Level 3\n",
      "383     Body Level 2\n",
      "1201    Body Level 4\n",
      "Name: Body_Level, dtype: object\n",
      "\n",
      "y_val : \n",
      "506     Body Level 3\n",
      "206     Body Level 2\n",
      "1190    Body Level 4\n",
      "982     Body Level 4\n",
      "1116    Body Level 4\n",
      "Name: Body_Level, dtype: object\n"
     ]
    }
   ],
   "source": [
    "print('y_train : ')\n",
    "print(y_train.head())\n",
    "print('')\n",
    "print('y_val : ')\n",
    "print(y_val.head())"
   ]
  },
  {
   "cell_type": "code",
   "execution_count": 19,
   "metadata": {},
   "outputs": [],
   "source": [
    "# Export training data set as csv.\n",
    "train_set = x_train.copy()\n",
    "train_set['Body_Level'] = y_train\n",
    "train_set.to_csv('../data/train.csv', index=False)"
   ]
  },
  {
   "cell_type": "code",
   "execution_count": 20,
   "metadata": {},
   "outputs": [],
   "source": [
    "# Export validation data set as csv.\n",
    "val_set = x_val.copy()\n",
    "val_set['Body_Level'] = y_val\n",
    "val_set.to_csv('../data/val.csv', index=False)"
   ]
  }
 ],
 "metadata": {
  "kernelspec": {
   "display_name": "base",
   "language": "python",
   "name": "python3"
  },
  "language_info": {
   "codemirror_mode": {
    "name": "ipython",
    "version": 3
   },
   "file_extension": ".py",
   "mimetype": "text/x-python",
   "name": "python",
   "nbconvert_exporter": "python",
   "pygments_lexer": "ipython3",
   "version": "3.7.6"
  },
  "orig_nbformat": 4
 },
 "nbformat": 4,
 "nbformat_minor": 2
}
