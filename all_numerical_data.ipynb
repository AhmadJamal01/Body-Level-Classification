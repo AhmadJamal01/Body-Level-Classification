{
 "cells": [
  {
   "cell_type": "code",
   "execution_count": 3,
   "metadata": {},
   "outputs": [],
   "source": [
    "# Import packages\n",
    "import numpy as np\n",
    "import pandas as pd\n",
    "import seaborn as sns\n",
    "import matplotlib.pyplot as plt\n",
    "from sklearn.metrics import confusion_matrix\n",
    "from sklearn.metrics import accuracy_score, precision_score, recall_score, f1_score\n",
    "from sklearn.metrics import precision_recall_fscore_support as score\n",
    "import os"
   ]
  },
  {
   "cell_type": "code",
   "execution_count": 4,
   "metadata": {},
   "outputs": [],
   "source": [
    "# Importing data (Note that the path is configured to work when running this file from an ipynb in the models folder only)\n",
    "# if the os is windows, change the path to the data folder\n",
    "if os.name == 'nt':\n",
    "    os.chdir(os.path.dirname(os.path.abspath(__file__)))\n",
    "df = pd.read_csv('data/train.csv')\n",
    "df_val = pd.read_csv('data/val.csv')"
   ]
  },
  {
   "cell_type": "code",
   "execution_count": 5,
   "metadata": {},
   "outputs": [],
   "source": [
    "# Convert all categorical features to numerical ones.\n",
    "numerical_features = ['Age', 'Height', 'Weight', 'Veg_Consump', 'Water_Consump', 'Meal_Count', 'Phys_Act', 'Time_E_Dev']\n",
    "df_numerical = pd.DataFrame()\n",
    "df_numerical[numerical_features] = df[numerical_features]\n",
    "df_numerical['Gender'] = df['Gender'].map({\"Female\" : 0, \"Male\" : 1})\n",
    "binary_categorical_features = ['H_Cal_Consump', 'Smoking', 'Fam_Hist', 'H_Cal_Burn'] # Yes or no\n",
    "for feature in binary_categorical_features:\n",
    "    df_numerical[feature] = df[feature].map({\"no\" : 0, \"yes\" : 1})\n",
    "multi_categorical_features = ['Alcohol_Consump', 'Food_Between_Meals', 'Transport']\n",
    "for feature in multi_categorical_features:\n",
    "    values = (list(set(df[feature])))\n",
    "    for value in values:\n",
    "        df_numerical[feature+\"_\"+value] = df[feature].map(lambda x: 1 if x==value else 0)\n",
    "df_numerical['Body_Level'] = df['Body_Level']"
   ]
  },
  {
   "cell_type": "code",
   "execution_count": 6,
   "metadata": {},
   "outputs": [],
   "source": [
    "# Convert all categorical features to numerical ones. (for validation set)\n",
    "numerical_features = ['Age', 'Height', 'Weight', 'Veg_Consump', 'Water_Consump', 'Meal_Count', 'Phys_Act', 'Time_E_Dev']\n",
    "df_numerical_val = pd.DataFrame()\n",
    "df_numerical_val[numerical_features] = df_val[numerical_features]\n",
    "df_numerical_val['Gender'] = df_val['Gender'].map({\"Female\" : 0, \"Male\" : 1})\n",
    "binary_categorical_features = ['H_Cal_Consump', 'Smoking', 'Fam_Hist', 'H_Cal_Burn'] # Yes or no\n",
    "for feature in binary_categorical_features:\n",
    "    df_numerical_val[feature] = df_val[feature].map({\"no\" : 0, \"yes\" : 1})\n",
    "multi_categorical_features = ['Alcohol_Consump', 'Food_Between_Meals', 'Transport']\n",
    "for feature in multi_categorical_features:\n",
    "    values = (list(set(df_val[feature])))\n",
    "    for value in values:\n",
    "        df_numerical_val[feature+\"_\"+value] = df_val[feature].map(lambda x: 1 if x==value else 0)\n",
    "df_numerical_val['Body_Level'] = df_val['Body_Level']"
   ]
  },
  {
   "cell_type": "code",
   "execution_count": 7,
   "metadata": {},
   "outputs": [],
   "source": [
    "features = list(df_numerical.columns.array)\n",
    "features.reverse()\n",
    "label = features.pop(0)\n",
    "features.reverse()\n",
    "# An extra step done for the validation set since it may not contain all the categories of a specific attribute due to its smaller size.\n",
    "for feature in features:\n",
    "    if feature not in list(df_numerical_val.columns.array):\n",
    "        df_numerical_val[feature] = 0"
   ]
  },
  {
   "cell_type": "code",
   "execution_count": 8,
   "metadata": {},
   "outputs": [],
   "source": [
    "x_train = df_numerical[features]\n",
    "y_train = df_numerical['Body_Level']\n",
    "x_val = df_numerical_val[features]\n",
    "y_val = df_numerical_val['Body_Level']"
   ]
  }
 ],
 "metadata": {
  "kernelspec": {
   "display_name": "Python 3",
   "language": "python",
   "name": "python3"
  },
  "language_info": {
   "codemirror_mode": {
    "name": "ipython",
    "version": 3
   },
   "file_extension": ".py",
   "mimetype": "text/x-python",
   "name": "python",
   "nbconvert_exporter": "python",
   "pygments_lexer": "ipython3",
   "version": "3.8.5"
  },
  "orig_nbformat": 4,
  "vscode": {
   "interpreter": {
    "hash": "0eefc6a63c6d719296cee5685f23fefb92aa63e2e9fdaf52ddbdc4ce266c7bb3"
   }
  }
 },
 "nbformat": 4,
 "nbformat_minor": 2
}
