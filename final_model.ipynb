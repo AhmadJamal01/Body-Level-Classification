{
 "cells": [
  {
   "cell_type": "code",
   "execution_count": 30,
   "metadata": {},
   "outputs": [],
   "source": [
    "import pandas as pd\n",
    "import pickle\n"
   ]
  },
  {
   "cell_type": "code",
   "execution_count": 31,
   "metadata": {},
   "outputs": [],
   "source": [
    "from sklearn.ensemble import AdaBoostClassifier\n",
    "from sklearn.tree import DecisionTreeClassifier\n",
    "from sklearn.model_selection import GridSearchCV\n",
    "from sklearn.model_selection import learning_curve\n",
    "import matplotlib.pyplot as plt\n",
    "import numpy as np\n",
    "import pandas as pd\n",
    "from sklearn.model_selection import train_test_split\n",
    "from sklearn.metrics import classification_report\n",
    "from sklearn.metrics import accuracy_score"
   ]
  },
  {
   "cell_type": "code",
   "execution_count": 34,
   "metadata": {},
   "outputs": [],
   "source": [
    "def perform_inference():\n",
    "    # Load the model\n",
    "    with open('model.pkl', 'rb') as f:\n",
    "        model = pickle.load(f)\n",
    "\n",
    "    # Load the test data\n",
    "    df = pd.read_csv('data/test.csv')\n",
    "\n",
    "    # df_test = convert_to_numerical(test_data)\n",
    "\n",
    "    features = ['Age', 'Height', 'Weight', 'Veg_Consump', 'Water_Consump', 'Meal_Count',\n",
    "       'Phys_Act', 'Time_E_Dev', 'Gender', 'H_Cal_Consump', 'Smoking',\n",
    "       'Fam_Hist', 'H_Cal_Burn', 'Alcohol_Consump_Sometimes',\n",
    "       'Alcohol_Consump_Frequently', 'Alcohol_Consump_Always',\n",
    "       'Alcohol_Consump_no', 'Food_Between_Meals_Sometimes',\n",
    "       'Food_Between_Meals_Frequently', 'Food_Between_Meals_no',\n",
    "       'Food_Between_Meals_Always', 'Transport_Public_Transportation',\n",
    "       'Transport_Motorbike', 'Transport_Bike', 'Transport_Automobile',\n",
    "       'Transport_Walking']\n",
    "\n",
    "    numerical_features = ['Age', 'Height', 'Weight', 'Veg_Consump', 'Water_Consump', 'Meal_Count', 'Phys_Act', 'Time_E_Dev']\n",
    "    df_numerical = pd.DataFrame()\n",
    "    df_numerical[numerical_features] = df[numerical_features]\n",
    "    df_numerical['Gender'] = df['Gender'].map({\"Female\" : 0, \"Male\" : 1})\n",
    "    binary_categorical_features = ['H_Cal_Consump', 'Smoking', 'Fam_Hist', 'H_Cal_Burn'] # Yes or no\n",
    "    for feature in binary_categorical_features:\n",
    "        df_numerical[feature] = df[feature].map({\"no\" : 0, \"yes\" : 1})\n",
    "    multi_categorical_features = ['Alcohol_Consump', 'Food_Between_Meals', 'Transport']\n",
    "    for feature in multi_categorical_features:\n",
    "        values = sorted(list(set(df[feature])))\n",
    "        for value in values:\n",
    "            df_numerical[feature+\"_\"+value] = df[feature].map(lambda x: 1 if x==value else 0)\n",
    "\n",
    "\n",
    "    # An extra step done for the validation set since it may not contain all the categories of a specific attribute due to its smaller size.\n",
    "    for feature in features:\n",
    "        if feature not in list(df_numerical.columns.array):\n",
    "            df_numerical[feature] = 0\n",
    "\n",
    "    df_numerical = df_numerical.reindex(sorted(df_numerical.columns), axis=1)\n",
    "    features = sorted(features)\n",
    "    \n",
    "\n",
    "    x_test = df_numerical[features]\n",
    "    # print(x_test.columns)'\n",
    "    y_test = df['Body_Level']\n",
    "    # Make predictions\n",
    "    preds = model.predict(x_test)\n",
    "\n",
    "    return preds, y_test\n",
    "    # # Save predictions to a text file\n",
    "    # with open('preds.txt', 'w') as f:\n",
    "    #     for pred in preds:\n",
    "    #         f.write(str(pred) + '\\n')"
   ]
  },
  {
   "cell_type": "code",
   "execution_count": 35,
   "metadata": {},
   "outputs": [],
   "source": [
    "preds, y_test = perform_inference()"
   ]
  },
  {
   "cell_type": "code",
   "execution_count": 36,
   "metadata": {},
   "outputs": [
    {
     "name": "stdout",
     "output_type": "stream",
     "text": [
      "              precision    recall  f1-score   support\n",
      "\n",
      "Body Level 1       1.00      1.00      1.00        14\n",
      "Body Level 2       1.00      1.00      1.00        24\n",
      "Body Level 3       0.98      1.00      0.99        42\n",
      "Body Level 4       1.00      0.99      0.99        68\n",
      "\n",
      "    accuracy                           0.99       148\n",
      "   macro avg       0.99      1.00      1.00       148\n",
      "weighted avg       0.99      0.99      0.99       148\n",
      "\n"
     ]
    }
   ],
   "source": [
    "print(classification_report(y_test, preds))"
   ]
  },
  {
   "cell_type": "code",
   "execution_count": 37,
   "metadata": {},
   "outputs": [
    {
     "name": "stdout",
     "output_type": "stream",
     "text": [
      "              precision    recall  f1-score   support\n",
      "\n",
      "Body Level 1       1.00      1.00      1.00        14\n",
      "Body Level 2       1.00      1.00      1.00        24\n",
      "Body Level 3       0.98      1.00      0.99        42\n",
      "Body Level 4       1.00      0.99      0.99        68\n",
      "\n",
      "    accuracy                           0.99       148\n",
      "   macro avg       0.99      1.00      1.00       148\n",
      "weighted avg       0.99      0.99      0.99       148\n",
      "\n"
     ]
    }
   ],
   "source": [
    "# read from inference/preds.txt\n",
    "import pandas as pd\n",
    "import pickle\n",
    "with open('./inference/preds.txt', 'r') as f:\n",
    "    preds = f.readlines()\n",
    "\n",
    "preds_read = [(pred.strip()) for pred in preds]\n",
    "\n",
    "#compare with the actual labels\n",
    "print(classification_report(y_test, preds_read))"
   ]
  }
 ],
 "metadata": {
  "kernelspec": {
   "display_name": "Python 3",
   "language": "python",
   "name": "python3"
  },
  "language_info": {
   "codemirror_mode": {
    "name": "ipython",
    "version": 3
   },
   "file_extension": ".py",
   "mimetype": "text/x-python",
   "name": "python",
   "nbconvert_exporter": "python",
   "pygments_lexer": "ipython3",
   "version": "3.9.0"
  },
  "orig_nbformat": 4
 },
 "nbformat": 4,
 "nbformat_minor": 2
}
